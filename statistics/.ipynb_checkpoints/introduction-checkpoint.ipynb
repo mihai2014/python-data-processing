{
 "cells": [
  {
   "cell_type": "markdown",
   "metadata": {},
   "source": [
    "<b>Introduction: elementary statistics in python</b>"
   ]
  },
  {
   "cell_type": "code",
   "execution_count": 1,
   "metadata": {},
   "outputs": [
    {
     "name": "stdout",
     "output_type": "stream",
     "text": [
      "['data.csv', 'test.csv', 'test2.csv', 'melb_data.csv.zip', 'melb_data.csv', 'matches.csv', 'deliveries.csv.zip', 'deliveries.csv', 'data1.csv', 'el1.csv', 'social_deltas.csv', 'AEP_hourly.csv', 'social_totals_agg.csv', 'social_totals.csv', 'airports.csv', 'airport-frequencies.csv', 'runways.csv', 'navaids.csv', 'countries.csv', 'regions.csv', 'airports.txt']\n"
     ]
    }
   ],
   "source": [
    "import numpy as np # linear algebra\n",
    "import pandas as pd # data processing, CSV file I/O (e.g. pd.read_csv)\n",
    "\n",
    "import os\n",
    "print(os.listdir(\"../input\")) #listing data files"
   ]
  },
  {
   "cell_type": "code",
   "execution_count": 2,
   "metadata": {},
   "outputs": [
    {
     "name": "stdout",
     "output_type": "stream",
     "text": [
      "['seaborn-ticks', 'ggplot', 'dark_background', 'bmh', 'seaborn-poster', 'seaborn-notebook', 'fast', 'seaborn', 'classic', 'Solarize_Light2', 'seaborn-dark', 'seaborn-pastel', 'seaborn-muted', '_classic_test', 'seaborn-paper', 'seaborn-colorblind', 'seaborn-bright', 'seaborn-talk', 'seaborn-dark-palette', 'tableau-colorblind10', 'seaborn-darkgrid', 'seaborn-whitegrid', 'fivethirtyeight', 'grayscale', 'seaborn-white', 'seaborn-deep']\n"
     ]
    }
   ],
   "source": [
    "import matplotlib.pyplot as plt\n",
    "print(plt.style.available) # look at available plot styles"
   ]
  },
  {
   "cell_type": "code",
   "execution_count": 3,
   "metadata": {},
   "outputs": [],
   "source": [
    "#emulates the aesthetics of ggplot\n",
    "plt.style.use(\"ggplot\")\n",
    "from operator import attrgetter"
   ]
  },
  {
   "cell_type": "markdown",
   "metadata": {},
   "source": [
    "# Frequency distributions"
   ]
  },
  {
   "cell_type": "code",
   "execution_count": 4,
   "metadata": {},
   "outputs": [],
   "source": [
    "#data list indicating preference (notes) in interval [1,6]\n",
    "data1 = pd.DataFrame({\"preferences\":[4,6,2,2,1,2,3,2,4,4]})"
   ]
  },
  {
   "cell_type": "code",
   "execution_count": 5,
   "metadata": {},
   "outputs": [
    {
     "data": {
      "text/plain": [
       "1    1\n",
       "2    4\n",
       "3    1\n",
       "4    3\n",
       "6    1\n",
       "Name: preferences, dtype: int64"
      ]
     },
     "execution_count": 5,
     "metadata": {},
     "output_type": "execute_result"
    }
   ],
   "source": [
    "fv1 = data1[\"preferences\"].value_counts(sort=False)  #fv1 is a series\n",
    "#1st column (indicating notes is the index of the series)\n",
    "fv1"
   ]
  },
  {
   "cell_type": "code",
   "execution_count": 6,
   "metadata": {},
   "outputs": [
    {
     "data": {
      "text/html": [
       "<div>\n",
       "<style scoped>\n",
       "    .dataframe tbody tr th:only-of-type {\n",
       "        vertical-align: middle;\n",
       "    }\n",
       "\n",
       "    .dataframe tbody tr th {\n",
       "        vertical-align: top;\n",
       "    }\n",
       "\n",
       "    .dataframe thead th {\n",
       "        text-align: right;\n",
       "    }\n",
       "</style>\n",
       "<table border=\"1\" class=\"dataframe\">\n",
       "  <thead>\n",
       "    <tr style=\"text-align: right;\">\n",
       "      <th></th>\n",
       "      <th>notes</th>\n",
       "      <th>frequence</th>\n",
       "    </tr>\n",
       "  </thead>\n",
       "  <tbody>\n",
       "    <tr>\n",
       "      <th>0</th>\n",
       "      <td>1</td>\n",
       "      <td>1</td>\n",
       "    </tr>\n",
       "    <tr>\n",
       "      <th>1</th>\n",
       "      <td>2</td>\n",
       "      <td>4</td>\n",
       "    </tr>\n",
       "    <tr>\n",
       "      <th>2</th>\n",
       "      <td>3</td>\n",
       "      <td>1</td>\n",
       "    </tr>\n",
       "    <tr>\n",
       "      <th>3</th>\n",
       "      <td>4</td>\n",
       "      <td>3</td>\n",
       "    </tr>\n",
       "    <tr>\n",
       "      <th>4</th>\n",
       "      <td>6</td>\n",
       "      <td>1</td>\n",
       "    </tr>\n",
       "  </tbody>\n",
       "</table>\n",
       "</div>"
      ],
      "text/plain": [
       "   notes  frequence\n",
       "0      1          1\n",
       "1      2          4\n",
       "2      3          1\n",
       "3      4          3\n",
       "4      6          1"
      ]
     },
     "execution_count": 6,
     "metadata": {},
     "output_type": "execute_result"
    }
   ],
   "source": [
    "#making data look nice: create data frame from series above\n",
    "notes = pd.DataFrame({\"notes\":fv1.index,\"frequence\":fv1.values},index=range(len(fv1)))\n",
    "notes"
   ]
  },
  {
   "cell_type": "code",
   "execution_count": 7,
   "metadata": {},
   "outputs": [
    {
     "data": {
      "image/png": "[encoded data removed]",
      "text/plain": [
       "<Figure size 432x288 with 1 Axes>"
      ]
     },
     "metadata": {},
     "output_type": "display_data"
    }
   ],
   "source": [
    "plt = notes.frequence.plot.bar()"
   ]
  },
  {
   "cell_type": "code",
   "execution_count": 8,
   "metadata": {},
   "outputs": [],
   "source": [
    "#Let's calculate frequency distributions of another data set using intervals of data\n",
    "mylist = [20,18,6,24,33,9,10,19,27,33,22,17,19,31,25,21,28,13,21,12,33,23,18,13,7,16,7,26]\n",
    "\n",
    "#create dataframe from the list above\n",
    "data2 = pd.DataFrame( {'values':mylist} )"
   ]
  },
  {
   "cell_type": "code",
   "execution_count": 9,
   "metadata": {},
   "outputs": [
    {
     "name": "stdout",
     "output_type": "stream",
     "text": [
      "(3.999, 9.0]    4\n",
      "(9.0, 14.0]     4\n",
      "(14.0, 19.0]    6\n",
      "(19.0, 24.0]    6\n",
      "(24.0, 29.0]    4\n",
      "(29.0, 34.0]    4\n",
      "Name: values, dtype: int64\n"
     ]
    }
   ],
   "source": [
    "#defining explicit intervals of classification\n",
    "fv2 = data2[\"values\"].value_counts(sort=False,bins=[4,9,14,19,24,29,34])\n",
    "print(fv2)"
   ]
  },
  {
   "cell_type": "code",
   "execution_count": 10,
   "metadata": {},
   "outputs": [
    {
     "name": "stdout",
     "output_type": "stream",
     "text": [
      "min = 6 max = 33\n"
     ]
    }
   ],
   "source": [
    "#or calculate width\n",
    "max = np.max(data2['values'])\n",
    "min = np.min(data2['values'])\n",
    "print(\"min =\",min,\"max =\",max)"
   ]
  },
  {
   "cell_type": "code",
   "execution_count": 11,
   "metadata": {},
   "outputs": [
    {
     "data": {
      "text/plain": [
       "(3.999, 9.0]    4\n",
       "(9.0, 14.0]     4\n",
       "(14.0, 19.0]    6\n",
       "(19.0, 24.0]    6\n",
       "(24.0, 29.0]    4\n",
       "(29.0, 34.0]    4\n",
       "Name: values, dtype: int64"
      ]
     },
     "execution_count": 11,
     "metadata": {},
     "output_type": "execute_result"
    }
   ],
   "source": [
    "fv2 = data2[\"values\"].value_counts(sort=False,bins=range(4,35,5))\n",
    "fv2"
   ]
  },
  {
   "cell_type": "code",
   "execution_count": 12,
   "metadata": {},
   "outputs": [
    {
     "data": {
      "text/html": [
       "<div>\n",
       "<style scoped>\n",
       "    .dataframe tbody tr th:only-of-type {\n",
       "        vertical-align: middle;\n",
       "    }\n",
       "\n",
       "    .dataframe tbody tr th {\n",
       "        vertical-align: top;\n",
       "    }\n",
       "\n",
       "    .dataframe thead th {\n",
       "        text-align: right;\n",
       "    }\n",
       "</style>\n",
       "<table border=\"1\" class=\"dataframe\">\n",
       "  <thead>\n",
       "    <tr style=\"text-align: right;\">\n",
       "      <th></th>\n",
       "      <th>intervals</th>\n",
       "      <th>f</th>\n",
       "    </tr>\n",
       "  </thead>\n",
       "  <tbody>\n",
       "    <tr>\n",
       "      <th>0</th>\n",
       "      <td>(3.999, 9.0]</td>\n",
       "      <td>4</td>\n",
       "    </tr>\n",
       "    <tr>\n",
       "      <th>1</th>\n",
       "      <td>(9.0, 14.0]</td>\n",
       "      <td>4</td>\n",
       "    </tr>\n",
       "    <tr>\n",
       "      <th>2</th>\n",
       "      <td>(14.0, 19.0]</td>\n",
       "      <td>6</td>\n",
       "    </tr>\n",
       "    <tr>\n",
       "      <th>3</th>\n",
       "      <td>(19.0, 24.0]</td>\n",
       "      <td>6</td>\n",
       "    </tr>\n",
       "    <tr>\n",
       "      <th>4</th>\n",
       "      <td>(24.0, 29.0]</td>\n",
       "      <td>4</td>\n",
       "    </tr>\n",
       "    <tr>\n",
       "      <th>5</th>\n",
       "      <td>(29.0, 34.0]</td>\n",
       "      <td>4</td>\n",
       "    </tr>\n",
       "  </tbody>\n",
       "</table>\n",
       "</div>"
      ],
      "text/plain": [
       "      intervals  f\n",
       "0  (3.999, 9.0]  4\n",
       "1   (9.0, 14.0]  4\n",
       "2  (14.0, 19.0]  6\n",
       "3  (19.0, 24.0]  6\n",
       "4  (24.0, 29.0]  4\n",
       "5  (29.0, 34.0]  4"
      ]
     },
     "execution_count": 12,
     "metadata": {},
     "output_type": "execute_result"
    }
   ],
   "source": [
    "#convert series result to a dataframe\n",
    "table1 = pd.DataFrame({\"intervals\":fv2.index,\"f\":fv2.values},index=range(len(fv2)))\n",
    "table1"
   ]
  },
  {
   "cell_type": "code",
   "execution_count": 13,
   "metadata": {},
   "outputs": [
    {
     "data": {
      "text/html": [
       "<div>\n",
       "<style scoped>\n",
       "    .dataframe tbody tr th:only-of-type {\n",
       "        vertical-align: middle;\n",
       "    }\n",
       "\n",
       "    .dataframe tbody tr th {\n",
       "        vertical-align: top;\n",
       "    }\n",
       "\n",
       "    .dataframe thead th {\n",
       "        text-align: right;\n",
       "    }\n",
       "</style>\n",
       "<table border=\"1\" class=\"dataframe\">\n",
       "  <thead>\n",
       "    <tr style=\"text-align: right;\">\n",
       "      <th></th>\n",
       "      <th>intervals</th>\n",
       "      <th>f</th>\n",
       "      <th>F</th>\n",
       "      <th>f%</th>\n",
       "      <th>F%</th>\n",
       "    </tr>\n",
       "  </thead>\n",
       "  <tbody>\n",
       "    <tr>\n",
       "      <th>0</th>\n",
       "      <td>(3.999, 9.0]</td>\n",
       "      <td>4</td>\n",
       "      <td>4</td>\n",
       "      <td>14.285714</td>\n",
       "      <td>14.285714</td>\n",
       "    </tr>\n",
       "    <tr>\n",
       "      <th>1</th>\n",
       "      <td>(9.0, 14.0]</td>\n",
       "      <td>4</td>\n",
       "      <td>8</td>\n",
       "      <td>14.285714</td>\n",
       "      <td>28.571429</td>\n",
       "    </tr>\n",
       "    <tr>\n",
       "      <th>2</th>\n",
       "      <td>(14.0, 19.0]</td>\n",
       "      <td>6</td>\n",
       "      <td>14</td>\n",
       "      <td>21.428571</td>\n",
       "      <td>50.000000</td>\n",
       "    </tr>\n",
       "    <tr>\n",
       "      <th>3</th>\n",
       "      <td>(19.0, 24.0]</td>\n",
       "      <td>6</td>\n",
       "      <td>20</td>\n",
       "      <td>21.428571</td>\n",
       "      <td>71.428571</td>\n",
       "    </tr>\n",
       "    <tr>\n",
       "      <th>4</th>\n",
       "      <td>(24.0, 29.0]</td>\n",
       "      <td>4</td>\n",
       "      <td>24</td>\n",
       "      <td>14.285714</td>\n",
       "      <td>85.714286</td>\n",
       "    </tr>\n",
       "    <tr>\n",
       "      <th>5</th>\n",
       "      <td>(29.0, 34.0]</td>\n",
       "      <td>4</td>\n",
       "      <td>28</td>\n",
       "      <td>14.285714</td>\n",
       "      <td>100.000000</td>\n",
       "    </tr>\n",
       "  </tbody>\n",
       "</table>\n",
       "</div>"
      ],
      "text/plain": [
       "      intervals  f   F         f%          F%\n",
       "0  (3.999, 9.0]  4   4  14.285714   14.285714\n",
       "1   (9.0, 14.0]  4   8  14.285714   28.571429\n",
       "2  (14.0, 19.0]  6  14  21.428571   50.000000\n",
       "3  (19.0, 24.0]  6  20  21.428571   71.428571\n",
       "4  (24.0, 29.0]  4  24  14.285714   85.714286\n",
       "5  (29.0, 34.0]  4  28  14.285714  100.000000"
      ]
     },
     "execution_count": 13,
     "metadata": {},
     "output_type": "execute_result"
    }
   ],
   "source": [
    "#cumulative frequence\n",
    "table1 = (table1.assign(F=table1.f.cumsum()))\n",
    "#total number or frequencies \n",
    "N = table1.f.sum()\n",
    "#relative frequencies\n",
    "table1['f%'] = (table1['f'] / N) * 100\n",
    "table1['F%'] = (table1['F'] / N) * 100\n",
    "table1"
   ]
  },
  {
   "cell_type": "code",
   "execution_count": 14,
   "metadata": {},
   "outputs": [
    {
     "data": {
      "image/png": "[encoded data removed]",
      "text/plain": [
       "<Figure size 432x288 with 1 Axes>"
      ]
     },
     "metadata": {},
     "output_type": "display_data"
    }
   ],
   "source": [
    "plt = table1.plot.bar(x='intervals', y=\"f\")"
   ]
  },
  {
   "cell_type": "markdown",
   "metadata": {},
   "source": [
    "# Mean, variance and standard deviation\n",
    "\n",
    "\\begin{align}\n",
    "Arithmetic\\,mean = {Sum\\,of\\,all\\,numbers \\over No.\\,of\\,values\\,in\\,the \\,set}\\,\\,\\,\\, \n",
    "\\end{align}\n",
    "\n",
    "Because it's important to make distinction between population (the entire lot of elements we investigate) and the sample (a representative part of that entire lot), we have the following notations:\n",
    "\n",
    "Sample mean: $\\bar{x} = {\\sum_{i=1}^{n} x_{i} \\over n}$\n",
    "\n",
    "Population mean: $\\mu = {\\sum_{i=1}^{n} x_{i} \\over N}$\n",
    "\n",
    "where n, N is the number of elements in data set of a sample, respective population.\n",
    "\n",
    "In general, when we deal with population (all elements of investigation) we have *parameters* and when work with samples, we have *statistics*."
   ]
  },
  {
   "cell_type": "code",
   "execution_count": 15,
   "metadata": {},
   "outputs": [
    {
     "data": {
      "text/html": [
       "<div>\n",
       "<style scoped>\n",
       "    .dataframe tbody tr th:only-of-type {\n",
       "        vertical-align: middle;\n",
       "    }\n",
       "\n",
       "    .dataframe tbody tr th {\n",
       "        vertical-align: top;\n",
       "    }\n",
       "\n",
       "    .dataframe thead th {\n",
       "        text-align: right;\n",
       "    }\n",
       "</style>\n",
       "<table border=\"1\" class=\"dataframe\">\n",
       "  <thead>\n",
       "    <tr style=\"text-align: right;\">\n",
       "      <th></th>\n",
       "      <th>values</th>\n",
       "    </tr>\n",
       "  </thead>\n",
       "  <tbody>\n",
       "    <tr>\n",
       "      <th>0</th>\n",
       "      <td>2</td>\n",
       "    </tr>\n",
       "    <tr>\n",
       "      <th>1</th>\n",
       "      <td>3</td>\n",
       "    </tr>\n",
       "    <tr>\n",
       "      <th>2</th>\n",
       "      <td>3</td>\n",
       "    </tr>\n",
       "    <tr>\n",
       "      <th>3</th>\n",
       "      <td>5</td>\n",
       "    </tr>\n",
       "    <tr>\n",
       "      <th>4</th>\n",
       "      <td>8</td>\n",
       "    </tr>\n",
       "    <tr>\n",
       "      <th>5</th>\n",
       "      <td>9</td>\n",
       "    </tr>\n",
       "    <tr>\n",
       "      <th>6</th>\n",
       "      <td>12</td>\n",
       "    </tr>\n",
       "  </tbody>\n",
       "</table>\n",
       "</div>"
      ],
      "text/plain": [
       "   values\n",
       "0       2\n",
       "1       3\n",
       "2       3\n",
       "3       5\n",
       "4       8\n",
       "5       9\n",
       "6      12"
      ]
     },
     "execution_count": 15,
     "metadata": {},
     "output_type": "execute_result"
    }
   ],
   "source": [
    "mylist = [2,3,3,5,8,9,12]\n",
    "#create data frame\n",
    "data = pd.DataFrame( {'values':mylist} )\n",
    "data"
   ]
  },
  {
   "cell_type": "code",
   "execution_count": 16,
   "metadata": {},
   "outputs": [
    {
     "data": {
      "text/plain": [
       "6.0"
      ]
     },
     "execution_count": 16,
     "metadata": {},
     "output_type": "execute_result"
    }
   ],
   "source": [
    "sum_of_data = data.values.sum()\n",
    "n = len(data.index)\n",
    "mean = sum_of_data / n\n",
    "mean"
   ]
  },
  {
   "cell_type": "markdown",
   "metadata": {},
   "source": [
    "or"
   ]
  },
  {
   "cell_type": "code",
   "execution_count": 17,
   "metadata": {},
   "outputs": [
    {
     "data": {
      "text/plain": [
       "6.0"
      ]
     },
     "execution_count": 17,
     "metadata": {},
     "output_type": "execute_result"
    }
   ],
   "source": [
    "mean = data.values.mean()\n",
    "mean"
   ]
  },
  {
   "cell_type": "markdown",
   "metadata": {},
   "source": [
    "Mean is the \"central weight\" of the data, all the values in the set being equally distanced from the mean."
   ]
  },
  {
   "cell_type": "code",
   "execution_count": 18,
   "metadata": {},
   "outputs": [
    {
     "data": {
      "text/html": [
       "<div>\n",
       "<style scoped>\n",
       "    .dataframe tbody tr th:only-of-type {\n",
       "        vertical-align: middle;\n",
       "    }\n",
       "\n",
       "    .dataframe tbody tr th {\n",
       "        vertical-align: top;\n",
       "    }\n",
       "\n",
       "    .dataframe thead th {\n",
       "        text-align: right;\n",
       "    }\n",
       "</style>\n",
       "<table border=\"1\" class=\"dataframe\">\n",
       "  <thead>\n",
       "    <tr style=\"text-align: right;\">\n",
       "      <th></th>\n",
       "      <th>values</th>\n",
       "      <th>dev</th>\n",
       "    </tr>\n",
       "  </thead>\n",
       "  <tbody>\n",
       "    <tr>\n",
       "      <th>0</th>\n",
       "      <td>2</td>\n",
       "      <td>-4.0</td>\n",
       "    </tr>\n",
       "    <tr>\n",
       "      <th>1</th>\n",
       "      <td>3</td>\n",
       "      <td>-3.0</td>\n",
       "    </tr>\n",
       "    <tr>\n",
       "      <th>2</th>\n",
       "      <td>3</td>\n",
       "      <td>-3.0</td>\n",
       "    </tr>\n",
       "    <tr>\n",
       "      <th>3</th>\n",
       "      <td>5</td>\n",
       "      <td>-1.0</td>\n",
       "    </tr>\n",
       "    <tr>\n",
       "      <th>4</th>\n",
       "      <td>8</td>\n",
       "      <td>2.0</td>\n",
       "    </tr>\n",
       "    <tr>\n",
       "      <th>5</th>\n",
       "      <td>9</td>\n",
       "      <td>3.0</td>\n",
       "    </tr>\n",
       "    <tr>\n",
       "      <th>6</th>\n",
       "      <td>12</td>\n",
       "      <td>6.0</td>\n",
       "    </tr>\n",
       "  </tbody>\n",
       "</table>\n",
       "</div>"
      ],
      "text/plain": [
       "   values  dev\n",
       "0       2 -4.0\n",
       "1       3 -3.0\n",
       "2       3 -3.0\n",
       "3       5 -1.0\n",
       "4       8  2.0\n",
       "5       9  3.0\n",
       "6      12  6.0"
      ]
     },
     "execution_count": 18,
     "metadata": {},
     "output_type": "execute_result"
    }
   ],
   "source": [
    "data['dev'] = data['values'] - mean\n",
    "data"
   ]
  },
  {
   "cell_type": "markdown",
   "metadata": {},
   "source": [
    "As we could easily verify, in every case, the sum of distances (deviations) from the mean is always 0.\n",
    "\n",
    "$\n",
    "\\bar{x} = {\\sum_{i=1}^{n} x_{i} \\over n}  \\Rightarrow n \\times \\bar{x} = \\sum_{i=1}^{n} x_{i} \\quad (1) \\\\\n",
    "\\sum_{i=1}^n(x_i - \\bar{x}) = x_1 - \\bar{x} + x_2 - \\bar{x} + ... + x_n - \\bar{x} = \\\\ \n",
    "= (x_1 + x_2 + ... x_n) - n \\times \\bar{x} = \\sum_{i=1}^{n} x_{i} - n \\times \\bar{x} \\quad (2) \\\\\n",
    "(1) + (2) \\Rightarrow \\sum_{i=1}^n(x_i - \\bar{x}) = \\sum_{i=1}^{n} x_{i} - \\sum_{i=1}^{n} x_{i} = 0\n",
    "$\n",
    "\n",
    "So, if we try to calculate the spread of data around the mean as the sum of deviations from the mean we get 0."
   ]
  },
  {
   "cell_type": "code",
   "execution_count": 19,
   "metadata": {},
   "outputs": [
    {
     "data": {
      "text/plain": [
       "0.0"
      ]
     },
     "execution_count": 19,
     "metadata": {},
     "output_type": "execute_result"
    }
   ],
   "source": [
    "data.dev.sum()"
   ]
  },
  {
   "cell_type": "markdown",
   "metadata": {},
   "source": [
    "To avoid that result, we could use the absolute values of the deviations from the mean:\n",
    "\n",
    "Mean deviation  = ${\\sum_{i=1}^{n} |x_{i}-\\bar{x}| \\over n}$\n"
   ]
  },
  {
   "cell_type": "code",
   "execution_count": 20,
   "metadata": {},
   "outputs": [
    {
     "data": {
      "text/html": [
       "<div>\n",
       "<style scoped>\n",
       "    .dataframe tbody tr th:only-of-type {\n",
       "        vertical-align: middle;\n",
       "    }\n",
       "\n",
       "    .dataframe tbody tr th {\n",
       "        vertical-align: top;\n",
       "    }\n",
       "\n",
       "    .dataframe thead th {\n",
       "        text-align: right;\n",
       "    }\n",
       "</style>\n",
       "<table border=\"1\" class=\"dataframe\">\n",
       "  <thead>\n",
       "    <tr style=\"text-align: right;\">\n",
       "      <th></th>\n",
       "      <th>values</th>\n",
       "      <th>dev</th>\n",
       "      <th>abs_dev</th>\n",
       "    </tr>\n",
       "  </thead>\n",
       "  <tbody>\n",
       "    <tr>\n",
       "      <th>0</th>\n",
       "      <td>2</td>\n",
       "      <td>-4.0</td>\n",
       "      <td>4.0</td>\n",
       "    </tr>\n",
       "    <tr>\n",
       "      <th>1</th>\n",
       "      <td>3</td>\n",
       "      <td>-3.0</td>\n",
       "      <td>3.0</td>\n",
       "    </tr>\n",
       "    <tr>\n",
       "      <th>2</th>\n",
       "      <td>3</td>\n",
       "      <td>-3.0</td>\n",
       "      <td>3.0</td>\n",
       "    </tr>\n",
       "    <tr>\n",
       "      <th>3</th>\n",
       "      <td>5</td>\n",
       "      <td>-1.0</td>\n",
       "      <td>1.0</td>\n",
       "    </tr>\n",
       "    <tr>\n",
       "      <th>4</th>\n",
       "      <td>8</td>\n",
       "      <td>2.0</td>\n",
       "      <td>2.0</td>\n",
       "    </tr>\n",
       "    <tr>\n",
       "      <th>5</th>\n",
       "      <td>9</td>\n",
       "      <td>3.0</td>\n",
       "      <td>3.0</td>\n",
       "    </tr>\n",
       "    <tr>\n",
       "      <th>6</th>\n",
       "      <td>12</td>\n",
       "      <td>6.0</td>\n",
       "      <td>6.0</td>\n",
       "    </tr>\n",
       "  </tbody>\n",
       "</table>\n",
       "</div>"
      ],
      "text/plain": [
       "   values  dev  abs_dev\n",
       "0       2 -4.0      4.0\n",
       "1       3 -3.0      3.0\n",
       "2       3 -3.0      3.0\n",
       "3       5 -1.0      1.0\n",
       "4       8  2.0      2.0\n",
       "5       9  3.0      3.0\n",
       "6      12  6.0      6.0"
      ]
     },
     "execution_count": 20,
     "metadata": {},
     "output_type": "execute_result"
    }
   ],
   "source": [
    "data['abs_dev'] = np.absolute(data['dev'])\n",
    "data"
   ]
  },
  {
   "cell_type": "code",
   "execution_count": 21,
   "metadata": {},
   "outputs": [
    {
     "data": {
      "text/plain": [
       "22.0"
      ]
     },
     "execution_count": 21,
     "metadata": {},
     "output_type": "execute_result"
    }
   ],
   "source": [
    "Mean_deviation = data['abs_dev'].sum()\n",
    "Mean_deviation"
   ]
  },
  {
   "cell_type": "markdown",
   "metadata": {},
   "source": [
    "Mean deviation is a measure of spreading data around the mean but for mathematical reasons (to make easier regression analysis), instead of this mean is used the variance:\n",
    "\n",
    "Sample variance: $S^2={\\sum_{i=i}^{n} (x_{i}-\\bar{x})^2 \\over n-1}$ (using n-1 instead of n gives a better estimation of population variance)\n",
    "\n",
    "n - dimension of sample\n",
    "\n",
    "Population variance: $\\sigma^2={\\sum_{i=i}^{n} (x_{i}-\\mu)^2 \\over N}$\n",
    "\n",
    "N - dimension of population\n",
    "\n",
    "In order to have a measure of data spread around the mean, we have to extract radical from the mean of squared deviations.\n",
    "\n",
    "This is standard deviation.\n",
    "\n",
    "Standard deviation for a sample:  $S = \\sqrt{\\sum_{i=1}^{n}{(x_i - \\bar{x})}^2 \\over n - 1}$\n",
    "\n",
    "Standard deviation for population: $\\sigma = \\sqrt{\\sum_{i=1}^{n}{(x_i - \\mu)}^2 \\over n}$\n"
   ]
  },
  {
   "cell_type": "code",
   "execution_count": 22,
   "metadata": {},
   "outputs": [
    {
     "data": {
      "text/html": [
       "<div>\n",
       "<style scoped>\n",
       "    .dataframe tbody tr th:only-of-type {\n",
       "        vertical-align: middle;\n",
       "    }\n",
       "\n",
       "    .dataframe tbody tr th {\n",
       "        vertical-align: top;\n",
       "    }\n",
       "\n",
       "    .dataframe thead th {\n",
       "        text-align: right;\n",
       "    }\n",
       "</style>\n",
       "<table border=\"1\" class=\"dataframe\">\n",
       "  <thead>\n",
       "    <tr style=\"text-align: right;\">\n",
       "      <th></th>\n",
       "      <th>values</th>\n",
       "      <th>dev</th>\n",
       "      <th>abs_dev</th>\n",
       "      <th>square_dev</th>\n",
       "    </tr>\n",
       "  </thead>\n",
       "  <tbody>\n",
       "    <tr>\n",
       "      <th>0</th>\n",
       "      <td>2</td>\n",
       "      <td>-4.0</td>\n",
       "      <td>4.0</td>\n",
       "      <td>16.0</td>\n",
       "    </tr>\n",
       "    <tr>\n",
       "      <th>1</th>\n",
       "      <td>3</td>\n",
       "      <td>-3.0</td>\n",
       "      <td>3.0</td>\n",
       "      <td>9.0</td>\n",
       "    </tr>\n",
       "    <tr>\n",
       "      <th>2</th>\n",
       "      <td>3</td>\n",
       "      <td>-3.0</td>\n",
       "      <td>3.0</td>\n",
       "      <td>9.0</td>\n",
       "    </tr>\n",
       "    <tr>\n",
       "      <th>3</th>\n",
       "      <td>5</td>\n",
       "      <td>-1.0</td>\n",
       "      <td>1.0</td>\n",
       "      <td>1.0</td>\n",
       "    </tr>\n",
       "    <tr>\n",
       "      <th>4</th>\n",
       "      <td>8</td>\n",
       "      <td>2.0</td>\n",
       "      <td>2.0</td>\n",
       "      <td>4.0</td>\n",
       "    </tr>\n",
       "    <tr>\n",
       "      <th>5</th>\n",
       "      <td>9</td>\n",
       "      <td>3.0</td>\n",
       "      <td>3.0</td>\n",
       "      <td>9.0</td>\n",
       "    </tr>\n",
       "    <tr>\n",
       "      <th>6</th>\n",
       "      <td>12</td>\n",
       "      <td>6.0</td>\n",
       "      <td>6.0</td>\n",
       "      <td>36.0</td>\n",
       "    </tr>\n",
       "  </tbody>\n",
       "</table>\n",
       "</div>"
      ],
      "text/plain": [
       "   values  dev  abs_dev  square_dev\n",
       "0       2 -4.0      4.0        16.0\n",
       "1       3 -3.0      3.0         9.0\n",
       "2       3 -3.0      3.0         9.0\n",
       "3       5 -1.0      1.0         1.0\n",
       "4       8  2.0      2.0         4.0\n",
       "5       9  3.0      3.0         9.0\n",
       "6      12  6.0      6.0        36.0"
      ]
     },
     "execution_count": 22,
     "metadata": {},
     "output_type": "execute_result"
    }
   ],
   "source": [
    "data['square_dev'] = data['dev']**2\n",
    "data"
   ]
  },
  {
   "cell_type": "code",
   "execution_count": 23,
   "metadata": {},
   "outputs": [
    {
     "name": "stdout",
     "output_type": "stream",
     "text": [
      "variance= 12.0\n",
      "std_dev= 3.4641016151377544\n"
     ]
    }
   ],
   "source": [
    "variance = data.square_dev.sum()/len(data.index)\n",
    "print(\"variance=\",variance)\n",
    "print(\"std_dev=\",np.sqrt(variance))"
   ]
  },
  {
   "cell_type": "code",
   "execution_count": 24,
   "metadata": {},
   "outputs": [
    {
     "data": {
      "text/plain": [
       "3.4641016151377544"
      ]
     },
     "execution_count": 24,
     "metadata": {},
     "output_type": "execute_result"
    }
   ],
   "source": [
    "#pandas calculations\n",
    "#Delta Degrees of Freedom: denominator of fraction is (n - ddof)\n",
    "#in this case, biased formula with n at denominator\n",
    "data['values'].std(ddof = 0)"
   ]
  },
  {
   "cell_type": "code",
   "execution_count": 25,
   "metadata": {},
   "outputs": [
    {
     "data": {
      "text/plain": [
       "3.7416573867739413"
      ]
     },
     "execution_count": 25,
     "metadata": {},
     "output_type": "execute_result"
    }
   ],
   "source": [
    "#having a sample, we use unbiased formula with n-1\n",
    "data['values'].std(ddof = 1)"
   ]
  },
  {
   "cell_type": "markdown",
   "metadata": {},
   "source": [
    "# The standard deviation of a frequency distribution\n",
    "\n",
    "If we start from the \"biased\" formula (underesitmates the paramenter - std. dev. of a population investigated) of standard deviation of a sample:\n",
    "\n",
    "$$S = \\sqrt{\\sum_{i=1}^{n}{(x_i - \\bar{x})}^2 \\over n}$$\n",
    "\n",
    "we obtain the following equivalent formula:\n",
    "\n",
    "$$S = \\sqrt{{\\sum_{i=1}^{n} x_i^2 \\over n}-({\\sum_{i=1}^{n} x_i \\over n})^2} \\quad (1)$$  \n",
    "\n",
    "Proof:\n",
    "\n",
    "$\n",
    "{\\sum_{i=1}^{n} (x_i - \\bar{x})^2 \\over n} = \\\\\n",
    "= {(x_1^2 - 2 x_1 \\bar{x} + \\bar{x}^2) + (x_2^2 - 2 x_2 \\bar{x} + \\bar{x}^2) + ... + (x_n^2 - 2 x_n \\bar{x} + \\bar{x}^2) \\over n} = \\\\\n",
    "= {x_1^2 + x_2^2 + ... + x_n^2 - 2 \\bar{x} (x_1 + x_2 + ... x_n) + n \\bar{x}^2 \\over n} = \\\\\n",
    "= {{{\\sum_{i=1}^{n} x_i^2} - 2 { \\sum_{i=1}^{n} x_i \\over n}  \\sum_{i=1}^{n} x_i + n ({\\sum_{i=1}^{n} x_i \\over n})^2} \\over n} = \\\\\n",
    "= {{\\sum_{i=1}^{n} x_i^2-2{(\\sum_{i=1}^{n}x_i)^2\\over n}+{(\\sum_{i=1}^{n}x_i)^2\\over n}} \\over n} = \\\\\n",
    "= {{\\sum_{i=1}^{n} x_i^2 - {(\\sum_{i=1}^{n} x_i)^2 \\over n}} \\over n} = \\\\ \n",
    "= {{\\sum_{i=1}^{n} x_i^2} \\over n} - ({\\sum_{i=1}^{n} x_i \\over n})^2\n",
    "$\n",
    "\n",
    "So, starting from the \"unbiased\" formula of standard deviation of a sample:\n",
    "\n",
    "$$S = \\sqrt{\\sum_{i=1}^{n}{(x_i - \\bar{x})}^2 \\over n - 1}$$\n",
    "\n",
    "we will have the following equivalent formula:\n",
    "\n",
    "$$S = \\sqrt{{ {n\\sum_{i=1}^{n} x_i^2 - (\\sum_{i=1}^{n} x_i)^2} \\over n(n-1)}} \\quad (2)$$\n",
    "\n",
    "because:\n",
    "\n",
    "$\n",
    "{\\sum_{i=1}^{n} (x_i - \\bar{x})^2 \\over n-1} = {{\\sum_{i=1}^{n} x_i^2 - {(\\sum_{i=1}^{n} x_i)^2 \\over n}} \\over n-1} = {{n\\sum_{i=1}^{n} x_i^2 - (\\sum_{i=1}^{n} x_i)^2} \\over n(n-1)}\n",
    "$\n",
    "\n",
    "In the end, the above (1) and (2), applied to a frequency distribution, will became:\n",
    "\n",
    "$$S_{biased} = \\sqrt{{\\sum fm^2 \\over \\sum f}-({\\sum fm \\over \\sum f})^2}$$\n",
    "\n",
    "$$S_{unbiased} = \\sqrt{{ {\\sum f \\sum fm^2 - (\\sum fm)^2} \\over \\sum f (\\sum f-1)}}$$\n",
    "\n",
    "where: \n",
    "\n",
    "f - interval frequencies \n",
    "\n",
    "m - midpoints of intervals.\n"
   ]
  },
  {
   "cell_type": "markdown",
   "metadata": {},
   "source": [
    "Apllied to an example:"
   ]
  },
  {
   "cell_type": "code",
   "execution_count": 26,
   "metadata": {},
   "outputs": [
    {
     "data": {
      "text/html": [
       "<div>\n",
       "<style scoped>\n",
       "    .dataframe tbody tr th:only-of-type {\n",
       "        vertical-align: middle;\n",
       "    }\n",
       "\n",
       "    .dataframe tbody tr th {\n",
       "        vertical-align: top;\n",
       "    }\n",
       "\n",
       "    .dataframe thead th {\n",
       "        text-align: right;\n",
       "    }\n",
       "</style>\n",
       "<table border=\"1\" class=\"dataframe\">\n",
       "  <thead>\n",
       "    <tr style=\"text-align: right;\">\n",
       "      <th></th>\n",
       "      <th>weight</th>\n",
       "    </tr>\n",
       "  </thead>\n",
       "  <tbody>\n",
       "    <tr>\n",
       "      <th>0</th>\n",
       "      <td>130</td>\n",
       "    </tr>\n",
       "    <tr>\n",
       "      <th>1</th>\n",
       "      <td>130</td>\n",
       "    </tr>\n",
       "    <tr>\n",
       "      <th>2</th>\n",
       "      <td>120</td>\n",
       "    </tr>\n",
       "    <tr>\n",
       "      <th>3</th>\n",
       "      <td>110</td>\n",
       "    </tr>\n",
       "    <tr>\n",
       "      <th>4</th>\n",
       "      <td>89</td>\n",
       "    </tr>\n",
       "  </tbody>\n",
       "</table>\n",
       "</div>"
      ],
      "text/plain": [
       "   weight\n",
       "0     130\n",
       "1     130\n",
       "2     120\n",
       "3     110\n",
       "4      89"
      ]
     },
     "execution_count": 26,
     "metadata": {},
     "output_type": "execute_result"
    }
   ],
   "source": [
    "# read csv (comma separated value) into dataframe\n",
    "data2 = pd.read_csv('../input/test2.csv')\n",
    "data2.head()"
   ]
  },
  {
   "cell_type": "code",
   "execution_count": 27,
   "metadata": {},
   "outputs": [
    {
     "name": "stdout",
     "output_type": "stream",
     "text": [
      "mean = 119.97368421052632 standard deviation = 17.27439417657974\n"
     ]
    }
   ],
   "source": [
    "data_mean = data2.weight.mean()\n",
    "data_sd = data2.weight.std(ddof = 1)\n",
    "print(\"mean =\",data_mean,\"standard deviation =\",data_sd)"
   ]
  },
  {
   "cell_type": "code",
   "execution_count": 28,
   "metadata": {},
   "outputs": [
    {
     "data": {
      "text/html": [
       "<div>\n",
       "<style scoped>\n",
       "    .dataframe tbody tr th:only-of-type {\n",
       "        vertical-align: middle;\n",
       "    }\n",
       "\n",
       "    .dataframe tbody tr th {\n",
       "        vertical-align: top;\n",
       "    }\n",
       "\n",
       "    .dataframe thead th {\n",
       "        text-align: right;\n",
       "    }\n",
       "</style>\n",
       "<table border=\"1\" class=\"dataframe\">\n",
       "  <thead>\n",
       "    <tr style=\"text-align: right;\">\n",
       "      <th></th>\n",
       "      <th>weight</th>\n",
       "    </tr>\n",
       "  </thead>\n",
       "  <tbody>\n",
       "    <tr>\n",
       "      <th>count</th>\n",
       "      <td>38.000000</td>\n",
       "    </tr>\n",
       "    <tr>\n",
       "      <th>mean</th>\n",
       "      <td>119.973684</td>\n",
       "    </tr>\n",
       "    <tr>\n",
       "      <th>std</th>\n",
       "      <td>17.274394</td>\n",
       "    </tr>\n",
       "    <tr>\n",
       "      <th>min</th>\n",
       "      <td>87.000000</td>\n",
       "    </tr>\n",
       "    <tr>\n",
       "      <th>25%</th>\n",
       "      <td>110.000000</td>\n",
       "    </tr>\n",
       "    <tr>\n",
       "      <th>50%</th>\n",
       "      <td>120.000000</td>\n",
       "    </tr>\n",
       "    <tr>\n",
       "      <th>75%</th>\n",
       "      <td>130.000000</td>\n",
       "    </tr>\n",
       "    <tr>\n",
       "      <th>max</th>\n",
       "      <td>170.000000</td>\n",
       "    </tr>\n",
       "  </tbody>\n",
       "</table>\n",
       "</div>"
      ],
      "text/plain": [
       "           weight\n",
       "count   38.000000\n",
       "mean   119.973684\n",
       "std     17.274394\n",
       "min     87.000000\n",
       "25%    110.000000\n",
       "50%    120.000000\n",
       "75%    130.000000\n",
       "max    170.000000"
      ]
     },
     "execution_count": 28,
     "metadata": {},
     "output_type": "execute_result"
    }
   ],
   "source": [
    "data2.describe()"
   ]
  },
  {
   "cell_type": "markdown",
   "metadata": {},
   "source": [
    "Now, let's classify data set into intervals of 10 units from 85 to 174"
   ]
  },
  {
   "cell_type": "code",
   "execution_count": 29,
   "metadata": {},
   "outputs": [
    {
     "data": {
      "text/plain": [
       "(83.999, 94.0]     3\n",
       "(94.0, 104.0]      3\n",
       "(104.0, 114.0]     6\n",
       "(114.0, 124.0]    11\n",
       "(124.0, 134.0]     9\n",
       "(134.0, 144.0]     4\n",
       "(144.0, 164.0]     1\n",
       "(164.0, 174.0]     1\n",
       "Name: weight, dtype: int64"
      ]
     },
     "execution_count": 29,
     "metadata": {},
     "output_type": "execute_result"
    }
   ],
   "source": [
    "#freq by intervals (interval limits analytic defined)\n",
    "weight_f = data2[\"weight\"].value_counts(sort=False,bins=[84,94,104,114,124,134,144,164,174])\n",
    "weight_f"
   ]
  },
  {
   "cell_type": "code",
   "execution_count": 30,
   "metadata": {},
   "outputs": [
    {
     "data": {
      "text/plain": [
       "(83.999, 94.0]     3\n",
       "(94.0, 104.0]      3\n",
       "(104.0, 114.0]     6\n",
       "(114.0, 124.0]    11\n",
       "(124.0, 134.0]     9\n",
       "(134.0, 144.0]     4\n",
       "(144.0, 154.0]     0\n",
       "(154.0, 164.0]     1\n",
       "(164.0, 174.0]     1\n",
       "Name: weight, dtype: int64"
      ]
     },
     "execution_count": 30,
     "metadata": {},
     "output_type": "execute_result"
    }
   ],
   "source": [
    "#interval limits defined using range\n",
    "weight_f = data2[\"weight\"].value_counts(sort=False,bins=range(84,175,10))\n",
    "weight_f"
   ]
  },
  {
   "cell_type": "code",
   "execution_count": 31,
   "metadata": {},
   "outputs": [
    {
     "data": {
      "text/html": [
       "<div>\n",
       "<style scoped>\n",
       "    .dataframe tbody tr th:only-of-type {\n",
       "        vertical-align: middle;\n",
       "    }\n",
       "\n",
       "    .dataframe tbody tr th {\n",
       "        vertical-align: top;\n",
       "    }\n",
       "\n",
       "    .dataframe thead th {\n",
       "        text-align: right;\n",
       "    }\n",
       "</style>\n",
       "<table border=\"1\" class=\"dataframe\">\n",
       "  <thead>\n",
       "    <tr style=\"text-align: right;\">\n",
       "      <th></th>\n",
       "      <th>intervals</th>\n",
       "      <th>f</th>\n",
       "    </tr>\n",
       "  </thead>\n",
       "  <tbody>\n",
       "    <tr>\n",
       "      <th>0</th>\n",
       "      <td>(83.999, 94.0]</td>\n",
       "      <td>3</td>\n",
       "    </tr>\n",
       "    <tr>\n",
       "      <th>1</th>\n",
       "      <td>(94.0, 104.0]</td>\n",
       "      <td>3</td>\n",
       "    </tr>\n",
       "    <tr>\n",
       "      <th>2</th>\n",
       "      <td>(104.0, 114.0]</td>\n",
       "      <td>6</td>\n",
       "    </tr>\n",
       "    <tr>\n",
       "      <th>3</th>\n",
       "      <td>(114.0, 124.0]</td>\n",
       "      <td>11</td>\n",
       "    </tr>\n",
       "    <tr>\n",
       "      <th>4</th>\n",
       "      <td>(124.0, 134.0]</td>\n",
       "      <td>9</td>\n",
       "    </tr>\n",
       "    <tr>\n",
       "      <th>5</th>\n",
       "      <td>(134.0, 144.0]</td>\n",
       "      <td>4</td>\n",
       "    </tr>\n",
       "    <tr>\n",
       "      <th>6</th>\n",
       "      <td>(144.0, 154.0]</td>\n",
       "      <td>0</td>\n",
       "    </tr>\n",
       "    <tr>\n",
       "      <th>7</th>\n",
       "      <td>(154.0, 164.0]</td>\n",
       "      <td>1</td>\n",
       "    </tr>\n",
       "    <tr>\n",
       "      <th>8</th>\n",
       "      <td>(164.0, 174.0]</td>\n",
       "      <td>1</td>\n",
       "    </tr>\n",
       "  </tbody>\n",
       "</table>\n",
       "</div>"
      ],
      "text/plain": [
       "        intervals   f\n",
       "0  (83.999, 94.0]   3\n",
       "1   (94.0, 104.0]   3\n",
       "2  (104.0, 114.0]   6\n",
       "3  (114.0, 124.0]  11\n",
       "4  (124.0, 134.0]   9\n",
       "5  (134.0, 144.0]   4\n",
       "6  (144.0, 154.0]   0\n",
       "7  (154.0, 164.0]   1\n",
       "8  (164.0, 174.0]   1"
      ]
     },
     "execution_count": 31,
     "metadata": {},
     "output_type": "execute_result"
    }
   ],
   "source": [
    "#convert series result to a dataframe\n",
    "table = pd.DataFrame({\"intervals\":weight_f.index, \"f\":weight_f.values},index=range(len(weight_f)))\n",
    "table"
   ]
  },
  {
   "cell_type": "code",
   "execution_count": 32,
   "metadata": {},
   "outputs": [
    {
     "data": {
      "text/html": [
       "<div>\n",
       "<style scoped>\n",
       "    .dataframe tbody tr th:only-of-type {\n",
       "        vertical-align: middle;\n",
       "    }\n",
       "\n",
       "    .dataframe tbody tr th {\n",
       "        vertical-align: top;\n",
       "    }\n",
       "\n",
       "    .dataframe thead th {\n",
       "        text-align: right;\n",
       "    }\n",
       "</style>\n",
       "<table border=\"1\" class=\"dataframe\">\n",
       "  <thead>\n",
       "    <tr style=\"text-align: right;\">\n",
       "      <th></th>\n",
       "      <th>intervals</th>\n",
       "      <th>f</th>\n",
       "      <th>m</th>\n",
       "    </tr>\n",
       "  </thead>\n",
       "  <tbody>\n",
       "    <tr>\n",
       "      <th>0</th>\n",
       "      <td>(83.999, 94.0]</td>\n",
       "      <td>3</td>\n",
       "      <td>88.9995</td>\n",
       "    </tr>\n",
       "    <tr>\n",
       "      <th>1</th>\n",
       "      <td>(94.0, 104.0]</td>\n",
       "      <td>3</td>\n",
       "      <td>99.0000</td>\n",
       "    </tr>\n",
       "    <tr>\n",
       "      <th>2</th>\n",
       "      <td>(104.0, 114.0]</td>\n",
       "      <td>6</td>\n",
       "      <td>109.0000</td>\n",
       "    </tr>\n",
       "    <tr>\n",
       "      <th>3</th>\n",
       "      <td>(114.0, 124.0]</td>\n",
       "      <td>11</td>\n",
       "      <td>119.0000</td>\n",
       "    </tr>\n",
       "    <tr>\n",
       "      <th>4</th>\n",
       "      <td>(124.0, 134.0]</td>\n",
       "      <td>9</td>\n",
       "      <td>129.0000</td>\n",
       "    </tr>\n",
       "    <tr>\n",
       "      <th>5</th>\n",
       "      <td>(134.0, 144.0]</td>\n",
       "      <td>4</td>\n",
       "      <td>139.0000</td>\n",
       "    </tr>\n",
       "    <tr>\n",
       "      <th>6</th>\n",
       "      <td>(144.0, 154.0]</td>\n",
       "      <td>0</td>\n",
       "      <td>149.0000</td>\n",
       "    </tr>\n",
       "    <tr>\n",
       "      <th>7</th>\n",
       "      <td>(154.0, 164.0]</td>\n",
       "      <td>1</td>\n",
       "      <td>159.0000</td>\n",
       "    </tr>\n",
       "    <tr>\n",
       "      <th>8</th>\n",
       "      <td>(164.0, 174.0]</td>\n",
       "      <td>1</td>\n",
       "      <td>169.0000</td>\n",
       "    </tr>\n",
       "  </tbody>\n",
       "</table>\n",
       "</div>"
      ],
      "text/plain": [
       "        intervals   f         m\n",
       "0  (83.999, 94.0]   3   88.9995\n",
       "1   (94.0, 104.0]   3   99.0000\n",
       "2  (104.0, 114.0]   6  109.0000\n",
       "3  (114.0, 124.0]  11  119.0000\n",
       "4  (124.0, 134.0]   9  129.0000\n",
       "5  (134.0, 144.0]   4  139.0000\n",
       "6  (144.0, 154.0]   0  149.0000\n",
       "7  (154.0, 164.0]   1  159.0000\n",
       "8  (164.0, 174.0]   1  169.0000"
      ]
     },
     "execution_count": 32,
     "metadata": {},
     "output_type": "execute_result"
    }
   ],
   "source": [
    "#get middle of intervals (mean of margins) \n",
    "#m stands for x values as the \"representative\" value for the interval\n",
    "#so for the 1st row, for example, we could say we have 3 values of 88.9995\n",
    "table['m'] = table['intervals'].map(attrgetter('mid'))\n",
    "table"
   ]
  },
  {
   "cell_type": "code",
   "execution_count": 38,
   "metadata": {},
   "outputs": [
    {
     "data": {
      "text/html": [
       "<div>\n",
       "<style scoped>\n",
       "    .dataframe tbody tr th:only-of-type {\n",
       "        vertical-align: middle;\n",
       "    }\n",
       "\n",
       "    .dataframe tbody tr th {\n",
       "        vertical-align: top;\n",
       "    }\n",
       "\n",
       "    .dataframe thead th {\n",
       "        text-align: right;\n",
       "    }\n",
       "</style>\n",
       "<table border=\"1\" class=\"dataframe\">\n",
       "  <thead>\n",
       "    <tr style=\"text-align: right;\">\n",
       "      <th></th>\n",
       "      <th>intervals</th>\n",
       "      <th>f</th>\n",
       "      <th>m</th>\n",
       "      <th>fm</th>\n",
       "      <th>fm2</th>\n",
       "    </tr>\n",
       "  </thead>\n",
       "  <tbody>\n",
       "    <tr>\n",
       "      <th>0</th>\n",
       "      <td>(83.999, 94.0]</td>\n",
       "      <td>3</td>\n",
       "      <td>88.9995</td>\n",
       "      <td>266.9985</td>\n",
       "      <td>23762.733001</td>\n",
       "    </tr>\n",
       "    <tr>\n",
       "      <th>1</th>\n",
       "      <td>(94.0, 104.0]</td>\n",
       "      <td>3</td>\n",
       "      <td>99.0000</td>\n",
       "      <td>297.0000</td>\n",
       "      <td>29403.000000</td>\n",
       "    </tr>\n",
       "    <tr>\n",
       "      <th>2</th>\n",
       "      <td>(104.0, 114.0]</td>\n",
       "      <td>6</td>\n",
       "      <td>109.0000</td>\n",
       "      <td>654.0000</td>\n",
       "      <td>71286.000000</td>\n",
       "    </tr>\n",
       "    <tr>\n",
       "      <th>3</th>\n",
       "      <td>(114.0, 124.0]</td>\n",
       "      <td>11</td>\n",
       "      <td>119.0000</td>\n",
       "      <td>1309.0000</td>\n",
       "      <td>155771.000000</td>\n",
       "    </tr>\n",
       "    <tr>\n",
       "      <th>4</th>\n",
       "      <td>(124.0, 134.0]</td>\n",
       "      <td>9</td>\n",
       "      <td>129.0000</td>\n",
       "      <td>1161.0000</td>\n",
       "      <td>149769.000000</td>\n",
       "    </tr>\n",
       "    <tr>\n",
       "      <th>5</th>\n",
       "      <td>(134.0, 144.0]</td>\n",
       "      <td>4</td>\n",
       "      <td>139.0000</td>\n",
       "      <td>556.0000</td>\n",
       "      <td>77284.000000</td>\n",
       "    </tr>\n",
       "    <tr>\n",
       "      <th>6</th>\n",
       "      <td>(144.0, 154.0]</td>\n",
       "      <td>0</td>\n",
       "      <td>149.0000</td>\n",
       "      <td>0.0000</td>\n",
       "      <td>0.000000</td>\n",
       "    </tr>\n",
       "    <tr>\n",
       "      <th>7</th>\n",
       "      <td>(154.0, 164.0]</td>\n",
       "      <td>1</td>\n",
       "      <td>159.0000</td>\n",
       "      <td>159.0000</td>\n",
       "      <td>25281.000000</td>\n",
       "    </tr>\n",
       "    <tr>\n",
       "      <th>8</th>\n",
       "      <td>(164.0, 174.0]</td>\n",
       "      <td>1</td>\n",
       "      <td>169.0000</td>\n",
       "      <td>169.0000</td>\n",
       "      <td>28561.000000</td>\n",
       "    </tr>\n",
       "  </tbody>\n",
       "</table>\n",
       "</div>"
      ],
      "text/plain": [
       "        intervals   f         m         fm            fm2\n",
       "0  (83.999, 94.0]   3   88.9995   266.9985   23762.733001\n",
       "1   (94.0, 104.0]   3   99.0000   297.0000   29403.000000\n",
       "2  (104.0, 114.0]   6  109.0000   654.0000   71286.000000\n",
       "3  (114.0, 124.0]  11  119.0000  1309.0000  155771.000000\n",
       "4  (124.0, 134.0]   9  129.0000  1161.0000  149769.000000\n",
       "5  (134.0, 144.0]   4  139.0000   556.0000   77284.000000\n",
       "6  (144.0, 154.0]   0  149.0000     0.0000       0.000000\n",
       "7  (154.0, 164.0]   1  159.0000   159.0000   25281.000000\n",
       "8  (164.0, 174.0]   1  169.0000   169.0000   28561.000000"
      ]
     },
     "execution_count": 38,
     "metadata": {},
     "output_type": "execute_result"
    }
   ],
   "source": [
    "table['fm'] = table['f'] * table['m']\n",
    "table['fm2'] = table['f'] * table['m'] ** 2\n",
    "table"
   ]
  },
  {
   "cell_type": "code",
   "execution_count": 51,
   "metadata": {},
   "outputs": [
    {
     "name": "stdout",
     "output_type": "stream",
     "text": [
      "std. dev for freq. distribution = 17.2691761602393\n",
      "std. dev of data = 17.27439417657974\n"
     ]
    }
   ],
   "source": [
    "sum_f = table.f.sum()\n",
    "sum_fm = table.fm.sum()\n",
    "sum_fm2 = table.fm2.sum()\n",
    "\n",
    "s = np.sqrt((sum_f * sum_fm2 - sum_fm ** 2) / (sum_f * (sum_f-1)) ) \n",
    "print(\"std. dev for freq. distribution =\", s)\n",
    "#which is closed to\n",
    "print(\"std. dev of data =\", data_sd)"
   ]
  },
  {
   "cell_type": "markdown",
   "metadata": {},
   "source": [
    "Similar, the mean of frequncy distribution is:\n",
    "\n",
    "$$\\bar{x} = {\\sum fm \\over \\sum f}$$"
   ]
  },
  {
   "cell_type": "code",
   "execution_count": 54,
   "metadata": {},
   "outputs": [
    {
     "name": "stdout",
     "output_type": "stream",
     "text": [
      "mean of freq. distrib. = 120.31575\n",
      "data mean = 119.97368421052632\n"
     ]
    }
   ],
   "source": [
    "mean_f = sum_fm / sum_f\n",
    "print(\"mean of freq. distrib. =\",mean_f)\n",
    "#which is closed to\n",
    "print(\"data mean =\", data_mean)"
   ]
  },
  {
   "cell_type": "code",
   "execution_count": null,
   "metadata": {},
   "outputs": [],
   "source": []
  }
 ],
 "metadata": {
  "kernelspec": {
   "display_name": "Python 3",
   "language": "python",
   "name": "python3"
  },
  "language_info": {
   "codemirror_mode": {
    "name": "ipython",
    "version": 3
   },
   "file_extension": ".py",
   "mimetype": "text/x-python",
   "name": "python",
   "nbconvert_exporter": "python",
   "pygments_lexer": "ipython3",
   "version": "3.5.3"
  }
 },
 "nbformat": 4,
 "nbformat_minor": 2
}

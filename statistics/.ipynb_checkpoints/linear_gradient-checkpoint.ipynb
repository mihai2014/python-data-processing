{
 "cells": [
  {
   "cell_type": "markdown",
   "metadata": {},
   "source": [
    "<h3 style=\"text-align: center;\"><strong>Linear regression with gradient descent</strong></h3>"
   ]
  },
  {
   "cell_type": "markdown",
   "metadata": {},
   "source": [
    "Python aplication based on:<br>\n",
    "<a href =\"https://statquest.org/\">StatQuest</a><br>\n",
    "<a href=\"https://www.youtube.com/watch?v=sDv4f4s2SB8&list=PLblh5JKOoLUICTaGLRoHQDuF_7q2GfuJF&index=32&t=0s\">Gradient Descent, Step-by-Step</a>\n",
    "<br><br>"
   ]
  },
  {
   "cell_type": "markdown",
   "metadata": {},
   "source": [
    "<p>Let (1.4 , 0.5) , (1.9 , 2.3) , (3.2 , 2.9) be three points.</p>\n",
    "<p>Using math formula for linear regression (obtained from minimizing sum of squared residuals), will have:</p>\n",
    "<p>$m=\\frac { \\overline { xy } -\\overline { x } \\cdot \\overline { y }  }{ \\overline { { x }^{ 2 } } -     { \\left( \\overline { x }  \\right)  }^{ 2 } }\\quad$</p>\n",
    "<p>$n=\\bar{y}-m\\bar{x}$</p>"
   ]
  },
  {
   "cell_type": "code",
   "execution_count": 1,
   "metadata": {},
   "outputs": [],
   "source": [
    "class reg_lin:\n",
    "    def __init__(self,data):\n",
    "        self.data = data\n",
    "        self.line()\n",
    "\n",
    "    def line(self):\n",
    "        #transpose data\n",
    "        x, y = self.data.T\n",
    "\n",
    "        xy = np.multiply(x,y)\n",
    "        xx = np.multiply(x,x)\n",
    "\n",
    "        x_m = np.mean(x)\n",
    "        y_m = np.mean(y)\n",
    "        xy_m = np.mean(xy)\n",
    "        xx_m = np.mean(xx)\n",
    "\n",
    "        m = (xy_m - x_m * y_m )/(xx_m - x_m * x_m)\n",
    "        n = y_m - m * x_m\n",
    "\n",
    "        self.m = m\n",
    "        self.n = n\n",
    "\n",
    "        return(m,n)"
   ]
  },
  {
   "cell_type": "code",
   "execution_count": 16,
   "metadata": {
    "scrolled": false
   },
   "outputs": [
    {
     "name": "stdout",
     "output_type": "stream",
     "text": [
      "m(slope)= 0.641025641025641 n(y-intercept)= 0.9487179487179489\n"
     ]
    },
    {
     "data": {
      "image/png": "[encoded data removed]",
      "text/plain": [
       "<Figure size 432x288 with 1 Axes>"
      ]
     },
     "metadata": {
      "needs_background": "light"
     },
     "output_type": "display_data"
    }
   ],
   "source": [
    "import numpy as np\n",
    "from matplotlib import pyplot as plt\n",
    "\n",
    "data = np.array([\n",
    "    [0.5,1.4],\n",
    "    [2.3,1.9],\n",
    "    [2.9,3.2],\n",
    "])\n",
    "\n",
    "x, y = data.T\n",
    "plt.scatter(x,y)\n",
    "\n",
    "line=reg_lin(data)\n",
    "m=line.m\n",
    "n=line.n\n",
    "print(\"m(slope)=\",m,\"n(y-intercept)=\",n)\n",
    "#plt.xlim(-0.05,1.05)\n",
    "#plt.ylim(-0.05,1.05)\n",
    "#x = np.arange(-10, 10, 0.1)\n",
    "plt.plot(x, m*x+n)\n",
    "\n",
    "plt.show()"
   ]
  },
  {
   "cell_type": "markdown",
   "metadata": {},
   "source": [
    "<p><u>1st Stage - determine only y-intercept, considering slope as known</u></p>\n",
    "<br>\n",
    "<p>The sum of squared residuals is the Loss(error) Function</p>\n",
    "<p>a)m-slope line is known(value calculated above)</pm>\n",
    "<p>b)n-y intercept is what we are searching</p>\n",
    "\n",
    "<p>$Sum_{squares}=(1.4-(m\\cdot0.5+n))^{2}+$</p>\n",
    "<p>$\\quad\\quad\\quad\\quad=(1.9-(m\\cdot2.3)+n)^{2}+$</p>\n",
    "<p>$\\quad\\quad\\quad\\quad=(3.2-(m\\cdot2.9)+n)^{2}+$</p>\n",
    "\n",
    "<p>Below is the gradient(two or more derivatives of the same function) of the sum of squared residuals:</p>\n",
    "\n",
    "<p>$\\frac{d}{dn}Sum_{squares}=-2(1.4-(m\\cdot0.5+n))+$</p>\n",
    "<p>$\\quad\\quad\\quad\\quad\\quad-2(1.9-(m\\cdot2.3+n))+$</p>\n",
    "<p>$\\quad\\quad\\quad\\quad\\quad-2(3.2-(m\\cdot2.9+n))$</p>\n",
    "\n",
    "<p>$\\frac{d}{dm}Sum_{squares}=-2\\cdot0.5(1.4-(m\\cdot0.5+n))+$</p>\n",
    "<p>$\\quad\\quad\\quad\\quad\\quad-2\\cdot2.3(1.9-(m\\cdot2.3+n))+$</p>\n",
    "<p>$\\quad\\quad\\quad\\quad\\quad-2\\cdot2.9(3.2-(m\\cdot2.9+n))$</p>\n",
    "\n",
    "<p>The lowest sum of squared residuals will happen when the derivative of this function will be (almost) 0.</p>\n",
    "<p>To determine the n (m being known) we will use only the 1st derivative.</p>"
   ]
  },
  {
   "cell_type": "code",
   "execution_count": 3,
   "metadata": {},
   "outputs": [
    {
     "name": "stdout",
     "output_type": "stream",
     "text": [
      "0.5692307692307693 -5.692307692307693 0.8766469428007893\n",
      "0.7969230769230771 -2.2769230769230777 0.5137404339250491\n",
      "0.8880000000000002 -0.9107692307692314 0.45567539250493116\n",
      "0.9244307692307695 -0.3643076923076922 0.4463849858777118\n",
      "0.9390030769230772 -0.14572307692307618 0.44489852081735726\n",
      "0.9448320000000002 -0.05828923076923065 0.4446606864077004\n",
      "0.9471635692307695 -0.02331569230769226 0.44462263290215487\n",
      "0.9480961969230771 -0.009326276923076193 0.4446165443412676\n",
      "0.9484692480000002 -0.0037305107692304773 0.44461557017152614\n",
      "0.9486184684307695 -0.0014922043076923686 0.44461541430436735\n",
      "0.9486781566030772 -0.0005968817230770362 0.444615389365622\n",
      "\n",
      "n(y intercept)= 0.9486781566030772\n"
     ]
    }
   ],
   "source": [
    "#let slope be m\n",
    "#let n(y-intercept) be 0 (some random value)\n",
    "def prediction(x,n):\n",
    "    return m*x+n\n",
    "    \n",
    "#sum of squared residuals\n",
    "#error(loss)function \n",
    "def sum_squares(n):\n",
    "    S = 0\n",
    "    for i in range(len(data)):\n",
    "        x = data[i][0]\n",
    "        y = data[i][1]    \n",
    "        #observed - predicted\n",
    "        residual = y - prediction(x,n)\n",
    "        S += residual**2 \n",
    "    return S     \n",
    "        \n",
    "#derivative with respect to n(y-intercept): d/dn (sum_squares) \n",
    "def deriv_sum_squares(n):\n",
    "    D = 0\n",
    "    for i in range(len(data)):\n",
    "        x = data[i][0]\n",
    "        y = data[i][1] \n",
    "        d = -2*(y-prediction(x,n))\n",
    "        D += d\n",
    "    return D    \n",
    "\n",
    "def train(learn_rate = 0.1,nr_epochs = 50):\n",
    "\n",
    "    accuracy = 0.001\n",
    "    \n",
    "    #initial random value (say from 1 to 10)\n",
    "    #n=np.rint((np.random.rand(1)[0]*10))\n",
    "    n = 0\n",
    "    \n",
    "    #draw n-sum of squares points\n",
    "    ss_list = []\n",
    "    #just for drawing tangents\n",
    "    d_list = []\n",
    "    \n",
    "    for i in range(nr_epochs):\n",
    "        d = deriv_sum_squares(n)\n",
    "        step_size = d * learn_rate\n",
    "        n = n - step_size\n",
    "    \n",
    "        ss=sum_squares(n)\n",
    "        print(n,d,ss)\n",
    "        ss_list.append([n,ss])\n",
    "        d_list.append(d)\n",
    "        \n",
    "        if(np.absolute(d)<accuracy):\n",
    "            return(n,d,ss_list,d_list)\n",
    "        \n",
    "    return(n,d,ss_list,d_list)\n",
    "\n",
    "n,d,ss_list,d_list = train(learn_rate = 0.1,nr_epochs = 100)        \n",
    "\n",
    "print(\"\\nn(y intercept)=\",n)   "
   ]
  },
  {
   "cell_type": "code",
   "execution_count": 15,
   "metadata": {},
   "outputs": [
    {
     "data": {
      "image/png": "[encoded data removed]",
      "text/plain": [
       "<Figure size 432x288 with 1 Axes>"
      ]
     },
     "metadata": {
      "needs_background": "light"
     },
     "output_type": "display_data"
    }
   ],
   "source": [
    "ss_array = np.array(ss_list)\n",
    "x, y = ss_array.T\n",
    "plt.xlabel(\"n (y intercept)\")\n",
    "plt.ylabel(\"sum of squared residuals\")\n",
    "plt.scatter(x,y) \n",
    "\n",
    "smin = np.min(ss_array, axis=0)\n",
    "smax = np.max(ss_array, axis=0)\n",
    "xmin=smin[0]\n",
    "xmax=smax[0]\n",
    "ymin=smin[1]\n",
    "ymax=smax[1]\n",
    "\n",
    "d_list=np.array(d_list)   \n",
    "for i in range(len(d_list)):\n",
    "    x = ss_array[i][0]\n",
    "    y = ss_array[i][1]\n",
    "    m = d_list[i]\n",
    "    n = y - m*x\n",
    "    xt = np.arange(x, x+0.05, 0.001)\n",
    "    plt.ylim(ymin-0.1,ymax+0.1)\n",
    "    plt.plot(xt, m*xt+n)"
   ]
  },
  {
   "cell_type": "markdown",
   "metadata": {},
   "source": [
    "\n",
    "\n",
    "\n"
   ]
  },
  {
   "cell_type": "markdown",
   "metadata": {},
   "source": [
    "<p><u>2nd Stage: determining both the y-intercept and the slope</u></p>"
   ]
  },
  {
   "cell_type": "code",
   "execution_count": 5,
   "metadata": {},
   "outputs": [
    {
     "name": "stdout",
     "output_type": "stream",
     "text": [
      "0.644674637445238 0.9401533573500812\n"
     ]
    }
   ],
   "source": [
    "def prediction2(x,m,n):\n",
    "    return m*x+n\n",
    "\n",
    "#derivative with respect to n(y-intercept): d/dn (sum_squares) \n",
    "def deriv_sum_squares_dn(m,n):\n",
    "    D = 0\n",
    "    for i in range(len(data)):\n",
    "        x = data[i][0]\n",
    "        y = data[i][1] \n",
    "        d = -2*(y-prediction2(x,m,n))\n",
    "        D += d\n",
    "    return D \n",
    "\n",
    "#derivative with respect to m(slope): d/dm (sum_squares) \n",
    "def deriv_sum_squares_dm(m,n):\n",
    "    D = 0\n",
    "    for i in range(len(data)):\n",
    "        x = data[i][0]\n",
    "        y = data[i][1] \n",
    "        d = -2*x*(y-prediction2(x,m,n))\n",
    "        D += d\n",
    "    return D \n",
    "\n",
    "n = 0\n",
    "m = 1\n",
    "\n",
    "def train2(learn_rate = 0.01,nr_epochs = 50):\n",
    "\n",
    "    accuracy = 0.0001\n",
    "    \n",
    "    n = 0\n",
    "    m = 1\n",
    "\n",
    "    for i in range(nr_epochs):\n",
    "        dn = deriv_sum_squares_dn(m,n)\n",
    "        #print(dn)\n",
    "                \n",
    "        dm = deriv_sum_squares_dm(m,n)\n",
    "        #print(dm)\n",
    "        \n",
    "        step_size_dn = dn * learn_rate\n",
    "        step_size_dm = dm * learn_rate\n",
    "        \n",
    "        n = n - step_size_dn\n",
    "        m = m - step_size_dm\n",
    "\n",
    "        #print(n,m)\n",
    "        \n",
    "        #print(step_size_dn,d1,n,step_size_dm,d2,m)\n",
    "        #print(dm,step_size_dm,dn,step_size_dn,m,n)\n",
    "        \n",
    "        if( (np.absolute(step_size_dn)<accuracy) and (np.absolute(step_size_dm)<accuracy) ):\n",
    "            return(m,n)\n",
    "        \n",
    "    return(m,n)\n",
    "\n",
    "m,n = train2(learn_rate = 0.01,nr_epochs = 1000) \n",
    "print(m,n)\n",
    "\n",
    "#print(deriv_sum_squares_dn(0))\n",
    "#print(deriv_sum_squares_dm(1))"
   ]
  }
 ],
 "metadata": {
  "kernelspec": {
   "display_name": "Python 3",
   "language": "python",
   "name": "python3"
  },
  "language_info": {
   "codemirror_mode": {
    "name": "ipython",
    "version": 3
   },
   "file_extension": ".py",
   "mimetype": "text/x-python",
   "name": "python",
   "nbconvert_exporter": "python",
   "pygments_lexer": "ipython3",
   "version": "3.5.3"
  }
 },
 "nbformat": 4,
 "nbformat_minor": 2
}

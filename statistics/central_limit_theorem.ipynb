{
 "cells": [
  {
   "cell_type": "markdown",
   "metadata": {},
   "source": [
    "<h3>Central limit theorem</h3>\n",
    "<i>visualization</i>\n",
    "\n",
    "<p>Means of samples taken from a population is normal distributed.</p>"
   ]
  },
  {
   "cell_type": "code",
   "execution_count": 4,
   "metadata": {},
   "outputs": [
    {
     "data": {
      "image/png": "[encoded data removed]",
      "text/plain": [
       "<Figure size 432x288 with 1 Axes>"
      ]
     },
     "metadata": {
      "needs_background": "light"
     },
     "output_type": "display_data"
    }
   ],
   "source": [
    "import numpy as np\n",
    "import pandas as pd\n",
    "import matplotlib.pyplot as plt\n",
    "\n",
    "\n",
    "#6000 random samples of dimension 4 from 1 to 10\n",
    "#same probability\n",
    "samples = np.random.randint(1, 10 + 1, size=(6000,4))\n",
    "#means of samples\n",
    "means = np.mean(samples,axis=1)\n",
    "\n",
    "\n",
    "unique_elements, counts_elements = np.unique(means, return_counts=True)\n",
    "fv = np.asarray((unique_elements, counts_elements))\n",
    "\n",
    "x = fv[0]\n",
    "y = fv[1]\n",
    "\n",
    "plt.scatter(x,y)\n",
    "plt.show()"
   ]
  },
  {
   "cell_type": "code",
   "execution_count": 42,
   "metadata": {},
   "outputs": [
    {
     "data": {
      "image/png": "[encoded data removed]",
      "text/plain": [
       "<Figure size 432x288 with 1 Axes>"
      ]
     },
     "metadata": {
      "needs_background": "light"
     },
     "output_type": "display_data"
    }
   ],
   "source": [
    "#6000 random samples of dimension 4 from 1 to 10\n",
    "#different probabilities\n",
    "samples = np.random.choice(10, p=[0.11,0.03,0.085,0.2,0.05,0.083,0.07,0.141,0.220,0.011],size=(6000,4))\n",
    "#means\n",
    "means = np.mean(samples,axis=1)\n",
    "\n",
    "unique_elements, counts_elements = np.unique(means, return_counts=True)\n",
    "fv = np.asarray((unique_elements, counts_elements))\n",
    "\n",
    "x = fv[0]\n",
    "y = fv[1]\n",
    "\n",
    "plt.scatter(x,y)\n",
    "plt.show()"
   ]
  },
  {
   "cell_type": "code",
   "execution_count": 39,
   "metadata": {},
   "outputs": [],
   "source": []
  },
  {
   "cell_type": "code",
   "execution_count": null,
   "metadata": {},
   "outputs": [],
   "source": []
  }
 ],
 "metadata": {
  "kernelspec": {
   "display_name": "Python 3",
   "language": "python",
   "name": "python3"
  },
  "language_info": {
   "codemirror_mode": {
    "name": "ipython",
    "version": 3
   },
   "file_extension": ".py",
   "mimetype": "text/x-python",
   "name": "python",
   "nbconvert_exporter": "python",
   "pygments_lexer": "ipython3",
   "version": "3.5.3"
  }
 },
 "nbformat": 4,
 "nbformat_minor": 2
}

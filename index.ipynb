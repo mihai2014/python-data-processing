{
 "cells": [
  {
   "cell_type": "markdown",
   "metadata": {},
   "source": [
    "<ul>\n",
    "<ul>\n",
    "</ul>\n",
    "<li><a href=\"https://nbviewer.jupyter.org/github/mihai2014/python-data-processing/blob/master/index.ipynb\">index.ipynb</a></li>\n",
    "<li>matplotlib</li>\n",
    "<ul>\n",
    "<li><a href=\"https://nbviewer.jupyter.org/github/mihai2014/python-data-processing/blob/master/matplotlib/tangent1.ipynb\">Drawing tangents</a></li>\n",
    "</ul>\n",
    "<li>ml</li>\n",
    "<ul>\n",
    "<li><a href=\"https://nbviewer.jupyter.org/github/mihai2014/python-data-processing/blob/master/ml/backprop1.ipynb\">Back propagation</a></li>\n",
    "<li><a href=\"https://nbviewer.jupyter.org/github/mihai2014/python-data-processing/blob/master/ml/chain_rule.ipynb\">chain_rule.ipynb</a></li>\n",
    "<li><a href=\"https://nbviewer.jupyter.org/github/mihai2014/python-data-processing/blob/master/ml/circle.ipynb\">Circle boundary classification</a></li>\n",
    "<li><a href=\"https://nbviewer.jupyter.org/github/mihai2014/python-data-processing/blob/master/ml/cross-entropy-loss.ipynb\">Cross Entropy Loss - relation with NLLLoss and LogSoftmax</a></li>\n",
    "<li><a href=\"https://nbviewer.jupyter.org/github/mihai2014/python-data-processing/blob/master/ml/linear_regression.ipynb\">Linear regression</a></li>\n",
    "<li><a href=\"https://nbviewer.jupyter.org/github/mihai2014/python-data-processing/blob/master/ml/logistic1.ipynb\">Binary classification</a></li>\n",
    "<li><a href=\"https://nbviewer.jupyter.org/github/mihai2014/python-data-processing/blob/master/ml/logistic2.ipynb\">Logistic regression</a></li>\n",
    "<li><a href=\"https://nbviewer.jupyter.org/github/mihai2014/python-data-processing/blob/master/ml/logistic3.ipynb\">Logistic regression(II)</a></li>\n",
    "<li><a href=\"https://nbviewer.jupyter.org/github/mihai2014/python-data-processing/blob/master/ml/net1.ipynb\">Neural network example 1</a></li>\n",
    "<li><a href=\"https://nbviewer.jupyter.org/github/mihai2014/python-data-processing/blob/master/ml/net2.ipynb\">Neural network example 2</a></li>\n",
    "<li><a href=\"https://nbviewer.jupyter.org/github/mihai2014/python-data-processing/blob/master/ml/pytorch1.ipynb\">Logistic regression(custom functions)(pytorch)</a></li>\n",
    "<li><a href=\"https://nbviewer.jupyter.org/github/mihai2014/python-data-processing/blob/master/ml/pytorch2.ipynb\">Linear regression(pytorch)</a></li>\n",
    "<li><a href=\"https://nbviewer.jupyter.org/github/mihai2014/python-data-processing/blob/master/ml/pytorch3.ipynb\">Non-linear boundary(1 layer NN PyTorch)</a></li>\n",
    "<li><a href=\"https://nbviewer.jupyter.org/github/mihai2014/python-data-processing/blob/master/ml/pytorch4.ipynb\">Non-linear boundary(2 layer NN PyTorch</a></li>\n",
    "<li><a href=\"https://nbviewer.jupyter.org/github/mihai2014/python-data-processing/blob/master/ml/pytorch6.ipynb\">Logistic regression - 3 classes</a></li>\n",
    "<li><a href=\"https://nbviewer.jupyter.org/github/mihai2014/python-data-processing/blob/master/ml/pytorch7.ipynb\">MNIST - training fully-connected NN (I)</a></li>\n",
    "<li><a href=\"https://nbviewer.jupyter.org/github/mihai2014/python-data-processing/blob/master/ml/pytorch8.ipynb\">MNIST (II)</a></li>\n",
    "<li><a href=\"https://nbviewer.jupyter.org/github/mihai2014/python-data-processing/blob/master/ml/pytorch8_1.ipynb\">MNIST - Accuracy (training vs test data sets)</a></li>\n",
    "<li><a href=\"https://nbviewer.jupyter.org/github/mihai2014/python-data-processing/blob/master/ml/pytorch8_2.ipynb\">MNIST - save/load NN state</a></li>\n",
    "</ul>\n",
    "<li>pandas</li>\n",
    "<ul>\n",
    "<li><a href=\"https://nbviewer.jupyter.org/github/mihai2014/python-data-processing/blob/master/pandas/pandas_sql1.ipynb\">Queries1</a></li>\n",
    "<li><a href=\"https://nbviewer.jupyter.org/github/mihai2014/python-data-processing/blob/master/pandas/pandas_sql2.ipynb\">Queries2</a></li>\n",
    "</ul>\n",
    "<li>statistics</li>\n",
    "<ul>\n",
    "<ul>\n",
    "</ul>\n",
    "<li><a href=\"https://nbviewer.jupyter.org/github/mihai2014/python-data-processing/blob/master/statistics/central_limit_theorem.html\">central_limit_theorem.html</a></li>\n",
    "<li><a href=\"https://nbviewer.jupyter.org/github/mihai2014/python-data-processing/blob/master/statistics/central_limit_theorem.ipynb\">Central limit theorem</a></li>\n",
    "<li><a href=\"https://nbviewer.jupyter.org/github/mihai2014/python-data-processing/blob/master/statistics/introduction.ipynb\">Introduction</a></li>\n",
    "<li><a href=\"https://nbviewer.jupyter.org/github/mihai2014/python-data-processing/blob/master/statistics/linear_gradient.ipynb\">Linear regression with gradient descent</a></li>\n",
    "<li><a href=\"https://nbviewer.jupyter.org/github/mihai2014/python-data-processing/blob/master/statistics/linear_proof.ipynb\">Correlation coefficient</a></li>\n",
    "<li><a href=\"https://nbviewer.jupyter.org/github/mihai2014/python-data-processing/blob/master/statistics/linear_regression.html\">linear_regression.html</a></li>\n",
    "<li><a href=\"https://nbviewer.jupyter.org/github/mihai2014/python-data-processing/blob/master/statistics/var-covar-std-corr.ipynb\">var-covar-std-corr.ipynb</a></li>\n",
    "</ul>\n",
    "<li><a href=\"https://nbviewer.jupyter.org/github/mihai2014/python-data-processing/blob/master/topics.html\">topics.html</a></li>\n",
    "</ul>\n",
    "\n"
   ]
  },
  {
   "cell_type": "code",
   "execution_count": null,
   "metadata": {},
   "outputs": [],
   "source": []
  }
 ],
 "metadata": {
  "kernelspec": {
   "display_name": "Python 3",
   "language": "python",
   "name": "python3"
  },
  "language_info": {
   "codemirror_mode": {
    "name": "ipython",
    "version": 3
   },
   "file_extension": ".py",
   "mimetype": "text/x-python",
   "name": "python",
   "nbconvert_exporter": "python",
   "pygments_lexer": "ipython3",
   "version": "3.7.1"
  }
 },
 "nbformat": 4,
 "nbformat_minor": 2
}

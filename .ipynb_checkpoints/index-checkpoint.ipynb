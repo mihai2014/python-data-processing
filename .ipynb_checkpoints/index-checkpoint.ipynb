{
 "cells": [
  {
   "cell_type": "markdown",
   "metadata": {},
   "source": [
    "<ul>\n",
    "<li><a href=\"https://nbviewer.jupyter.org/github/mihai2014/python-data-processing/blob/master/list.html\">list.html</a></li>\n",
    "<li>pandas</li>\n",
    "<ul>\n",
    "<li><a href=\"https://nbviewer.jupyter.org/github/mihai2014/python-data-processing/blob/master/pandas/pandas_sql1.html\">pandas_sql1.html</a></li>\n",
    "<li><a href=\"https://nbviewer.jupyter.org/github/mihai2014/python-data-processing/blob/master/pandas/pandas_sql2.ipynb\">pandas_sql2.ipynb</a></li>\n",
    "<li><a href=\"https://nbviewer.jupyter.org/github/mihai2014/python-data-processing/blob/master/pandas/pandas_sql2.html\">pandas_sql2.html</a></li>\n",
    "<li><a href=\"https://nbviewer.jupyter.org/github/mihai2014/python-data-processing/blob/master/pandas/pandas_sql1.ipynb\">pandas_sql1.ipynb</a></li>\n",
    "</ul>\n",
    "<li>matplotlib</li>\n",
    "<ul>\n",
    "<li><a href=\"https://nbviewer.jupyter.org/github/mihai2014/python-data-processing/blob/master/matplotlib/tangent1.ipynb\">tangent1.ipynb</a></li>\n",
    "</ul>\n",
    "<li>statistics</li>\n",
    "<ul>\n",
    "<li><a href=\"https://nbviewer.jupyter.org/github/mihai2014/python-data-processing/blob/master/statistics/linear_gradient.ipynb\">linear_gradient.ipynb</a></li>\n",
    "<li>__pycache__</li>\n",
    "<ul>\n",
    "</ul>\n",
    "<li><a href=\"https://nbviewer.jupyter.org/github/mihai2014/python-data-processing/blob/master/statistics/central_limit_theorem.html\">central_limit_theorem.html</a></li>\n",
    "<li><a href=\"https://nbviewer.jupyter.org/github/mihai2014/python-data-processing/blob/master/statistics/linear_regression.html\">linear_regression.html</a></li>\n",
    "<li><a href=\"https://nbviewer.jupyter.org/github/mihai2014/python-data-processing/blob/master/statistics/linear_proof.ipynb\">linear_proof.ipynb</a></li>\n",
    "<li><a href=\"https://nbviewer.jupyter.org/github/mihai2014/python-data-processing/blob/master/statistics/var-covar-std-corr.html\">var-covar-std-corr.html</a></li>\n",
    "<li><a href=\"https://nbviewer.jupyter.org/github/mihai2014/python-data-processing/blob/master/statistics/introduction.html\">introduction.html</a></li>\n",
    "<li><a href=\"https://nbviewer.jupyter.org/github/mihai2014/python-data-processing/blob/master/statistics/central_limit_theorem.ipynb\">central_limit_theorem.ipynb</a></li>\n",
    "<li><a href=\"https://nbviewer.jupyter.org/github/mihai2014/python-data-processing/blob/master/statistics/introduction.ipynb\">introduction.ipynb</a></li>\n",
    "</ul>\n",
    "<li>ml</li>\n",
    "<ul>\n",
    "<li><a href=\"https://nbviewer.jupyter.org/github/mihai2014/python-data-processing/blob/master/ml/pytorch2.ipynb\">pytorch2.ipynb</a></li>\n",
    "<li><a href=\"https://nbviewer.jupyter.org/github/mihai2014/python-data-processing/blob/master/ml/linear_regression.ipynb\">linear_regression.ipynb</a></li>\n",
    "<li><a href=\"https://nbviewer.jupyter.org/github/mihai2014/python-data-processing/blob/master/ml/backprop1.ipynb\">backprop1.ipynb</a></li>\n",
    "<li><a href=\"https://nbviewer.jupyter.org/github/mihai2014/python-data-processing/blob/master/ml/cross-entropy-loss.ipynb\">cross-entropy-loss.ipynb</a></li>\n",
    "<li><a href=\"https://nbviewer.jupyter.org/github/mihai2014/python-data-processing/blob/master/ml/pytorch4.ipynb\">pytorch4.ipynb</a></li>\n",
    "<li><a href=\"https://nbviewer.jupyter.org/github/mihai2014/python-data-processing/blob/master/ml/logistic2.ipynb\">logistic2.ipynb</a></li>\n",
    "<li><a href=\"https://nbviewer.jupyter.org/github/mihai2014/python-data-processing/blob/master/ml/net2.ipynb\">net2.ipynb</a></li>\n",
    "<li><a href=\"https://nbviewer.jupyter.org/github/mihai2014/python-data-processing/blob/master/ml/logistic1.ipynb\">logistic1.ipynb</a></li>\n",
    "<li><a href=\"https://nbviewer.jupyter.org/github/mihai2014/python-data-processing/blob/master/ml/pytorch6.ipynb\">pytorch6.ipynb</a></li>\n",
    "<li><a href=\"https://nbviewer.jupyter.org/github/mihai2014/python-data-processing/blob/master/ml/test.ipynb\">test.ipynb</a></li>\n",
    "<li><a href=\"https://nbviewer.jupyter.org/github/mihai2014/python-data-processing/blob/master/ml/chain_rule.ipynb\">chain_rule.ipynb</a></li>\n",
    "<li><a href=\"https://nbviewer.jupyter.org/github/mihai2014/python-data-processing/blob/master/ml/circle.ipynb\">circle.ipynb</a></li>\n",
    "<li><a href=\"https://nbviewer.jupyter.org/github/mihai2014/python-data-processing/blob/master/ml/logistic3.ipynb\">logistic3.ipynb</a></li>\n",
    "<li><a href=\"https://nbviewer.jupyter.org/github/mihai2014/python-data-processing/blob/master/ml/pytorch3.ipynb\">pytorch3.ipynb</a></li>\n",
    "<li><a href=\"https://nbviewer.jupyter.org/github/mihai2014/python-data-processing/blob/master/ml/net1.ipynb\">net1.ipynb</a></li>\n",
    "<li><a href=\"https://nbviewer.jupyter.org/github/mihai2014/python-data-processing/blob/master/ml/pytorch1.ipynb\">pytorch1.ipynb</a></li>\n",
    "<li><a href=\"https://nbviewer.jupyter.org/github/mihai2014/python-data-processing/blob/master/ml/pytorch5.ipynb\">pytorch5.ipynb</a></li>\n",
    "</ul>\n",
    "</ul>\n",
    "\n"
   ]
  },
  {
   "cell_type": "code",
   "execution_count": null,
   "metadata": {},
   "outputs": [],
   "source": []
  }
 ],
 "metadata": {
  "kernelspec": {
   "display_name": "Python 3",
   "language": "python",
   "name": "python3"
  },
  "language_info": {
   "codemirror_mode": {
    "name": "ipython",
    "version": 3
   },
   "file_extension": ".py",
   "mimetype": "text/x-python",
   "name": "python",
   "nbconvert_exporter": "python",
   "pygments_lexer": "ipython3",
   "version": "3.7.1"
  }
 },
 "nbformat": 4,
 "nbformat_minor": 2
}

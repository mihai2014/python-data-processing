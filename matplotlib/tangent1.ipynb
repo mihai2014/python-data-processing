{
 "cells": [
  {
   "cell_type": "markdown",
   "metadata": {},
   "source": [
    "<h3 style=\"text-align: center\">Drawing tangents with PyTorch</h3>"
   ]
  },
  {
   "cell_type": "code",
   "execution_count": 1,
   "metadata": {},
   "outputs": [],
   "source": [
    "import torch\n",
    "from torch.autograd import Variable\n",
    "import numpy as np\n",
    "import matplotlib.pyplot as plt"
   ]
  },
  {
   "cell_type": "markdown",
   "metadata": {},
   "source": [
    "$$ \\frac { d }{ dx } ({ x }^{ 2 }-2x-3)=2x-2 $$"
   ]
  },
  {
   "cell_type": "code",
   "execution_count": 2,
   "metadata": {},
   "outputs": [],
   "source": [
    "def tangent(length,x_target,x,y,samples,gradients):\n",
    "\n",
    "    #calculate the gradient for x_target\n",
    "    #select 1st index where x >= x_target\n",
    "    index = np.where(x.data.numpy() >= x_target)[0][0]\n",
    "\n",
    "    #determine touch point of tangent to the graphic\n",
    "    x_val = float(x[index].data.numpy())\n",
    "    y_val = float(y[index].data.numpy())\n",
    "    \n",
    "    #determine gradient(m)\n",
    "    #m = float(x.grad.data.numpy()[index])\n",
    "    m = float(gradients[index])\n",
    "\n",
    "    # calculate tangent\n",
    "    y_tangent = m*(x-x_val) + y_val\n",
    "\n",
    "    #convert to np\n",
    "    x_np = x.data.numpy()\n",
    "    y_np = y.data.numpy()\n",
    "    y_tangent_np = y_tangent.data.numpy()\n",
    "      \n",
    "    #+-xdiff from center point to draw equal segments of tangent\n",
    "    xdiff = length * 1/(np.sqrt(1+m**2))\n",
    "    left  = x_val - xdiff\n",
    "    right = x_val + xdiff\n",
    "    i1 = np.where(x_np >= left)[0][0]\n",
    "    i2 = np.where(x_np >= right)[0][0]\n",
    "\n",
    "    #tangent\n",
    "    plt.plot(x_np[i1:i2], y_tangent_np[i1:i2],'b')\n",
    "    \n",
    "    #point\n",
    "    plt.plot(x_val,y_val,'ro')"
   ]
  },
  {
   "cell_type": "code",
   "execution_count": 3,
   "metadata": {},
   "outputs": [
    {
     "data": {
      "image/png": "[encoded data removed]",
      "text/plain": [
       "<Figure size 432x288 with 1 Axes>"
      ]
     },
     "metadata": {
      "needs_background": "light"
     },
     "output_type": "display_data"
    }
   ],
   "source": [
    "#generate definition domain interval\n",
    "samples = 150\n",
    "start = -2\n",
    "end = 4\n",
    "x = Variable(torch.Tensor(np.linspace(start, end, samples)), requires_grad=True)\n",
    "y = x**2 - 2*x - 3\n",
    "\n",
    "#feed backward() on non scalar tensor with input gradients (1)\n",
    "#and process all gradients for x values\n",
    "#x.grad = dy/dx\n",
    "y.backward(torch.ones(samples))\n",
    "\n",
    "#save gradients\n",
    "gradients = x.grad.data.numpy()\n",
    "\n",
    "%matplotlib inline\n",
    "\n",
    "#prevent autoscaling\n",
    "plt.axis(\"equal\")\n",
    "\n",
    "plt.title(r\"$f(x)={ x }^{ 2 }-2x-3$\",)\n",
    "\n",
    "#graph\n",
    "plt.plot(x.data.numpy(),y.data.numpy(),'g')\n",
    "\n",
    "#segment length\n",
    "l = 2.5\n",
    "\n",
    "x_target=-1\n",
    "tangent(l,x_target,x,y,samples,gradients)\n",
    "x_target=1\n",
    "tangent(l,x_target,x,y,samples,gradients)\n",
    "x_target=3\n",
    "tangent(l,x_target,x,y,samples,gradients)\n",
    "\n",
    "plt.show()\n"
   ]
  },
  {
   "cell_type": "code",
   "execution_count": null,
   "metadata": {},
   "outputs": [],
   "source": []
  }
 ],
 "metadata": {
  "kernelspec": {
   "display_name": "Python 3",
   "language": "python",
   "name": "python3"
  },
  "language_info": {
   "codemirror_mode": {
    "name": "ipython",
    "version": 3
   },
   "file_extension": ".py",
   "mimetype": "text/x-python",
   "name": "python",
   "nbconvert_exporter": "python",
   "pygments_lexer": "ipython3",
   "version": "3.5.3"
  }
 },
 "nbformat": 4,
 "nbformat_minor": 2
}

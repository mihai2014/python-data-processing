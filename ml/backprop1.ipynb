{
 "cells": [
  {
   "cell_type": "markdown",
   "metadata": {},
   "source": [
    "<p><h3 style=\"text-align:center\">Neural network - backpropagation: description</h3></p>"
   ]
  },
  {
   "cell_type": "markdown",
   "metadata": {},
   "source": [
    "<img src=\"nn1.png\" style=\"width: 200px;\"></img>"
   ]
  },
  {
   "cell_type": "markdown",
   "metadata": {},
   "source": [
    "Having the following simple training set (consisting of only one record data):\n",
    "<p>$$({ x }_{ 1 },{ x }_{ 2 },...,{ x }_{ n },target)$$</p>"
   ]
  },
  {
   "cell_type": "markdown",
   "metadata": {},
   "source": [
    "the scope of the supervised learning process of the above neural network is to simply match (as well as possible) the output to the given target by adjusting the weights of the perceptrons:"
   ]
  },
  {
   "cell_type": "markdown",
   "metadata": {},
   "source": [
    "<img src=\"blackbox.png\" style=\"width: 300px;\"></img>"
   ]
  },
  {
   "cell_type": "markdown",
   "metadata": {},
   "source": [
    "This is the internal mechanism of the \"Neural net\" black-box above:"
   ]
  },
  {
   "cell_type": "markdown",
   "metadata": {},
   "source": [
    "<p>$Sigmoid\\quad function:\\quad \\sigma (x)=\\frac { 1 }{ 1+{ e }^{ -x } } $</p>\n",
    "<p>${ zh }_{ 1 }={ w }_{ 1 }{ x }_{ 1 }+{ w }_{ 3 }{ x }_{ 2 }+{ w }_{ 5 }{ x }_{ 3 }+{ b }_{ 1 }$</p> \n",
    "<p>${ zh }_{ 2 }={ w }_{ 2 }{ x }_{ 1 }+{ w }_{ 4 }{ x }_{ 2 }+{ w }_{ 6 }{ x }_{ 3 }+{ b }_{ 1 }$</p> \n",
    "<p>${ h }_{ 1 }=\\sigma ({ zh }_{ 1 })$</p> \n",
    "<p>${ h }_{ 2 }=\\sigma ({ zh }_{ 2 })$</p> \n",
    "<p>$zo_{ 1 }={ w }_{ 7 }h_{ 1 }+{ w }_{ 9 }{ h }_{ 2 }+{ b }_{ 2 }$</p> \n",
    "<p>$zo_{ 2 }={ w }_{ 8 }{ h }_{ 1 }+{ w }_{ 10 }{ h }_{ 2 }+{ b }_{ 2 }$</p> \n",
    "<p>$o_{ 1 }=\\sigma ({ zo }_{ 1 })$</p>\n",
    "<p>$o_{ 2 }=\\sigma ({ zo }_{ 2 })$</p>\n",
    "<p>$E=\\frac { 1 }{ 2 } [{ ({ o }_{ 1 }-{ t }_{ 1 }) }^{ 2 }+{ ({ o }_{ 2 }-{ t }_{ 2 }) }^{ 2 }]$</p>"
   ]
  },
  {
   "cell_type": "markdown",
   "metadata": {},
   "source": [
    "<p>E is the error function which evaluates the amount of \"success\" of the output.</p>\n",
    "<p>Having all that, we need to calculate all the gradients of error (how much the error is \"generated\" by each of the weight) : the derivatives of the error with respect to each of the weights (including biases):</p>\n",
    "\n",
    "<p>$$\\frac { dE }{ { dw }_{ i } } ,\\frac { dE }{ { db }_{ i } } $$</p>\n",
    "\n",
    "<p>Then, the process of training the net consist in a number of loops containing two stages:</p>\n",
    "\n",
    "<p>1)\"forward propagation:\"</p>\n",
    "<ul>\n",
    "<li>process the output(using some initial random weights)</li>\n",
    "<li>evaluate error</li>\n",
    "<li>evaluate the values of the gradients</li>\n",
    "</ul>\n",
    "<p>2)\"backward propagation:\"</p>\n",
    "<ul>\n",
    "<li>adjusting the weights according to the formula:</li>\n",
    "</ul>\n",
    "\n",
    "<p>$${ w }_{ i }={ w }_{ i }-\\frac { dE }{ { dw }_{ i } } \\cdot learn\\_ rate$$</p> \n",
    "<p>$${ b }_{ i }={ b }_{ i }-\\frac { dE }{ { db }_{ i } } \\cdot learn\\_ rate$$</p>\n",
    "\n",
    "<p>Necessary math preliminaries for gradients evaluation:</p>\n",
    "\n",
    "<p>1)Derivative of sigmoid function:</p>\n",
    "<p>$\\sigma '(x)=\\frac { d }{ dx } \\frac { 1 }{ 1+{ e }^{ -x } } =\\frac { d }{ dx } { (1+{ e }^{ -x }) }^{ -1 }=-{ (1+{ e }^{ -x }) }^{ -2 }\\cdot ({ -e }^{ -x })=\\frac { { e }^{ -x } }{ { (1+{ e }^{ -x }) }^{ 2 } } =\\frac { 1 }{ 1+{ e }^{ -x } } \\cdot \\frac { { e }^{ -x } }{ 1+{ e }^{ -x } } \\Rightarrow \\\\ \\sigma '(x)=\\sigma (x)(1-\\sigma (x))\\\\ $</p>\n",
    "\n",
    "<p>2)Chain rule:</p>\n",
    "\n",
    "<p>$(f(g(x)))'\\quad =\\quad f'(g(x))\\cdot g'(x)$</p> \n",
    "<p>$\\frac { d }{ dx } f(g(x))=\\frac { d\\quad f(g(x)) }{ d\\quad g(x) } \\frac { d\\quad g(x) }{ dx }$</p>\n",
    "<p>$which\\quad could\\quad be\\quad simplified\\quad to\\quad the\\quad following\\quad conventional\\quad notation$</p> \n",
    "<p>$\\frac { d }{ dx } f(g(x))=\\frac { df }{ dg } \\frac { dg }{ dx }$</p> \n",
    "<p>$or$</p>\n",
    "<p>$\\frac { d }{ dx } (f\\circ g)(x)=\\frac { df }{ dg } \\frac { dg }{ dx }$</p> \n",
    "<p>$and\\quad generalized:$</p> \n",
    "<p>$\\frac { d }{ dx } (f\\circ g\\circ h\\circ i...)(x)=\\frac { df }{ dg } \\frac { dg }{ dh } \\frac { dh }{ di } \\frac { di }{ ... } ...\\frac { ... }{ dx }$</p> \n",
    "\n",
    "<p>3)Partial differentiation: excepting the variable with respect which we differentiate, all other variables of the expression are considered constants so their derivatives are 0.</p>\n",
    "\n",
    "<p>$\\frac { dE }{ { dw }_{ 7 } } =\\frac { 1 }{ 2 } 2({ o }_{ 1 }{ -t }_{ 1 })\\frac { { do }_{ 1 } }{ { dw }_{ 7 } } +\\frac { 1 }{ 2 } 2({ o }_{ 2 }-{ t }_{ 2 })\\frac { { do }_{ 2 } }{ { dw }_{ 7 } } =$</p \n",
    "<p>$=({ o }_{ 1 }-{ t }_{ 1 })\\frac { { do }_{ 1 } }{ { dw }_{ 7 } } +({ o }_{ 2 }-{ t }_{ 2 })\\cdot 0=$</p> \n",
    "<p>$=({ o }_{ 1 }-{ t }_{ 1 })\\frac { { do }_{ 1 } }{ { dzo }_{ 1 } } \\frac { { dzo }_{ 1 } }{ { dw }_{ 7 } } =({ o }_{ 1 }-{ t }_{ 1 }){ o }_{ 1 }(1-{ o }_{ 1 }){ h }_{ 1 }$</p>"
   ]
  },
  {
   "cell_type": "markdown",
   "metadata": {},
   "source": [
    "All the gradients will be:"
   ]
  },
  {
   "cell_type": "markdown",
   "metadata": {},
   "source": [
    "<p>$\\frac { dE }{ d{ w }_{ 7 } } =({ o }_{ 1 }-{ t }_{ 1 })\\frac { { do }_{ 1 } }{ { dw }_{ 7 } } =({ o }_{ 1 }-{ t }_{ 1 })\\frac { { do }_{ 1 } }{ { dzo }_{ 1 } } \\frac { { dzo }_{ 1 } }{ { dw }_{ 7 } } =({ o }_{ 1 }-{ t }_{ 1 }){ o }_{ 1 }(1-{ o }_{ 1 }){ h }_{ 1 }$</p>\n",
    "<p>$\\frac { dE }{ d{ w }_{ 8 } } =({ o }_{ 2 }-{ t }_{ 2 })\\frac { { do }_{ 2 } }{ { dw }_{ 8 } } =({ o }_{ 2 }-{ t }_{ 2 })\\frac { { do }_{ 2 } }{ { dzo }_{ 2 } } \\frac { { dzo }_{ 2 } }{ { dw }_{ 8 } } =({ o }_{ 2 }-{ t }_{ 2 }){ o }_{ 2 }(1-{ o }_{ 2 }){ h }_{ 1 }$</p>\n",
    "<p>$\\frac { dE }{ d{ w }_{ 9 } } =({ o }_{ 1 }-{ t }_{ 1 })\\frac { { do }_{ 1 } }{ { dw }_{ 9 } } =({ o }_{ 1 }-{ t }_{ 1 })\\frac { { do }_{ 1 } }{ { dzo }_{ 1 } } \\frac { { dzo }_{ 1 } }{ { dw }_{ 9 } } =({ o }_{ 1 }-{ t }_{ 1 }){ o }_{ 1 }(1-{ o }_{ 1 }){ h }_{ 2 }$</p>\n",
    "<p>$\\frac { dE }{ d{ w }_{ 10 } } =({ o }_{ 2 }-{ t }_{ 2 })\\frac { { do }_{ 2 } }{ { dw }_{ 10 } } =({ o }_{ 2 }-{ t }_{ 2 })\\frac { { do }_{ 2 } }{ { dzo }_{ 2 } } \\frac { { dzo }_{ 2 } }{ { dw }_{ 10 } } =({ o }_{ 2 }-{ t }_{ 2 }){ o }_{ 2 }(1-{ o }_{ 2 }){ h }_{ 2 }$</p>\n",
    "<hr>"
   ]
  },
  {
   "cell_type": "markdown",
   "metadata": {},
   "source": [
    "<p>$\\frac { dE }{ { dw }_{ 1 } } =({ o }_{ 1 }-{ t }_{ 1 })\\frac { d }{ { dw }_{ 1 } } { o }_{ 1 }+({ o }_{ 2 }-{ t }_{ 2 })\\frac { d }{ { dw }_{ 1 } } { o }_{ 2 }$</p>\n",
    "<p>$\\frac { d }{ { dw }_{ 1 } } { o }_{ 1 }=\\frac { d{ o }_{ 1 } }{ { dzo }_{ 1 } } \\frac { { dzo }_{ 1 } }{ { dh }_{ 1 } } \\frac { { dh }_{ 1 } }{ { dzh }_{ 1 } } \\frac { { dzh }_{ 1 } }{ { dw }_{ 1 } } $</p>\n",
    "<p>$ \\frac { d }{ { dw }_{ 1 } } { o }_{ 1 }={ o }_{ 1 }(1-{ o }_{ 1 }){ w }_{ 7 }{ h }_{ 1 }(1-{ h }_{ 1 }){ x }_{ 1 }$</p>\n",
    "<p>$\\frac { d }{ { dw }_{ 1 } } { o }_{ 2 }=\\frac { d{ o }_{ 2 } }{ { dzo }_{ 2 } } \\frac { { dzo }_{ 2 } }{ { dh }_{ 1 } } \\frac { { dh }_{ 1 } }{ { dzh }_{ 1 } } \\frac { { dzh }_{ 1 } }{ { dw }_{ 1 } }$</p>\n",
    "<p>$\\frac { d }{ { dw }_{ 1 } } { o }_{ 2 }={ o }_{ 2 }(1-{ o }_{ 2 }){ w }_{ 8 }{ h }_{ 1 }(1-{ h }_{ 1 }){ x }_{ 1 }$</p>\n",
    "<p>$\\frac { dE }{ { dw }_{ 1 } } =({ o }_{ 1 }-{ t }_{ 1 }){ o }_{ 1 }(1-{ o }_{ 1 }){ w }_{ 7 }{ h }_{ 1 }(1-{ h }_{ 1 }){ x }_{ 1 }+({ o }_{ 2 }-{ t }_{ 2 }){ o }_{ 2 }(1-{ o }_{ 2 }){ w }_{ 8 }{ h }_{ 1 }(1-{ h }_{ 1 }){ x }_{ 1 }$</p>\n",
    "<hr>"
   ]
  },
  {
   "cell_type": "markdown",
   "metadata": {},
   "source": [
    "<p>$\\frac { dE }{ { dw }_{ 2 } } =({ o }_{ 1 }-{ t }_{ 1 })\\frac { d }{ { dw }_{ 2 } } { o }_{ 1 }+({ o }_{ 2 }-{ t }_{ 2 })\\frac { d }{ { dw }_{ 2 } } { o }_{ 2 }\\\\ \n",
    "\\frac { d }{ { dw }_{ 2 } } { o }_{ 1 }=\\frac { d{ o }_{ 1 } }{ { dzo }_{ 1 } } \\frac { { dzo }_{ 1 } }{ { dh }_{ 2 } } \\frac { { dh }_{ 2 } }{ { dzh }_{ 2 } } \\frac { { dzh }_{ 2 } }{ { dw }_{ 2 } }$</p>  \n",
    "<p>$\\frac { d }{ { dw }_{ 2 } } { o }_{ 1 }={ o }_{ 1 }(1-{ o }_{ 1 }){ w }_{ 9 }{ h }_{ 2 }(1-{ h }_{ 2 }){ x }_{ 1 }$</p> \n",
    "<p>$\\frac { d }{ { dw }_{ 2 } } { o }_{ 2 }=\\frac { d{ o }_{ 2 } }{ { dzo }_{ 2 } } \\frac { { dzo }_{ 2 } }{ { dh }_{ 2 } } \\frac { { dh }_{ 2 } }{ { dzh }_{ 2 } } \\frac { { dzh }_{ 2 } }{ { dw }_{ 2 } }$</p> \n",
    "<p>$\\frac { d }{ { dw }_{ 2 } } { o }_{ 2 }={ o }_{ 2 }(1-{ o }_{ 2 }){ w }_{ 10 }{ h }_{ 2 }(1-{ h }_{ 2 }){ x }_{ 1 }$</p> \n",
    "<p>$\\frac { dE }{ { dw }_{ 2 } } =({ o }_{ 1 }-{ t }_{ 1 }){ o }_{ 1 }(1-{ o }_{ 1 }){ w }_{ 9 }{ h }_{ 2 }(1-{ h }_{ 2 }){ x }_{ 1 }+({ o }_{ 2 }-{ t }_{ 2 }){ o }_{ 2 }(1-{ o }_{ 2 }){ w }_{ 10 }{ h }_{ 2 }(1-{ h }_{ 2 }){ x }_{ 1 }$</p>"
   ]
  },
  {
   "cell_type": "markdown",
   "metadata": {},
   "source": [
    "<p>$\\frac { dE }{ { dw }_{ 3 } } =({ o }_{ 1 }-{ t }_{ 1 }){ o }_{ 1 }(1-{ o }_{ 1 }){ w }_{ 7 }{ h }_{ 1 }(1-{ h }_{ 1 }){ x }_{ 2 }+({ o }_{ 2 }-{ t }_{ 2 }){ o }_{ 2 }(1-{ o }_{ 2 }){ w }_{ 8 }{ h }_{ 1 }(1-{ h }_{ 1 }){ x }_{ 2 }$</p>\n",
    "<p>$\\frac { dE }{ { dw }_{ 4 } } =({ o }_{ 1 }-{ t }_{ 1 }){ o }_{ 1 }(1-{ o }_{ 1 }){ w }_{ 9 }{ h }_{ 2 }(1-{ h }_{ 2 }){ x }_{ 2 }+({ o }_{ 2 }-{ t }_{ 2 }){ o }_{ 2 }(1-{ o }_{ 2 }){ w }_{ 10 }{ h }_{ 2 }(1-{ h }_{ 2 }){ x }_{ 2 }$</p>\n",
    "<p>$\\frac { dE }{ { dw }_{ 5 } } =({ o }_{ 1 }-{ t }_{ 1 }){ o }_{ 1 }(1-{ o }_{ 1 }){ w }_{ 7 }{ h }_{ 1 }(1-{ h }_{ 1 }){ x }_{ 3 }+({ o }_{ 2 }-{ t }_{ 2 }){ o }_{ 2 }(1-{ o }_{ 2 }){ w }_{ 8 }{ h }_{ 1 }(1-{ h }_{ 1 }){ x }_{ 3 }$</p>\n",
    "<p>$\\frac { dE }{ { dw }_{ 6 } } =({ o }_{ 1 }-{ t }_{ 1 }){ o }_{ 1 }(1-{ o }_{ 1 }){ w }_{ 9 }{ h }_{ 2 }(1-{ h }_{ 2 }){ x }_{ 3 }+({ o }_{ 2 }-{ t }_{ 2 }){ o }_{ 2 }(1-{ o }_{ 2 }){ w }_{ 10 }{ h }_{ 2 }(1-{ h }_{ 2 }){ x }_{ 3 }$</p>\n",
    "<hr>"
   ]
  },
  {
   "cell_type": "markdown",
   "metadata": {},
   "source": [
    "<p>$\\frac { dE }{ { db }_{ 1 } } =({ o }_{ 1 }-{ t }_{ 1 })\\frac { { do }_{ 1 } }{ { db }_{ 1 } } +({ o }_{ 2 }-{ t }_{ 2 })\\frac { { do }_{ 2 } }{ { db }_{ 1 } }$</p>\n",
    "<p>$\\frac { d{ o }_{ 1 } }{ { db }_{ 1 } } =\\frac { { do }_{ 1 } }{ { dzo }_{ 1 } } \\frac { { dzo }_{ 1 } }{ { db }_{ 1 } } ={ o }_{ 1 }(1-{ o }_{ 1 })\\frac { { dzo }_{ 1 } }{ { db }_{ 1 } } $</p>\n",
    "<p>$\\frac { { dzo }_{ 1 } }{ { db }_{ 1 } } =\\frac { d }{ { db }_{ 1 } } { w }_{ 7 }{ h }_{ 1 }+\\frac { d }{ { db }_{ 1 } } { w }_{ 9 }{ h }_{ 2 }={ w }_{ 7 }\\frac { d{ h }_{ 1 } }{ { db }_{ 1 } } +{ w }_{ 9 }\\frac { d{ h }_{ 2 } }{ { db }_{ 1 } } =$</p>\n",
    "<p>$ ={ w }_{ 7 }\\frac { { dh }_{ 1 } }{ { dzh }_{ 1 } } \\frac { { dzh }_{ 1 } }{ { dh }_{ 1 } } +{ w }_{ 9 }\\frac { { dh }_{ 2 } }{ { dzh }_{ 2 } } \\frac { { dzh }_{ 2 } }{ { db }_{ 1 } } =$</p>\n",
    "<p>$={ w }_{ 7 }({ h }_{ 1 }(1-{ h }_{ 1 })\\cdot 1)+{ w }_{ 9 }({ w }_{ 9 }{ h }_{ 2 }(1-{ h }_{ 2 })\\cdot 1)$</p>\n",
    "<p>$\\frac { { do }_{ 1 } }{ { db }_{ 1 } } ={ o }_{ 1 }(1-{ o }_{ 1 })({ w }_{ 7 }{ h }_{ 1 }(1-{ h }_{ 1 })+{ w }_{ 9 }{ h }_{ 2 }(1-{ h }_{ 2 }))$\n",
    "</p>$\\frac { { do }_{ 2 } }{ { db }_{ 1 } } =\\frac { { do }_{ 2 } }{ { dzo }_{ 2 } } \\frac { { dzo }_{ 2 } }{ { db }_{ 1 } } ={ o }_{ 2 }(1-{ o }_{ 2 })\\frac { { dzo }_{ 2 } }{ { db }_{ 1 } } $</p>\n",
    "<p>$\\frac { { dzo }_{ 2 } }{ { db }_{ 1 } } =\\frac { d }{ { db }_{ 1 } } { w }_{ 8 }{ h }_{ 1 }+\\frac { d }{ { db }_{ 1 } } { w }_{ 10 }{ h }_{ 2 }={ w }_{ 8 }\\frac { d{ h }_{ 1 } }{ { db }_{ 1 } } +{ w }_{ 10 }\\frac { { dh }_{ 2 } }{ { db }_{ 1 } } =$</p>\n",
    "<p>$={ w }_{ 8 }\\frac { { dh }_{ 1 } }{ { dzh }_{ 1 } } \\frac { { dzh }_{ 1 } }{ { db }_{ 1 } } +{ w }_{ 10 }\\frac { { dh }_{ 2 } }{ { dzh }_{ 2 } } \\frac { { dzh }_{ 2 } }{ { db }_{ 1 } } =$</p>\n",
    "<p>$={ w }_{ 8 }({ h }_{ 1 }(1-{ h }_{ 1 })\\cdot 1)+{ w }_{ 10 }({ h }_{ 2 }(1-{ h }_{ 2 })\\cdot 1)$</p>\n",
    "<p>$\\frac { { do }_{ 2 } }{ { db }_{ 1 } } ={ o }_{ 2 }(1-{ o }_{ 2 })({ w }_{ 8 }{ h }_{ 1 }(1-{ h }_{ 2 })+{ w }_{ 10 }{ h }_{ 2 }(1-{ h }_{ 2 }))$</p>\n",
    "<p>$\\frac { { dE } }{ { db }_{ 1 } } =({ o }_{ 1 }-{ t }_{ 1 }){ o }_{ 1 }(1-{ o }_{ 1 })({ w }_{ 7 }{ h }_{ 1 }(1-{ h }_{ 1 })+{ w }_{ 9 }{ h }_{ 2 }(1-{ h }_{ 2 }))+({ o }_{ 2 }-{ t }_{ 2 }){ o }_{ 2 }(1-{ o }_{ 2 })({ w }_{ 8 }{ h }_{ 1 }(1-{ h }_{ 2 })+{ w }_{ 10 }{ h }_{ 2 }(1-{ h }_{ 2 }))$</p>\n",
    "<hr>"
   ]
  },
  {
   "cell_type": "markdown",
   "metadata": {},
   "source": [
    "<p>$\\frac { dE }{ { d }b_{ 2 } } =({ o }_{ 1 }-{ t }_{ 1 })\\frac { { do }_{ 1 } }{ { db }_{ 2 } } +(o_{ 2 }-{ t }_{ 2 })\\frac { { do }_{ 2 } }{ { db }_{ 2 } } $</p>\n",
    "<p>$\\frac { { do }_{ 1 } }{ { db }_{ 2 } } =\\frac { { do }_{ 1 } }{ { dzo }_{ 1 } } \\frac { { dzo }_{ 1 } }{ { db }_{ 2 } } ={ o }_{ 1 }(1-{ o }_{ 1 })\\cdot 1\\\\ \\frac { { do }_{ 2 } }{ { db }_{ 2 } } =\\frac { { do }_{ 2 } }{ { dzo }_{ 2 } } \\frac { { dzo }_{ 2 } }{ { db }_{ 2 } } ={ o }_{ 2 }(1-{ o }_{ 2 })\\cdot 1$</p>\n",
    "<p>$ \\frac { { dE } }{ { db }_{ 2 } } =({ o }_{ 1 }-{ t }_{ 1 }){ o }_{ 1 }(1-{ o }_{ 1 })+({ o }_{ 2 }-{ t }_{ 2 }){ o }_{ 2 }(1-{ o }_{ 2 })$</p>"
   ]
  },
  {
   "cell_type": "code",
   "execution_count": 3,
   "metadata": {},
   "outputs": [
    {
     "name": "stdout",
     "output_type": "stream",
     "text": [
      "Final result:\n",
      "Targets: 0.1 0.8\n",
      "Outputs: 0.10826251757824877 0.7974962884590129\n",
      "Final weights: 1.0 1.0 1.0 1.0 1.0 1.0 -0.7120776441249524 1.027600254409115 -0.7120776441249524 1.027600254409115\n"
     ]
    },
    {
     "data": {
      "image/png": "[encoded data removed]",
      "text/plain": [
       "<Figure size 432x288 with 1 Axes>"
      ]
     },
     "metadata": {
      "needs_background": "light"
     },
     "output_type": "display_data"
    }
   ],
   "source": [
    "import matplotlib.pyplot as plt\n",
    "import numpy as np\n",
    "import pandas as pd\n",
    "\n",
    "#iterations\n",
    "epochs = 10000\n",
    "\n",
    "#learn rate\n",
    "alpha = 0.01\n",
    "\n",
    "#weights\n",
    "w1 = 1\n",
    "w2 = 1\n",
    "w3 = 1\n",
    "w4 = 1\n",
    "w5 = 1\n",
    "w6 = 1\n",
    "w7 = 1\n",
    "w8 = 1\n",
    "w9 = 1\n",
    "w10= 1\n",
    "\n",
    "#bias\n",
    "b1 = 1\n",
    "b2 = 1\n",
    "\n",
    "#input\n",
    "x1 = 1\n",
    "x2 = 20\n",
    "x3 = 50\n",
    "\n",
    "#target\n",
    "t1 = 0.1\n",
    "t2 = 0.8\n",
    "\n",
    "\n",
    "# Activation (sigmoid) function\n",
    "def sigmoid(x):\n",
    "    return 1 / (1 + np.exp(-x))\n",
    "\n",
    "class Perceptron:\n",
    "    def __init__(self,X,w,activation = None):\n",
    "        self.X = X\n",
    "        self.w = w\n",
    "        self.activation = activation\n",
    "\n",
    "    def out(self):\n",
    "        self.zh()\n",
    "        self.h = self.activation(self.net)\n",
    "        return self.h\n",
    "\n",
    "    def zh(self):\n",
    "        self.net = np.dot(self.X, self.w)\n",
    "\n",
    "def forwardProp(x1,x2,x3,w1,w2,w3,w4,w5,w6,w7,w8,w9,w10,b1,b2):\n",
    "\n",
    "    p1 = Perceptron([x1,x2,x3,1],[w1,w3,w5,b1],sigmoid)\n",
    "    p2 = Perceptron([x1,x2,x3,1],[w2,w4,w6,b1],sigmoid)\n",
    "    p3 = Perceptron([p1.out(),p2.out(),1],[w7,w9,b2],sigmoid)\n",
    "    p4 = Perceptron([p1.out(),p2.out(),1],[w8,w10,b2],sigmoid)\n",
    "\n",
    "    h1 = p1.out()\n",
    "    h2 = p2.out()\n",
    "    o1 = p3.out()\n",
    "    o2 = p4.out()\n",
    "\n",
    "    return h1, h2, o1, o2\n",
    "\n",
    "def gradients(h1, h2, o1, o2):\n",
    "\n",
    "    #gradients of weights\n",
    "    dE_dw7  = (o1-t1)*o1*(1-o1)*h1\n",
    "    dE_dw8  = (o2-t2)*o2*(1-o2)*h1\n",
    "    dE_dw9  = (o1-t1)*o1*(1-o1)*h2\n",
    "    dE_dw10 = (o2-t2)*o2*(1-o2)*h2\n",
    "\n",
    "    dE_dw1 = (o1-t1)*o1*(1-o1)*w7 *h1*(1-h1)*x1 + \\\n",
    "             (o2-t2)*o2*(1-o2)*w8 *h1*(1-h1)*x1\n",
    "    dE_dw2 = (o1-t1)*o1*(1-o1)*w9 *h2*(1-h2)*x1 + \\\n",
    "             (o2-t2)*o2*(1-o2)*w10*h2*(1-h2)*x1\n",
    "    dE_dw3 = (o1-t1)*o1*(1-o1)*w7 *h1*(1-h1)*x2 + \\\n",
    "             (o2-t2)*o2*(1-o2)*w8 *h1*(1-h1)*x2\n",
    "    dE_dw4 = (o1-t1)*o1*(1-o1)*w9 *h2*(1-h2)*x2 + \\\n",
    "             (o2-t2)*o2*(1-o2)*w10*h2*(1-h2)*x2\n",
    "    dE_dw5 = (o1-t1)*o1*(1-o1)*w7 *h1*(1-h1)*x3 + \\\n",
    "             (o2-t2)*o2*(1-o2)*w8 *h1*(1-h1)*x3\n",
    "    dE_dw6 = (o1-t1)*o1*(1-o1)*w9 *h2*(1-h2)*x3 + \\\n",
    "             (o2-t2)*o2*(1-o2)*w10*h2*(1-h2)*x3\n",
    "\n",
    "    dE_db1 = (o1-t1)*o1*( w7*h1*(1-h1) +  w9*h2*(1-h2) ) + \\\n",
    "             (o2-t2)*o2*( w8*h1*(1-h1) + w10*h2*(1-h2) )\n",
    "    dE_db2 = (o1-t1)*o1*(1-o1) + (o2-t2)*o2*(1-o2)\n",
    "\n",
    "    if(False):\n",
    "        print(\"dE_dw1\",dE_dw1)\n",
    "        print(\"dE_dw2\",dE_dw2)\n",
    "        print(\"dE_dw3\",dE_dw3)\n",
    "        print(\"dE_dw4\",dE_dw4)\n",
    "        print(\"dE_dw5\",dE_dw5)\n",
    "        print(\"dE_dw6\",dE_dw6)\n",
    "        print(\"dE_dw7\",dE_dw7)\n",
    "        print(\"dE_dw8\",dE_dw8)\n",
    "        print(\"dE_dw9\",dE_dw9)\n",
    "        print(\"dE_dw10\",dE_dw10)\n",
    "        print(\"dE_db1\",dE_db1)\n",
    "        print(\"dE_db2\",dE_db2)\n",
    "\n",
    "    return dE_dw1, dE_dw2, dE_dw3, dE_dw4, dE_dw5, dE_dw6, dE_dw7, dE_dw8, dE_dw9, dE_dw10, dE_db1, dE_db2 \n",
    "\n",
    "\n",
    "def error(oList, tList):\n",
    "        return 0.5 * (np.power(oList[0] - tList[0], 2) + np.power(oList[1] - tList[1], 2))\n",
    "\n",
    "\n",
    "errList = []\n",
    "\n",
    "for i in range(epochs):\n",
    "    h1, h2, o1, o2 = forwardProp(x1,x2,x3,w1,w2,w3,w4,w5,w6,w7,w8,w9,w10,b1,b2)\n",
    "    dE_dw1, dE_dw2, dE_dw3, dE_dw4, dE_dw5, dE_dw6, dE_dw7, dE_dw8, dE_dw9, dE_dw10, dE_db1, dE_db2 = gradients(h1, h2, o1, o2)\n",
    "\n",
    "    #compute error\n",
    "    sse = error([o1, o2], [t1, t2])\n",
    "    errList.append(sse)\n",
    "\n",
    "    #update weights\n",
    "    w1  = w1  - alpha * dE_dw1\n",
    "    w2  = w2  - alpha * dE_dw2\n",
    "    w3  = w3  - alpha * dE_dw3\n",
    "    w4  = w4  - alpha * dE_dw4\n",
    "    w5  = w5  - alpha * dE_dw5\n",
    "    w6  = w6  - alpha * dE_dw6\n",
    "    w7  = w7  - alpha * dE_dw7\n",
    "    w8  = w8  - alpha * dE_dw8\n",
    "    w9  = w9  - alpha * dE_dw9\n",
    "    w10 = w10 - alpha * dE_dw10\n",
    "    b1  = b1  - alpha * dE_db1\n",
    "    b2  = b2  - alpha * dE_db2\n",
    "\n",
    "print(\"Final result:\")\n",
    "print(\"Targets:\",t1,t2)\n",
    "print(\"Outputs:\",o1,o2)\n",
    "print(\"Final weights:\",w1,w2,w3,w4,w5,w6,w7,w8,w9,w10)\n",
    "\n",
    "pd.DataFrame(errList, columns=['SSE']).plot()\n",
    "plt.savefig(\"sse.png\")\n",
    "plt.show()\n"
   ]
  },
  {
   "cell_type": "markdown",
   "metadata": {},
   "source": []
  }
 ],
 "metadata": {
  "kernelspec": {
   "display_name": "Python 3",
   "language": "python",
   "name": "python3"
  },
  "language_info": {
   "codemirror_mode": {
    "name": "ipython",
    "version": 3
   },
   "file_extension": ".py",
   "mimetype": "text/x-python",
   "name": "python",
   "nbconvert_exporter": "python",
   "pygments_lexer": "ipython3",
   "version": "3.5.3"
  }
 },
 "nbformat": 4,
 "nbformat_minor": 2
}

{
 "cells": [
  {
   "cell_type": "markdown",
   "metadata": {},
   "source": [
    "<h3 style=\"text-align: center\">Non-linear boundary - 2 layers NN</h3>"
   ]
  },
  {
   "cell_type": "code",
   "execution_count": 1,
   "metadata": {},
   "outputs": [],
   "source": [
    "import torch\n",
    "from torch.autograd import Variable\n",
    "import numpy as np\n",
    "import matplotlib.pyplot as plt"
   ]
  },
  {
   "cell_type": "code",
   "execution_count": 2,
   "metadata": {},
   "outputs": [],
   "source": [
    "def plot_points(X, y, m=\"_\"):\n",
    "    admitted = X[np.argwhere(y==1)]\n",
    "    rejected = X[np.argwhere(y==0)]\n",
    "    plt.scatter([s[0][0] for s in admitted], [s[0][1] for s in admitted], s = 25, color = 'blue', edgecolor = 'k',zorder=2, marker=m)\n",
    "    plt.scatter([s[0][0] for s in rejected], [s[0][1] for s in rejected], s = 25, color = 'red', edgecolor = 'k',zorder=2, marker=m )\n",
    "\n",
    "def plot_zone(X, y):\n",
    "    admitted = X[np.argwhere(y==1)]\n",
    "    rejected = X[np.argwhere(y==0)]\n",
    "    plt.scatter([s[0][0] for s in admitted], [s[0][1] for s in admitted], s = 25, color = 'blue', edgecolor = 'k',zorder=2, marker=\"+\")\n",
    "    plt.scatter([s[0][0] for s in rejected], [s[0][1] for s in rejected], s = 25, color = 'red', edgecolor = 'k',zorder=2, marker=\"_\" )  \n",
    "\n",
    "def net(features):\n",
    "    h = activation(torch.mm(features, W1) + B1)\n",
    "    output = activation(torch.mm(h, W2) + B2)\n",
    "    return output\n",
    "\n",
    "def view(net):\n",
    "\n",
    "    datamin = np.min(net.points, axis=0)\n",
    "    datamax = np.max(net.points, axis=0)\n",
    "    xmin, ymin = datamin\n",
    "    xmax, ymax = datamax    \n",
    "       \n",
    "    border = []\n",
    "    xList = np.linspace(xmin, xmax, 50)\n",
    "    for x in xList:\n",
    "        yList = np.linspace(ymin, ymax, 50)\n",
    "        for y in yList:\n",
    "            out = net.output(torch.Tensor([[x,y]]).double())\n",
    "            if out >= 0.5:\n",
    "                border.append([x,y,1]) \n",
    "            else:\n",
    "                border.append([x,y,0])\n",
    "\n",
    "    #print(border)\n",
    "    border = np.array(border)\n",
    "    solutionX = border[:, [0,1]]\n",
    "    solutionT = border[:, [2]]\n",
    "    plot_zone(solutionX, solutionT)\n",
    "\n",
    "    plot_points(net.points, net.target,m=\"o\")  "
   ]
  },
  {
   "cell_type": "code",
   "execution_count": 3,
   "metadata": {},
   "outputs": [],
   "source": [
    "data = np.array([\n",
    "    [1,10,1],\n",
    "    [3,10,0],\n",
    "    [1.8,2.0,0],\n",
    "    [0,6,0],\n",
    "    [-1,-1,1],\n",
    "    [-2,10,1],\n",
    "])\n",
    "\n",
    "#data file\n",
    "#data = pd.read_csv('data.csv', header=None)\n",
    "#data = data.reset_index().to_numpy()\n",
    "#data = data[:,[1,2,3]]"
   ]
  },
  {
   "cell_type": "code",
   "execution_count": 11,
   "metadata": {},
   "outputs": [
    {
     "name": "stdout",
     "output_type": "stream",
     "text": [
      "tensor(0.3696, dtype=torch.float64, grad_fn=<SumBackward0>)\n"
     ]
    },
    {
     "data": {
      "image/png": "[encoded data removed]",
      "text/plain": [
       "<Figure size 432x288 with 1 Axes>"
      ]
     },
     "metadata": {
      "needs_background": "light"
     },
     "output_type": "display_data"
    },
    {
     "data": {
      "image/png": "[encoded data removed]",
      "text/plain": [
       "<Figure size 432x288 with 1 Axes>"
      ]
     },
     "metadata": {
      "needs_background": "light"
     },
     "output_type": "display_data"
    }
   ],
   "source": [
    "#sigmoid\n",
    "def sigmoid(x):\n",
    "    return 1/(1+torch.exp(-x))\n",
    "\n",
    "activation = sigmoid\n",
    "#activation = torch.nn.Sigmoid()\n",
    "\n",
    "# Loss (cross entropy) error function\n",
    "def error(output, target):\n",
    "    return -target * torch.log(output) - (1-target) * torch.log(1-output)\n",
    "\n",
    "class NN:\n",
    "    def __init__(self, data):\n",
    "        torch.manual_seed(1) # Set the random seed so things are predictable\n",
    "\n",
    "        self.points = data[:, [0,1]]\n",
    "        self.target = data[:, [2]]\n",
    "\n",
    "        self.T = torch.from_numpy(self.target)#.double()\n",
    "        self.features = torch.from_numpy(self.points).double()  #.float()           \n",
    "        \n",
    "        self.activation = activation\n",
    "        self.error = error\n",
    "        \n",
    "        n_input = self.features.shape[1]    \n",
    "        n_hidden1 = 10                 \n",
    "        n_hidden2 = 20\n",
    "        n_output = 1                   \n",
    "        \n",
    "        self.W1 = Variable(torch.randn(n_input,   n_hidden1, dtype=torch.double), requires_grad=True)\n",
    "        self.W2 = Variable(torch.randn(n_hidden1, n_hidden2, dtype=torch.double), requires_grad=True)\n",
    "        self.W3 = Variable(torch.randn(n_hidden2, n_output, dtype=torch.double),  requires_grad=True)\n",
    "        \n",
    "        self.B1 = Variable(torch.randn(1, n_hidden1, dtype=torch.double), requires_grad=True)\n",
    "        self.B2 = Variable(torch.randn(1, n_hidden2, dtype=torch.double), requires_grad=True)        \n",
    "        self.B3 = Variable(torch.randn(1, n_output, dtype=torch.double), requires_grad=True)        \n",
    "     \n",
    "    \n",
    "    def output(self,features):\n",
    "        h1     = self.activation(torch.mm(features, self.W1) + self.B1)\n",
    "        h2     = self.activation(torch.mm(h1, self.W2) + self.B2)\n",
    "        output = self.activation(torch.mm(h2, self.W3) + self.B3)\n",
    "        return output\n",
    "        \n",
    "    def train(self, epochs = 100, alpha=0.01):   \n",
    "\n",
    "        self.epochs = epochs\n",
    "        self.alpha = alpha        \n",
    "        \n",
    "        self.lossHistory = []\n",
    "\n",
    "        for i in range(epochs):\n",
    "            E = self.error(self.output(self.features),self.T)\n",
    "            \n",
    "            loss = torch.sum(E)\n",
    "\n",
    "            self.lossHistory.append(loss)\n",
    "    \n",
    "            loss.backward()\n",
    "    \n",
    "            with torch.no_grad():\n",
    "                self.W1 -= self.alpha * self.W1.grad\n",
    "                self.W2 -= self.alpha * self.W2.grad\n",
    "                self.W3 -= self.alpha * self.W3.grad\n",
    "                self.B1 -= self.alpha * self.B1.grad\n",
    "                self.B2 -= self.alpha * self.B2.grad\n",
    "                self.B3 -= self.alpha * self.B3.grad\n",
    "\n",
    "                # Manually zero the gradients after updating weights\n",
    "                self.W1.grad.zero_()\n",
    "                self.W2.grad.zero_()\n",
    "                self.W3.grad.zero_()\n",
    "                self.B1.grad.zero_()\n",
    "                self.B2.grad.zero_()\n",
    "                self.B3.grad.zero_()\n",
    "        \n",
    "        \n",
    "        \n",
    "        \n",
    "net = NN(data)               \n",
    "net.train(epochs=3000)  #2000\n",
    "\n",
    "print(net.lossHistory[len(net.lossHistory)-1])\n",
    "plt.plot(net.lossHistory)\n",
    "plt.show()\n",
    "\n",
    "view(net)\n"
   ]
  },
  {
   "cell_type": "code",
   "execution_count": 7,
   "metadata": {},
   "outputs": [],
   "source": [
    "#view(net)"
   ]
  },
  {
   "cell_type": "code",
   "execution_count": null,
   "metadata": {},
   "outputs": [],
   "source": []
  }
 ],
 "metadata": {
  "kernelspec": {
   "display_name": "Python 3",
   "language": "python",
   "name": "python3"
  },
  "language_info": {
   "codemirror_mode": {
    "name": "ipython",
    "version": 3
   },
   "file_extension": ".py",
   "mimetype": "text/x-python",
   "name": "python",
   "nbconvert_exporter": "python",
   "pygments_lexer": "ipython3",
   "version": "3.5.3"
  }
 },
 "nbformat": 4,
 "nbformat_minor": 2
}

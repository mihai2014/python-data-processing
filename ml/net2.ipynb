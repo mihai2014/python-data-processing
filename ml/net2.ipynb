{
 "cells": [
  {
   "cell_type": "markdown",
   "metadata": {},
   "source": [
    "<img src=\"nn3.png\" style=\"width: 200px;\"></img>"
   ]
  },
  {
   "cell_type": "code",
   "execution_count": null,
   "metadata": {},
   "outputs": [],
   "source": [
    "Gradients:"
   ]
  },
  {
   "cell_type": "markdown",
   "metadata": {},
   "source": [
    "$ { zh }_{ 1 }={ w }_{ 11 }{ x }_{ 1 }+{ w }_{ 21 }{ x }_{ 2 }+{ b }_{ 1 }\\\\ { zh }_{ 2 }={ w }_{ 12 }{ x }_{ 1 }+{ w }_{ 22 }{ x }_{ 2 }+{ b }_{ 1 }\\\\ { zh }_{ 3 }={ w }_{ 13 }{ x }_{ 1 }+{ w }_{ 23 }{ x }_{ 2 }+{ b }_{ 1 }\\\\ { h }_{ 1 }=\\sigma ({ zh }_{ 1 })\\\\ { h }_{ 2 }=\\sigma ({ zh }_{ 2 })\\\\ { h }_{ 3 }=\\sigma ({ zh }_{ 3 })\\\\ { z }_{ out }={ w }_{ 1 }{ h }_{ 1 }+{ w }_{ 2 }{ h }_{ 2 }+{ w }_{ 3 }{ h }_{ 3 }+{ b }_{ 2 }\\\\ out=\\sigma ({ z }_{ out })\\\\ \\\\ E=-t\\cdot ln(out)-(1-t)\\cdot ln(1-out) $"
   ]
  },
  {
   "cell_type": "markdown",
   "metadata": {},
   "source": [
    "$ \\frac { dE }{ { dw }_{ 1 } } =-t\\frac { 1 }{ out } \\frac { { d }_{ out } }{ { dw }_{ 1 } } -(1-t)\\frac { 1 }{ 1-out } (-1)\\frac { { d }_{ out } }{ { dw }_{ 1 } } \\\\ =-t\\frac { 1 }{ out } \\frac { { d }_{ out } }{ { dw }_{ 1 } } +(1-t)\\frac { 1 }{ 1-out } \\frac { { d }_{ out } }{ { dw }_{ 1 } } \\\\ \\frac { { d }_{ out } }{ { dw }_{ 1 } } =\\frac { { d }_{ out } }{ { dz }_{ out } } \\frac { { dz }_{ out } }{ { dw }_{ 1 } } =out(1-out){ h }_{ 1 }\\\\ Similarly:\\\\ \\frac { dE }{ { dw }_{ 2 } } =out(1-out){ h }_{ 2 }\\\\ \\frac { dE }{ { dw }_{ 3 } } =out(1-out){ h }_{ 3 } $"
   ]
  },
  {
   "cell_type": "markdown",
   "metadata": {},
   "source": [
    "$ \\frac { dE }{ { dw }_{ 11 } } =-t\\frac { 1 }{ out } \\frac { { d }_{ out } }{ { dw }_{ 11 } } +(1-t)\\frac { 1 }{ 1-out } \\frac { { d }_{ out } }{ { dw }_{ 11 } } \\\\ \\frac { { d }_{ out } }{ { dw }_{ 11 } } =\\frac { { d }_{ out } }{ { dz }_{ out } } \\frac { { dz }_{ out } }{ { dh }_{ 1 } } \\frac { { dh }_{ 1 } }{ { dzh }_{ 1 } } \\frac { { dzh }_{ 1 } }{ { dw }_{ 11 } } =\\\\ ={ w }_{ 1 }{ x }_{ 1 }{ h }_{ 1 }(1-{ h }_{ 1 })out(1-out)\\\\ \\frac { dE }{ { dw }_{ 11 } } =-t\\frac { 1 }{ out } out(1-out){ w }_{ 1 }{ x }_{ 1 }{ h }_{ 1 }(1-{ h }_{ 1 })+\\\\ +(1-t)\\frac { 1 }{ 1-out } out(1-out){ w }_{ 1 }{ x }_{ 1 }{ h }_{ 1 }(1-{ h }_{ 1 })=\\\\ -t(1-out){ w }_{ 1 }{ x }_{ 1 }{ h }_{ 1 }(1-{ h }_{ 1 })+(1-t)out\\cdot { w }_{ 1 }{ x }_{ 1 }{ h }_{ 1 }(1-{ h }_{ 1 })=\\\\ ={ w }_{ 1 }{ x }_{ 1 }{ h }_{ 1 }(1-{ h }_{ 1 })(-t+t\\cdot out+out-t\\cdot out)=\\\\ ={ w }_{ 1 }{ x }_{ 1 }{ h }_{ 1 }(1-{ h }_{ 1 })(out-t)\\\\ $"
   ]
  },
  {
   "cell_type": "markdown",
   "metadata": {},
   "source": [
    "<p>Similarly:</p>\n",
    "$ \\frac { dE }{ { dw }_{ 12 } } ={ w }_{ 2 }{ x }_{ 1 }{ h }_{ 2 }(1-{ h }_{ 2 })(out-t)\\\\ \\frac { dE }{ { dw }_{ 13 } } ={ w }_{ 3 }{ x }_{ 1 }{ h }_{ 3 }(1-{ h }_{ 3 })(out-t)\\\\ \\frac { dE }{ { dw }_{ 21 } } ={ w }_{ 1 }{ x }_{ 2 }{ h }_{ 1 }(1-{ h }_{ 1 })(out-t)\\\\ \\frac { dE }{ { dw }_{ 22 } } ={ w }_{ 2 }{ x }_{ 2 }{ h }_{ 2 }(1-{ h }_{ 2 })(out-t)\\\\ \\frac { dE }{ { dw }_{ 23 } } ={ w }_{ 3 }{ x }_{ 2 }{ h }_{ 3 }(1-{ h }_{ 3 })(out-t)\\\\ \\\\  $"
   ]
  },
  {
   "cell_type": "markdown",
   "metadata": {},
   "source": [
    "$ \\frac { dE }{ db_{ 2 } } =-t\\frac { 1 }{ out } \\frac { { d }_{ out } }{ db_{ 2 } } +(1-t)\\frac { 1 }{ 1-out } \\frac { { d }_{ out } }{ { db }_{ 2 } } \\\\ \\frac { { d }_{ out } }{ db_{ 2 } } =\\frac { { d }_{ out } }{ { dz }_{ out } } \\frac { { dz }_{ out } }{ { db }_{ 2 } } =out(1-out)\\\\ \\frac { dE }{ { db }_{ 2 } } =-t\\frac { 1 }{ out } out(1-out)+(1-t)\\frac { 1 }{ 1-out } out(1-out)=\\\\ =-t(1-out)+(1-t)out=out-t\\\\  $"
   ]
  },
  {
   "cell_type": "markdown",
   "metadata": {},
   "source": [
    "$ \\frac { dE }{ { db }_{ 1 } } =-t\\frac { 1 }{ out } \\frac { { d }_{ out } }{ db_{ 1 } } -(1-t)\\frac { 1 }{ 1-out } (-1)\\frac { { d }_{ out } }{ { db }_{ 1 } } =\\\\ =-t\\frac { 1 }{ out } \\frac { { d }_{ out } }{ db_{ 1 } } +(1-t)\\frac { 1 }{ 1-out } \\frac { { d }_{ out } }{ db_{ 1 } } \\\\ \\frac { { d }_{ out } }{ { db }_{ 1 } } =\\frac { { d }_{ out } }{ { dz }_{ out } } \\frac { { dz }_{ out } }{ { db }_{ 1 } } =\\frac { { d }_{ out } }{ { dz }_{ out } } (\\frac { d }{ { db }_{ 1 } } { w }_{ 1 }{ h }_{ 1 }+\\frac { d }{ { db }_{ 1 } } { w }_{ 2 }{ h }_{ 2 }+\\frac { d }{ { db }_{ 1 } } { w }_{ 3 }{ h }_{ 3 })=\\\\ =\\frac { { d }_{ out } }{ { dz }_{ 0 } } ({ w }_{ 1 }\\frac { d{ h }_{ 1 } }{ { db }_{ 1 } } +{ w }_{ 2 }\\frac { d{ h }_{ 2 } }{ { db }_{ 1 } } +{ w }_{ 3 }\\frac { { dh }_{ 3 } }{ { db }_{ 1 } } )=\\\\ =\\frac { { d }_{ out } }{ { dz }_{ 0 } } ({ w }_{ 1 }\\frac { { dh }_{ 1 } }{ { dzh }_{ 1 } } \\frac { { dzh }_{ 1 } }{ { db }_{ 1 } } +{ w }_{ 2 }\\frac { { dh }_{ 2 } }{ { dzh }_{ 2 } } \\frac { { dzh }_{ 2 } }{ { db }_{ 1 } } +{ w }_{ 3 }\\frac { { dh }_{ 3 } }{ { dzh }_{ 3 } } \\frac { { dzh }_{ 3 } }{ { db }_{ 1 } } )=\\\\ =out(1-out)({ w }_{ 1 }{ h }_{ 1 }(1-{ h }_{ 1 })+{ w }_{ 2 }{ h }_{ 2 }(1-{ h }_{ 2 })+{ w }_{ 3 }{ h }_{ 3 }(1-{ h }_{ 3 }))\\\\ \\\\ \\frac { dE }{ { db }_{ 1 } } =-t\\frac { 1 }{ out } out(1-out)(...)+(1-t)\\frac { 1 }{ 1-out } (...)=\\\\ =(out-t)({ w }_{ 1 }{ h }_{ 1 }(1-{ h }_{ 1 })+{ w }_{ 2 }{ h }_{ 2 }(1-{ h }_{ 2 })+{ w }_{ 3 }{ h }_{ 3 }(1-{ h }_{ 3 }))\\\\ (1-t)\\frac { 1 }{ 1-out } out(1-out)({ w }_{ 5 }{ h }_{ 1 }(1-{ h }_{ 1 })+{ w }_{ 6 }{ h }_{ 2 }(1-{ h }_{ 2 }))=\\\\ =(...)(-t+t\\cdot out+out-t\\cdot out)=\\\\ =(out-t)({ w }_{ 5 }{ h }_{ 1 }(1-{ h }_{ 1 })+{ w }_{ 6 }{ h }_{ 2 }(1-{ h }_{ 2 })) $"
   ]
  },
  {
   "cell_type": "markdown",
   "metadata": {},
   "source": []
  },
  {
   "cell_type": "code",
   "execution_count": 1,
   "metadata": {},
   "outputs": [],
   "source": [
    "import matplotlib.pyplot as plt\n",
    "import numpy as np\n",
    "import pandas as pd"
   ]
  },
  {
   "cell_type": "code",
   "execution_count": 2,
   "metadata": {},
   "outputs": [],
   "source": [
    "def plot_points(X, y, m=\"_\"):\n",
    "    admitted = X[np.argwhere(y==1)]\n",
    "    rejected = X[np.argwhere(y==0)]\n",
    "    plt.scatter([s[0][0] for s in admitted], [s[0][1] for s in admitted], s = 25, color = 'blue', edgecolor = 'k',zorder=2, marker=m)\n",
    "    plt.scatter([s[0][0] for s in rejected], [s[0][1] for s in rejected], s = 25, color = 'red', edgecolor = 'k',zorder=2, marker=m )\n",
    "\n",
    "def plot_zone(X, y):\n",
    "    admitted = X[np.argwhere(y==1)]\n",
    "    rejected = X[np.argwhere(y==0)]\n",
    "    plt.scatter([s[0][0] for s in admitted], [s[0][1] for s in admitted], s = 25, color = 'blue', edgecolor = 'k',zorder=2, marker=\"+\")\n",
    "    plt.scatter([s[0][0] for s in rejected], [s[0][1] for s in rejected], s = 25, color = 'red', edgecolor = 'k',zorder=2, marker=\"_\" )        \n",
    "    \n",
    "def boundary(net,xmin,xmax,ymin,ymax,X,T,filename='boundary.png'):\n",
    "    more=1\n",
    "    #plt.xlim(xmin-more,xmax+more)\n",
    "    #plt.ylim(ymin-more,ymax+more)\n",
    "    \n",
    "    #samples\n",
    "    #x = np.linspace(xmin, xmax, 200)\n",
    "    #stepsize \n",
    "    #x = np.arange(xmin, xmax, 0.1)\n",
    "\n",
    "    border = []\n",
    "    xList = np.linspace(xmin, xmax, 50)\n",
    "    for x in xList:\n",
    "        yList = np.linspace(ymin, ymax, 50)\n",
    "        for y in yList:\n",
    "            out = net.output([x,y])\n",
    "            if out >= 0.5:\n",
    "                border.append([x,y,1]) \n",
    "            else:\n",
    "                border.append([x,y,0])\n",
    "\n",
    "    border = np.array(border)\n",
    "    solutionX = border[:, [0,1]]\n",
    "    solutionT = border[:, [2]]\n",
    "    #plot_points(solutionX, solutionT)\n",
    "    plot_zone(solutionX, solutionT)\n",
    "    plot_points(X, T,m=\"o\")\n",
    "    \n",
    "    #x, y = zip(*border)\n",
    "    #plt.scatter(x,y)\n",
    "    plt.savefig(filename)\n",
    "    \n",
    "def view(p,xmin,xmax,ymin,ymax):\n",
    "    more=1\n",
    "\n",
    "    border = []\n",
    "    xList = np.linspace(xmin, xmax, 50)\n",
    "    for x in xList:\n",
    "        yList = np.linspace(ymin, ymax, 50)\n",
    "        for y in yList:\n",
    "            out = p.output([x,y])\n",
    "            if out >= 0.5:\n",
    "                border.append([x,y,1]) \n",
    "            else:\n",
    "                border.append([x,y,0])\n",
    "\n",
    "    border = np.array(border)\n",
    "    solutionX = border[:, [0,1]]\n",
    "    solutionT = border[:, [2]]\n",
    "    #plot_points(solutionX, solutionT)\n",
    "    plot_zone(solutionX, solutionT)\n",
    "    #plot_points(X, T,m=\"o\")\n",
    "    \n",
    "    #x, y = zip(*border)\n",
    "    #plt.scatter(x,y)\n",
    "    #plt.savefig(filename)    "
   ]
  },
  {
   "cell_type": "code",
   "execution_count": 3,
   "metadata": {},
   "outputs": [],
   "source": [
    "# Loss (cross entropy) error function\n",
    "def error(t, output):\n",
    "    return - t*np.log(output) - (1 - t) * np.log(1-output)\n",
    "\n",
    "# Activation (sigmoid) function\n",
    "def sigmoid(x):\n",
    "    return 1 / (1 + np.exp(-x))\n",
    "\n",
    "\n",
    "class Perceptron:\n",
    "    def __init__(self, w=[], activation = None, alpha = 0.01, label = None):\n",
    "        self.label = label\n",
    "        self.w = np.array(w)\n",
    "        self.x = np.zeros(self.w.shape[0])\n",
    "        self.activation = activation\n",
    "        self.alpha = alpha\n",
    "\n",
    "    def output(self,x):\n",
    "        self.h = self.activation(self.zh(x))\n",
    "        return self.h\n",
    "\n",
    "    def zh(self,x):\n",
    "        #add 'fake' 1 value to x list for bias correspondence\n",
    "        self.x = np.append(x,1)\n",
    "        self.net = np.dot(self.x, self.w)\n",
    "        return self.net\n",
    "\n",
    "    def update(self,de_dw):\n",
    "        self.w = self.w - de_dw * self.alpha\n",
    "\n",
    "#gradients of weights\n",
    "def gradients(net, t, x):\n",
    "    t = t[0]\n",
    "    x1 = x[0]\n",
    "    x2 = x[1]    \n",
    "    \n",
    "    h1 = net.h1\n",
    "    h2 = net.h2\n",
    "    h3 = net.h3\n",
    "    out = net.out\n",
    "    w1 = net.p4.w[0]\n",
    "    w2 = net.p4.w[1]     \n",
    "    w3 = net.p4.w[2]     \n",
    "    \n",
    "    dE_dw1 = h1*(out-t)\n",
    "    dE_dw2 = h2*(out-t)\n",
    "    dE_dw3 = h3*(out-t)\n",
    "    dE_dw11 = x1*h1*w1*(1-h1)*(out-t)\n",
    "    dE_dw12 = x1*h2*w2*(1-h2)*(out-t)\n",
    "    dE_dw13 = x1*h3*w3*(1-h3)*(out-t)\n",
    "    dE_dw21 = x2*h1*w1*(1-h1)*(out-t)\n",
    "    dE_dw22 = x2*h2*w2*(1-h2)*(out-t)\n",
    "    dE_dw23 = x2*h3*w3*(1-h3)*(out-t)\n",
    "    dE_db2 = out-t\n",
    "    dE_db1 = (out-t)*(w1*h1*(1-h1)+w2*h2*(1-h2)+w3*h3*(1-h3))\n",
    "    \n",
    "    return [dE_dw11,dE_dw12,dE_dw13,dE_dw21,dE_dw22,dE_dw23,dE_dw1,dE_dw2,dE_dw3,dE_db1,dE_db2]\n",
    "\n",
    "class Net:\n",
    "    def __init__(self,alpha = 0.01):\n",
    "        self.alpha = alpha\n",
    "        self.p1 = Perceptron([0,0,0],sigmoid,alpha,1)\n",
    "        self.p2 = Perceptron([0,0,0],sigmoid,alpha,1)\n",
    "        self.p3 = Perceptron([0,0,0],sigmoid,alpha,1)\n",
    "        self.p4 = Perceptron([0,0,0,0],sigmoid,alpha,1)\n",
    "\n",
    "    #process output\n",
    "    def output(self,x):\n",
    "        self.h1 = self.p1.output(x)\n",
    "        self.h2 = self.p2.output(x)\n",
    "        self.h3 = self.p3.output(x)\n",
    "        self.out = self.p4.output(np.array([self.h1, self.h2, self.h3]))\n",
    "        return self.out\n",
    "\n",
    "    #adjust weights\n",
    "    def backward(self,g):\n",
    "        dw11= g[0]\n",
    "        dw12= g[1]\n",
    "        dw13= g[2]\n",
    "        dw21= g[3]\n",
    "        dw22= g[4]\n",
    "        dw23= g[5]\n",
    "        dw1 = g[6]\n",
    "        dw2 = g[7]\n",
    "        dw3 = g[8]        \n",
    "        db1 = g[9]\n",
    "        db2 = g[10]\n",
    "        self.p1.update(np.array([dw11,dw21,db1]))\n",
    "        self.p2.update(np.array([dw12,dw22,db1]))\n",
    "        self.p3.update(np.array([dw13,dw23,db1]))\n",
    "        self.p4.update(np.array([dw1,dw2,dw3,db2]))\n",
    "        \n",
    "    def train(self,epochs):    \n",
    "        self.errList = []\n",
    "    \n",
    "        for i in range(epochs):\n",
    "            totalError = 0\n",
    "            for x, t in zip(X, T):\n",
    "\n",
    "                out = net.output(x)\n",
    "\n",
    "                #compute error\n",
    "                e = error(t,out)\n",
    "                totalError += e\n",
    "\n",
    "                de_dw = gradients(net, t, x)\n",
    "                net.backward(de_dw)\n",
    "\n",
    "            self.errList.append(totalError)\n",
    "        \n",
    "        return self.errList"
   ]
  },
  {
   "cell_type": "code",
   "execution_count": 4,
   "metadata": {},
   "outputs": [],
   "source": [
    "data = np.array([\n",
    "    [1,10,1],\n",
    "    [3,10,0],\n",
    "    [1.8,2.0,0],\n",
    "    [0,6,0],\n",
    "    [-1,-1,1],\n",
    "    [-2,10,1],\n",
    "])\n",
    "\n",
    "X = data[:, [0,1]]\n",
    "T = data[:, [2]]\n",
    "\n",
    "datamin = np.min(X, axis=0)\n",
    "datamax = np.max(X, axis=0)\n",
    "xmin, ymin = datamin\n",
    "xmax, ymax = datamax"
   ]
  },
  {
   "cell_type": "code",
   "execution_count": 5,
   "metadata": {},
   "outputs": [
    {
     "data": {
      "image/png": "[encoded data removed]",
      "text/plain": [
       "<Figure size 432x288 with 1 Axes>"
      ]
     },
     "metadata": {
      "needs_background": "light"
     },
     "output_type": "display_data"
    },
    {
     "data": {
      "image/png": "[encoded data removed]",
      "text/plain": [
       "<Figure size 432x288 with 1 Axes>"
      ]
     },
     "metadata": {
      "needs_background": "light"
     },
     "output_type": "display_data"
    },
    {
     "data": {
      "image/png": "[encoded data removed]",
      "text/plain": [
       "<Figure size 432x288 with 1 Axes>"
      ]
     },
     "metadata": {
      "needs_background": "light"
     },
     "output_type": "display_data"
    },
    {
     "name": "stdout",
     "output_type": "stream",
     "text": [
      "final state\n",
      "[-1.68388785  0.64169818 -2.7192972 ]\n",
      "[ 0.86386984  1.64971577 -2.7192972 ]\n",
      "[-5.07230654 -0.70116144 -2.7192972 ]\n",
      "[ 5.25978682 -2.42719886  9.7495752  -2.15953298]\n"
     ]
    },
    {
     "data": {
      "image/png": "[encoded data removed]",
      "text/plain": [
       "<Figure size 432x288 with 1 Axes>"
      ]
     },
     "metadata": {
      "needs_background": "light"
     },
     "output_type": "display_data"
    },
    {
     "data": {
      "image/png": "[encoded data removed]",
      "text/plain": [
       "<Figure size 432x288 with 1 Axes>"
      ]
     },
     "metadata": {
      "needs_background": "light"
     },
     "output_type": "display_data"
    },
    {
     "name": "stdout",
     "output_type": "stream",
     "text": [
      "final loss [1.27064093]\n"
     ]
    }
   ],
   "source": [
    "#iterations\n",
    "epochs = 4100\n",
    "\n",
    "#learn rate\n",
    "alpha = 0.02\n",
    "\n",
    "#weights\n",
    "w11= -1\n",
    "w21= 1\n",
    "\n",
    "w12= 0\n",
    "w22= 0\n",
    "\n",
    "w13= -1\n",
    "w23= 1\n",
    "\n",
    "w1 = 1\n",
    "w2 = 0\n",
    "w3 = 10\n",
    "\n",
    "#bias\n",
    "b1 = 1\n",
    "b2 = 1\n",
    "\n",
    "net = Net(alpha)\n",
    "net.p1.w = [w11,w21,b1]\n",
    "net.p2.w = [w12,w22,b1]\n",
    "net.p3.w = [w13,w23,b1]\n",
    "net.p4.w = [w1,w2,w3,b2]\n",
    "errList = net.train(epochs)\n",
    "\n",
    "\n",
    "view(net.p1,xmin,xmax,ymin,ymax)\n",
    "plt.show()\n",
    "view(net.p2,xmin,xmax,ymin,ymax)\n",
    "plt.show()\n",
    "view(net.p3,xmin,xmax,ymin,ymax)\n",
    "plt.show()\n",
    "#b(net.p4,xmin,xmax,ymin,ymax)\n",
    "#plt.show()\n",
    "\n",
    "print(\"final state\")\n",
    "print(net.p1.w)\n",
    "print(net.p2.w)\n",
    "print(net.p3.w)\n",
    "print(net.p4.w)\n",
    "\n",
    "boundary(net,xmin,xmax,ymin,ymax,X,T,'boundary3.png')\n",
    "\n",
    "pd.DataFrame(errList, columns=['error']).plot()\n",
    "plt.savefig(\"errors3.png\")\n",
    "plt.show()\n",
    "\n",
    "print(\"final loss\", errList[len(errList)-1])"
   ]
  },
  {
   "cell_type": "code",
   "execution_count": 6,
   "metadata": {},
   "outputs": [
    {
     "data": {
      "image/png": "[encoded data removed]",
      "text/plain": [
       "<Figure size 432x288 with 1 Axes>"
      ]
     },
     "metadata": {
      "needs_background": "light"
     },
     "output_type": "display_data"
    },
    {
     "data": {
      "image/png": "[encoded data removed]",
      "text/plain": [
       "<Figure size 432x288 with 1 Axes>"
      ]
     },
     "metadata": {
      "needs_background": "light"
     },
     "output_type": "display_data"
    },
    {
     "data": {
      "image/png": "[encoded data removed]",
      "text/plain": [
       "<Figure size 432x288 with 1 Axes>"
      ]
     },
     "metadata": {
      "needs_background": "light"
     },
     "output_type": "display_data"
    },
    {
     "data": {
      "image/png": "[encoded data removed]",
      "text/plain": [
       "<Figure size 432x288 with 1 Axes>"
      ]
     },
     "metadata": {
      "needs_background": "light"
     },
     "output_type": "display_data"
    },
    {
     "data": {
      "image/png": "[encoded data removed]",
      "text/plain": [
       "<Figure size 432x288 with 1 Axes>"
      ]
     },
     "metadata": {
      "needs_background": "light"
     },
     "output_type": "display_data"
    },
    {
     "name": "stdout",
     "output_type": "stream",
     "text": [
      "final loss [0.40816724]\n"
     ]
    }
   ],
   "source": [
    "#iterations\n",
    "epochs = 3000\n",
    "\n",
    "#learn rate\n",
    "alpha = 0.01\n",
    "\n",
    "#weights\n",
    "w11= -1\n",
    "w21= 1\n",
    "\n",
    "w12= 1\n",
    "w22= 1\n",
    "\n",
    "w13= 1\n",
    "w23= 1\n",
    "\n",
    "w1 = 10\n",
    "w2 = 0.1\n",
    "w3 = 10\n",
    "\n",
    "#bias\n",
    "b1 = 1\n",
    "b2 = 1\n",
    "\n",
    "net = Net(alpha)\n",
    "net.p1.w = [w11,w21,b1]\n",
    "net.p2.w = [w12,w22,b1]\n",
    "net.p3.w = [w13,w23,b1]\n",
    "net.p4.w = [w1,w2,w3,b2]\n",
    "errList = net.train(epochs)\n",
    "\n",
    "view(net.p1,xmin,xmax,ymin,ymax)\n",
    "plt.show()\n",
    "view(net.p2,xmin,xmax,ymin,ymax)\n",
    "plt.show()\n",
    "view(net.p3,xmin,xmax,ymin,ymax)\n",
    "plt.show()\n",
    "\n",
    "boundary(net,xmin,xmax,ymin,ymax,X,T,'boundary4.png')\n",
    "\n",
    "pd.DataFrame(errList, columns=['error']).plot()\n",
    "plt.savefig(\"errors4.png\")\n",
    "plt.show()\n",
    "\n",
    "print(\"final loss\", errList[len(errList)-1])"
   ]
  },
  {
   "cell_type": "code",
   "execution_count": null,
   "metadata": {},
   "outputs": [],
   "source": []
  }
 ],
 "metadata": {
  "kernelspec": {
   "display_name": "Python 3",
   "language": "python",
   "name": "python3"
  },
  "language_info": {
   "codemirror_mode": {
    "name": "ipython",
    "version": 3
   },
   "file_extension": ".py",
   "mimetype": "text/x-python",
   "name": "python",
   "nbconvert_exporter": "python",
   "pygments_lexer": "ipython3",
   "version": "3.5.3"
  }
 },
 "nbformat": 4,
 "nbformat_minor": 2
}

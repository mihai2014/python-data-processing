{
 "cells": [
  {
   "cell_type": "markdown",
   "metadata": {},
   "source": [
    "<h3 style=\"text-align:center\">Logistic regression - 3 classes</h3>"
   ]
  },
  {
   "cell_type": "code",
   "execution_count": 1,
   "metadata": {},
   "outputs": [],
   "source": [
    "import torch\n",
    "from torch.autograd import Variable\n",
    "import numpy as np\n",
    "import matplotlib.pyplot as plt"
   ]
  },
  {
   "cell_type": "code",
   "execution_count": 2,
   "metadata": {},
   "outputs": [],
   "source": [
    "def plot_points(X, y, m=\"_\"):\n",
    "    class0 = X[np.argwhere(y==0)]\n",
    "    class1 = X[np.argwhere(y==1)]\n",
    "    class2 = X[np.argwhere(y==2)]\n",
    "    plt.scatter([s[0][0] for s in class0], [s[0][1] for s in class0], s = 25, color = 'red', edgecolor = 'k',zorder=2, marker=m)\n",
    "    plt.scatter([s[0][0] for s in class1], [s[0][1] for s in class1], s = 25, color = 'blue', edgecolor = 'k',zorder=2, marker=m)\n",
    "    plt.scatter([s[0][0] for s in class2], [s[0][1] for s in class2], s = 25, color = 'yellow', edgecolor = 'k',zorder=2, marker=m)\n",
    "\n",
    "def plot_zone(X, y):\n",
    "    class0 = X[np.argwhere(y==0)]\n",
    "    class1 = X[np.argwhere(y==1)]\n",
    "    class2 = X[np.argwhere(y==2)]    \n",
    "    plt.scatter([s[0][0] for s in class0], [s[0][1] for s in class0], s = 25, color = 'red', edgecolor = 'k',zorder=2, marker=\"+\")\n",
    "    plt.scatter([s[0][0] for s in class1], [s[0][1] for s in class1], s = 25, color = 'blue', edgecolor = 'k',zorder=2, marker=\"_\" )  \n",
    "    plt.scatter([s[0][0] for s in class2], [s[0][1] for s in class2], s = 25, color = 'yellow', edgecolor = 'k',zorder=2, marker=\"_\" )  \n",
    "    \n",
    "\n",
    "def view(net):\n",
    "\n",
    "    datamin = np.min(net.points, axis=0)\n",
    "    datamax = np.max(net.points, axis=0)\n",
    "    xmin, ymin = datamin\n",
    "    xmax, ymax = datamax    \n",
    "       \n",
    "    border = []\n",
    "    xList = np.linspace(xmin, xmax, 50)\n",
    "    for x in xList:\n",
    "        yList = np.linspace(ymin, ymax, 50)\n",
    "        for y in yList:\n",
    "            out = net.output(torch.Tensor([[x,y]]).double())\n",
    "            if(out[0][0].data.numpy()>0.5):    \n",
    "                border.append([x,y,0])\n",
    "            if(out[0][1].data.numpy()>0.5):    \n",
    "                border.append([x,y,1])\n",
    "            if(out[0][2].data.numpy()>0.5):    \n",
    "                border.append([x,y,2])\n",
    "                \n",
    "    #print(border)\n",
    "    border = np.array(border)\n",
    "    solutionX = border[:, [0,1]]\n",
    "    solutionT = border[:, [2]]\n",
    "    plot_zone(solutionX, solutionT)\n",
    "\n",
    "    plot_points(net.points, net.target,m=\"o\")  "
   ]
  },
  {
   "cell_type": "code",
   "execution_count": 3,
   "metadata": {},
   "outputs": [],
   "source": [
    "import pandas as pd\n",
    "data = np.array([\n",
    "    [1,10,0],\n",
    "    [3,10,1],\n",
    "    [1.8,2.0,2],\n",
    "    [0,6,0],\n",
    "    [-1,-1,1],\n",
    "    [-2,10,2],\n",
    "])\n",
    "\n",
    "data = pd.read_csv('data1.csv', header=None)\n",
    "data = data.reset_index().to_numpy()\n",
    "data = data[:,[1,2,3]]\n",
    "#print(data)"
   ]
  },
  {
   "cell_type": "code",
   "execution_count": 4,
   "metadata": {},
   "outputs": [
    {
     "name": "stdout",
     "output_type": "stream",
     "text": [
      "tensor(0.0132, dtype=torch.float64, grad_fn=<MeanBackward1>)\n"
     ]
    },
    {
     "data": {
      "image/png": "[encoded data removed]",
      "text/plain": [
       "<Figure size 432x288 with 1 Axes>"
      ]
     },
     "metadata": {
      "needs_background": "light"
     },
     "output_type": "display_data"
    },
    {
     "data": {
      "image/png": "[encoded data removed]",
      "text/plain": [
       "<Figure size 432x288 with 1 Axes>"
      ]
     },
     "metadata": {
      "needs_background": "light"
     },
     "output_type": "display_data"
    }
   ],
   "source": [
    "#sigmoid\n",
    "def sigmoid(x):\n",
    "    return 1/(1+torch.exp(-x))\n",
    "\n",
    "activation = sigmoid\n",
    "#activation = torch.nn.Sigmoid()\n",
    "\n",
    "def softmax(x):\n",
    "    return torch.exp(x)/torch.sum(torch.exp(x), dim=1).view(-1, 1)\n",
    "\n",
    "activation2 = softmax\n",
    "\n",
    "# Loss (cross entropy) error function\n",
    "#def error(output, target):\n",
    "#    return -target * torch.log(output) - (1-target) * torch.log(1-output)\n",
    "\n",
    "def error2(y, t):\n",
    "    #print(y,y.type())\n",
    "    #print(t,t.type())\n",
    "     \n",
    "    #replace 0,1,2\n",
    "    c0 = torch.where(t==0, torch.Tensor([1,0,0]), torch.Tensor([0]))\n",
    "    c1 = torch.where(t==1, torch.Tensor([0,1,0]), torch.Tensor([0]))\n",
    "    c2 = torch.where(t==2, torch.Tensor([0,0,1]), torch.Tensor([0]))\n",
    "    c = c0+c1+c2\n",
    "    #filter outputs (remain only target, other turned to 0)\n",
    "    all = y*c.double()\n",
    "    #sum rows (get rid of zeros by summing rows)\n",
    "    sum = torch.sum(all,dim=1)\n",
    "    #ce / every point\n",
    "    ce_points = -torch.log(sum)\n",
    "    #mean of ce of all points\n",
    "    return torch.mean(ce_points)\n",
    "\n",
    "criterion = torch.nn.CrossEntropyLoss()\n",
    "    \n",
    "class NN:\n",
    "    def __init__(self, data):\n",
    "        torch.manual_seed(1) # Set the random seed so things are predictable\n",
    "\n",
    "        self.points = data[:, [0,1]]\n",
    "        self.target = data[:, [2]]\n",
    "\n",
    "        self.T = torch.from_numpy(self.target)#.double()\n",
    "        self.features = torch.from_numpy(self.points).double()  #.float()           \n",
    "        \n",
    "        self.activation = activation\n",
    "        self.activation2 = activation2\n",
    "        self.error = error2\n",
    "        #self.error = criterion\n",
    "        \n",
    "        n_input = self.features.shape[1]    \n",
    "        n_hidden1 = 10                 \n",
    "        n_hidden2 = 10\n",
    "        n_output = 3                  \n",
    "        \n",
    "        self.W1 = Variable(torch.randn(n_input,   n_hidden1, dtype=torch.double), requires_grad=True)\n",
    "        self.W2 = Variable(torch.randn(n_hidden1, n_hidden2, dtype=torch.double), requires_grad=True)\n",
    "        self.W3 = Variable(torch.randn(n_hidden2, n_output, dtype=torch.double),  requires_grad=True)\n",
    "        \n",
    "        self.B1 = Variable(torch.randn(1, n_hidden1, dtype=torch.double), requires_grad=True)\n",
    "        self.B2 = Variable(torch.randn(1, n_hidden2, dtype=torch.double), requires_grad=True)        \n",
    "        self.B3 = Variable(torch.randn(1, n_output, dtype=torch.double), requires_grad=True)        \n",
    "     \n",
    "    \n",
    "    def output(self,features):\n",
    "        h1     = self.activation(torch.mm(features, self.W1) + self.B1)\n",
    "        h2     = self.activation(torch.mm(h1, self.W2) + self.B2)\n",
    "        output = self.activation2(torch.mm(h2, self.W3) + self.B3)\n",
    "        return output\n",
    "        \n",
    "    def train(self, epochs = 100, alpha=0.01):   \n",
    "\n",
    "        self.epochs = epochs\n",
    "        self.alpha = alpha        \n",
    "        \n",
    "        self.lossHistory = []\n",
    "\n",
    "        for i in range(epochs):\n",
    "            E = self.error(self.output(self.features),self.T)\n",
    "            #E = self.error(self.output(self.features),self.T.double())\n",
    "            #print(E)\n",
    "            \n",
    "            #import sys\n",
    "            #sys.exit()\n",
    "                 \n",
    "            #loss = torch.sum(E)\n",
    "            loss = E\n",
    "            \n",
    "            self.lossHistory.append(loss)\n",
    "           \n",
    "            loss.backward()\n",
    "            #print(self.W1.grad)\n",
    "            with torch.no_grad():\n",
    "                self.W1 -= self.alpha * self.W1.grad\n",
    "                self.W2 -= self.alpha * self.W2.grad\n",
    "                self.W3 -= self.alpha * self.W3.grad\n",
    "                self.B1 -= self.alpha * self.B1.grad\n",
    "                self.B2 -= self.alpha * self.B2.grad\n",
    "                self.B3 -= self.alpha * self.B3.grad\n",
    "\n",
    "                # Manually zero the gradients after updating weights\n",
    "                self.W1.grad.zero_()\n",
    "                self.W2.grad.zero_()\n",
    "                self.W3.grad.zero_()\n",
    "                self.B1.grad.zero_()\n",
    "                self.B2.grad.zero_()\n",
    "                self.B3.grad.zero_()\n",
    "        \n",
    "        \n",
    "        \n",
    "        \n",
    "net = NN(data)               \n",
    "net.train(epochs=10000,alpha=0.05)  \n",
    "\n",
    "print(net.lossHistory[len(net.lossHistory)-1])\n",
    "plt.plot(net.lossHistory)\n",
    "plt.show()\n",
    "\n",
    "view(net)"
   ]
  },
  {
   "cell_type": "code",
   "execution_count": null,
   "metadata": {},
   "outputs": [],
   "source": []
  }
 ],
 "metadata": {
  "kernelspec": {
   "display_name": "Python 3",
   "language": "python",
   "name": "python3"
  },
  "language_info": {
   "codemirror_mode": {
    "name": "ipython",
    "version": 3
   },
   "file_extension": ".py",
   "mimetype": "text/x-python",
   "name": "python",
   "nbconvert_exporter": "python",
   "pygments_lexer": "ipython3",
   "version": "3.7.1"
  }
 },
 "nbformat": 4,
 "nbformat_minor": 2
}

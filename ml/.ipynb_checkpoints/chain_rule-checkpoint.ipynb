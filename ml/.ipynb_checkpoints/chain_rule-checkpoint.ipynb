{
 "cells": [
  {
   "cell_type": "markdown",
   "metadata": {},
   "source": [
    "$$ (f(g(x)))'=f'(g(x))\\cdot g'(x)\\\\ \\frac { d(f(g(x))) }{ d(x) } =\\frac { d(f(g(x))) }{ d(g(x)) } \\cdot \\frac { d(g(x)) }{ dx } \\\\ and\\quad defining:\\\\ y=g(x)\\\\ z=f(y),\\quad we\\quad will\\quad have:\\\\ \\frac { dz }{ dx } =\\frac { dz }{ dy } \\cdot \\frac { dy }{ dx } \\\\ Generalizing:\\\\ \\frac { d }{ dx } (f\\circ g\\circ h\\circ i...)(x)=\\frac { df }{ dg } \\frac { dg }{ dh } \\frac { dh }{ di } \\frac { di }{ ... } ...\\frac { ... }{ dx }  $$"
   ]
  },
  {
   "cell_type": "code",
   "execution_count": null,
   "metadata": {},
   "outputs": [],
   "source": []
  }
 ],
 "metadata": {
  "kernelspec": {
   "display_name": "Python 3",
   "language": "python",
   "name": "python3"
  },
  "language_info": {
   "codemirror_mode": {
    "name": "ipython",
    "version": 3
   },
   "file_extension": ".py",
   "mimetype": "text/x-python",
   "name": "python",
   "nbconvert_exporter": "python",
   "pygments_lexer": "ipython3",
   "version": "3.5.3"
  }
 },
 "nbformat": 4,
 "nbformat_minor": 2
}

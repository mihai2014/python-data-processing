{
 "cells": [
  {
   "cell_type": "markdown",
   "metadata": {},
   "source": [
    "<h3 style=\"text-align: center\">Linear regression with PyTorch</h3>"
   ]
  },
  {
   "cell_type": "code",
   "execution_count": 1,
   "metadata": {},
   "outputs": [],
   "source": [
    "import torch\n",
    "from torch.autograd import Variable\n",
    "import numpy as np\n",
    "import matplotlib.pyplot as plt"
   ]
  },
  {
   "cell_type": "markdown",
   "metadata": {},
   "source": [
    "<p>Least square sum</p>\n",
    "\n",
    "$\n",
    "m=\\frac { \\overline { xy } -\\overline { x } \\cdot \\overline { y }  }{ \\overline { xx } -\\overline { x } \\cdot \\overline { x }  } \\\\ \n",
    "m=\\frac { \\overline { xy } -\\overline { x } \\cdot \\overline { y }  }{ \\overline { { x }^{ 2 } } -     { \\left( \\overline { x }  \\right)  }^{ 2 } }\\quad\n",
    "$\n",
    "\n",
    "$\n",
    "point\\quad (\\overline { x } ,\\overline { y } )\\quad \\in \\quad regression\\quad line,\\quad\\\\\n",
    "\\overline { x } ,\\overline { y } \\quad are\\quad means(averages)\\quad of\\quad x, y\\quad values\n",
    "$\n",
    "\n",
    "so\n",
    "\n",
    "$\n",
    "b=\\overline { y } -m\\overline { x }\\quad\n",
    "$\n"
   ]
  },
  {
   "cell_type": "markdown",
   "metadata": {},
   "source": [
    "Least square sum with numpy"
   ]
  },
  {
   "cell_type": "code",
   "execution_count": 2,
   "metadata": {},
   "outputs": [
    {
     "name": "stdout",
     "output_type": "stream",
     "text": [
      "m(slope)= 1.3121387283236994 n(y-intercept)= 3.011560693641619\n"
     ]
    },
    {
     "data": {
      "image/png": "[encoded data removed]",
      "text/plain": [
       "<Figure size 432x288 with 1 Axes>"
      ]
     },
     "metadata": {
      "needs_background": "light"
     },
     "output_type": "display_data"
    }
   ],
   "source": [
    "class reg_lin:\n",
    "    def __init__(self,data):\n",
    "        self.data = data\n",
    "        self.line()\n",
    "\n",
    "    def line(self):\n",
    "        #transpose data\n",
    "        x, y = self.data.T\n",
    "\n",
    "        xy = np.multiply(x,y)\n",
    "        xx = np.multiply(x,x)\n",
    "\n",
    "        x_m = np.mean(x)\n",
    "        y_m = np.mean(y)\n",
    "        xy_m = np.mean(xy)\n",
    "        xx_m = np.mean(xx)\n",
    "\n",
    "        m = (xy_m - x_m * y_m )/(xx_m - x_m * x_m)\n",
    "        n = y_m - m * x_m\n",
    "\n",
    "        self.m = m\n",
    "        self.n = n\n",
    "\n",
    "        return(m,n)\n",
    "    \n",
    "data = np.array([\n",
    "    [1, 2],\n",
    "    [1,10],\n",
    "    [2, 3],\n",
    "    [3, 6],\n",
    "    [5, 8],\n",
    "    [7, 14]\n",
    "])\n",
    "\n",
    "x, y = data.T\n",
    "\n",
    "plt.scatter(x,y)\n",
    "\n",
    "line=reg_lin(data)\n",
    "m=line.m\n",
    "n=line.n\n",
    "print(\"m(slope)=\",m,\"n(y-intercept)=\",n)  \n",
    "\n",
    "plt.plot(x, m*x+n)\n",
    "\n",
    "plt.show()"
   ]
  },
  {
   "cell_type": "markdown",
   "metadata": {},
   "source": [
    "Least square sum with pytorch"
   ]
  },
  {
   "cell_type": "code",
   "execution_count": 26,
   "metadata": {},
   "outputs": [
    {
     "name": "stdout",
     "output_type": "stream",
     "text": [
      "m(slope)= 1.312139 n(y-intercept)= 3.0030644\n"
     ]
    }
   ],
   "source": [
    "points = torch.from_numpy(data)\n",
    "\n",
    "X = points[:,0:1].float()\n",
    "Y = points[:,1:2].float()\n",
    "\n",
    "m = (torch.mean(X*Y)-torch.mean(X)*torch.mean(Y))/(torch.mean(X*X)-torch.mean(X)*torch.mean(X)).float()\n",
    "b = torch.mean(Y) - m* torch.mean(X).float()\n",
    "print(\"m(slope)=\",m.data.numpy(),\"n(y-intercept)=\",n.data.numpy()[0][0])"
   ]
  },
  {
   "cell_type": "markdown",
   "metadata": {},
   "source": [
    "Gradients with pytorch"
   ]
  },
  {
   "cell_type": "code",
   "execution_count": 24,
   "metadata": {},
   "outputs": [
    {
     "name": "stdout",
     "output_type": "stream",
     "text": [
      "loss= 51.190907\n",
      "m(slope)= 1.3139911 n(y-intercept)= 3.0030644\n"
     ]
    },
    {
     "data": {
      "image/png": "[encoded data removed]",
      "text/plain": [
       "<Figure size 432x288 with 1 Axes>"
      ]
     },
     "metadata": {
      "needs_background": "light"
     },
     "output_type": "display_data"
    }
   ],
   "source": [
    "#making result predictable\n",
    "torch.manual_seed(1)\n",
    "\n",
    "m = Variable(torch.randn(1, 1,), requires_grad=True)\n",
    "n = Variable(torch.randn(1, 1,), requires_grad=True)\n",
    "\n",
    "X = points[:,0:1].float()  \n",
    "Y = points[:,1:2].float()  \n",
    "\n",
    "alpha = 0.01\n",
    "epochs = 150\n",
    "\n",
    "lossHistory = []\n",
    "\n",
    "for i in range(epochs):\n",
    "\n",
    "    prediction = m*X + n\n",
    "    loss = torch.sum((prediction - Y)**2)\n",
    "    \n",
    "    lossHistory.append(loss)\n",
    "    \n",
    "    #calculate dSSE/dm, dSSE/dn\n",
    "    loss.backward()\n",
    "      \n",
    "    with torch.no_grad():\n",
    "        m -= alpha * m.grad\n",
    "        n -= alpha * n.grad\n",
    "\n",
    "        # Manually zero the gradients after updating weights\n",
    "        m.grad.zero_()\n",
    "        n.grad.zero_()\n",
    "\n",
    "print(\"loss=\",loss.data.numpy())  \n",
    "print(\"m(slope)=\",m[0][0].data.numpy(),\"n(y-intercept)=\",n[0][0].data.numpy())\n",
    "\n",
    "# Plotting the loss (error)\n",
    "plt.title(\"Loss Plot\")\n",
    "plt.xlabel('Number of epochs')\n",
    "plt.ylabel('Loss')\n",
    "plt.plot(lossHistory)\n",
    "plt.show() "
   ]
  },
  {
   "cell_type": "markdown",
   "metadata": {},
   "source": [
    "Pytorch - predefined Linear model"
   ]
  },
  {
   "cell_type": "code",
   "execution_count": 40,
   "metadata": {},
   "outputs": [],
   "source": [
    "#generate random data\n",
    "#alpha = 2; beta=3\n",
    "#x = np.linspace(0, 4, 100)\n",
    "#y = alpha * x + beta + np.random.randn(100) * 0.3\n",
    "#x = x.reshape(-1,1) # convert to column vectors\n",
    "#y = y.reshape(-1,1)\n",
    "\n",
    "class LinearRegressionModel(torch.nn.Module):\n",
    "    def __init__(self, input_dim, output_dim):\n",
    "        super(LinearRegressionModel, self).__init__()\n",
    "        self.linear = torch.nn.Linear(input_dim, output_dim)\n",
    "    \n",
    "    def forward(self, x):\n",
    "        out = self.linear(x)\n",
    "        return out\n",
    "    \n",
    "model = LinearRegressionModel(input_dim=1, output_dim=1)  \n",
    "\n",
    "criterion = torch.nn.MSELoss()\n",
    "optimizer = torch.optim.SGD(model.parameters(),lr=0.01)\n",
    "\n",
    "#inputs = Variable(torch.from_numpy(x.astype('float32')))\n",
    "#labels = Variable(torch.from_numpy(y.astype('float32')))\n",
    "\n",
    "inputs = Variable(torch.from_numpy(x)).float()\n",
    "labels = Variable(torch.from_numpy(y)).float()\n",
    "\n",
    "#list(model.named_parameters())"
   ]
  },
  {
   "cell_type": "code",
   "execution_count": 45,
   "metadata": {},
   "outputs": [
    {
     "name": "stdout",
     "output_type": "stream",
     "text": [
      "loss: 8.531794\n",
      "m(slope)= 1.3125678 n(y-intercept)= 3.0095923\n"
     ]
    }
   ],
   "source": [
    "for epoch in range(450):\n",
    "    #1. clear gradients w.r.t. parameters\n",
    "    optimizer.zero_grad()\n",
    "    #2. forward to get output\n",
    "    outputs = model(inputs)\n",
    "    #3 calculate loss (scalar value)\n",
    "    loss = criterion(outputs, labels)\n",
    "    #4 calculate gradients w.r.t. parameters\n",
    "    loss.backward()\n",
    "    #5 updating parameters\n",
    "    optimizer.step()\n",
    "    \n",
    "#inspect learned parameters\n",
    "#result = list(model.named_parameters()) \n",
    "#print(result)\n",
    "print(\"loss:\",loss.data.numpy())\n",
    "\n",
    "#inspect network modules/layers\n",
    "#for idx, m in enumerate(model.named_modules()):\n",
    "#    print(idx, '->', m)\n",
    "    \n",
    "#inspect weight and bias\n",
    "m = model.linear.weight.data.numpy()[0][0]\n",
    "b = model.linear.bias.data.numpy()[0]\n",
    "print(\"m(slope)=\",m,\"n(y-intercept)=\",b)"
   ]
  },
  {
   "cell_type": "code",
   "execution_count": 46,
   "metadata": {},
   "outputs": [
    {
     "name": "stdout",
     "output_type": "stream",
     "text": [
      "m(slope)= 1.3125678 b(y-intercept)= 3.0095923\n"
     ]
    },
    {
     "data": {
      "image/png": "[encoded data removed]",
      "text/plain": [
       "<Figure size 432x288 with 1 Axes>"
      ]
     },
     "metadata": {
      "needs_background": "light"
     },
     "output_type": "display_data"
    }
   ],
   "source": [
    "def display(m, b, color='g--'):\n",
    "    xmin = 0; xmax = 4\n",
    "    ymin = 0; ymax = 12\n",
    "    more = 1\n",
    "    #plt.xlim(-0.05,1.05)\n",
    "    #plt.ylim(-0.05,1.05)\n",
    "    #plt.xlim(xmin-more,xmax+more)\n",
    "    #plt.ylim(ymin-more,ymax+more)    \n",
    "    x = np.arange(-10, 10, 0.1)\n",
    "    plt.plot(x, m*x+b, color,zorder=1)\n",
    "\n",
    "\n",
    "print(\"m(slope)=\",m,\"b(y-intercept)=\",b)    \n",
    "plt.scatter(x,y)\n",
    "display(m,b)\n",
    "plt.show()"
   ]
  },
  {
   "cell_type": "code",
   "execution_count": null,
   "metadata": {},
   "outputs": [],
   "source": []
  },
  {
   "cell_type": "code",
   "execution_count": null,
   "metadata": {},
   "outputs": [],
   "source": []
  }
 ],
 "metadata": {
  "kernelspec": {
   "display_name": "Python 3",
   "language": "python",
   "name": "python3"
  },
  "language_info": {
   "codemirror_mode": {
    "name": "ipython",
    "version": 3
   },
   "file_extension": ".py",
   "mimetype": "text/x-python",
   "name": "python",
   "nbconvert_exporter": "python",
   "pygments_lexer": "ipython3",
   "version": "3.5.3"
  }
 },
 "nbformat": 4,
 "nbformat_minor": 2
}

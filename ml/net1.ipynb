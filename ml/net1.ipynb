{
 "cells": [
  {
   "cell_type": "markdown",
   "metadata": {},
   "source": [
    "<img src=\"nn2.png\" style=\"width: 200px;\"></img>"
   ]
  },
  {
   "cell_type": "markdown",
   "metadata": {},
   "source": [
    "Gradients:"
   ]
  },
  {
   "cell_type": "markdown",
   "metadata": {},
   "source": [
    "${ zh }_{ 1 }={ w }_{ 1 }{ x }_{ 1 }+{ w }_{ 3 }{ x }_{ 2 }+{ b }_{ 1 }\\\\ { zh }_{ 2 }={ w }_{ 2 }{ x }_{ 1 }+{ w }_{ 4 }{ x }_{ 2 }+{ b }_{ 1 }\\\\ { h }_{ 1 }=\\sigma ({ zh }_{ 1 })\\\\ { h }_{ 2 }=\\sigma ({ zh }_{ 2 })\\\\ { z }_{ 0 }={ w }_{ 5 }{ h }_{ 1 }+{ w }_{ 6 }{ h }_{ 2 }+{ b }_{ 2 }\\\\ out=\\sigma ({ z }_{ 0 })\\\\ \\\\ E=-t\\cdot ln(out)-(1-t)\\cdot ln(1-out)$"
   ]
  },
  {
   "cell_type": "markdown",
   "metadata": {},
   "source": [
    "$\\frac { dE }{ { dw }_{ 1 } } =-t\\frac { 1 }{ out } \\frac { { d }_{ out } }{ { dw }_{ 1 } } -(1-t)\\frac { 1 }{ 1-out } (-1)\\frac { { d }_{ out } }{ { dw }_{ 1 } } \\\\ =-t\\frac { 1 }{ out } \\frac { { d }_{ out } }{ { dw }_{ 1 } } +(1-t)\\frac { 1 }{ 1-out } \\frac { { d }_{ out } }{ { dw }_{ 1 } } \\\\ \\frac { { d }_{ out } }{ { dw }_{ 1 } } =\\frac { { d }_{ out } }{ { dz }_{ 0 } } \\frac { { dz }_{ 0 } }{ { dh }_{ 1 } } \\frac { { dh }_{ 1 } }{ { dzh }_{ 1 } } \\frac { { dzh }_{ 1 } }{ { dw }_{ 1 } } =out(1-out){ w }_{ 5 }{ h }_{ 1 }(1-{ h }_{ 1 }){ x }_{ 1 } \\\\ \\frac { { dE } }{ { dw }_{ 1 } } =-t\\frac { 1 }{ out } out(1-out){ w }_{ 5 }{ h }_{ 1 }(1-{ h }_{ 1 }){ x }_{ 1 }+\\\\ (1-t)\\frac { 1 }{ 1-out } out(1-out){ w }_{ 5 }{ h }_{ 1 }(1-{ h }_{ 1 }){ x }_{ 1 }=\\\\ -t(1-out){ w }_{ 5 }{ h }_{ 1 }(1-{ h }_{ 1 }){ x }_{ 1 }+(1-t)out{ w }_{ 5 }{ h }_{ 1 }(1-{ h }_{ 1 }){ x }_{ 1 }=\\\\ ={ w }_{ 5 }{ x }_{ 1 }{ h }_{ 1 }(1-{ h }_{ 1 })(-t+t\\cdot out+out-t\\cdot out)=\\\\ ={ w }_{ 5 }{ x }_{ 1 }{ h }_{ 1 }(1-{ h }_{ 1 })(out-t)$"
   ]
  },
  {
   "cell_type": "markdown",
   "metadata": {},
   "source": [
    "<p>The same:</p>\n",
    "$ \\frac { dE }{ { dw }_{ 2 } } ={ w }_{ 6 }{ x }_{ 1 }{ h }_{ 2 }(1-{ h }_{ 2 })(out-t)\\\\ \\frac { dE }{ { dw }_{ 3 } } ={ w }_{ 5 }{ x }_{ 2 }{ h }_{ 1 }(1-{ h }_{ 1 })(out-t)\\\\ \\frac { dE }{ { dw }_{ 4 } } ={ w }_{ 6 }{ x }_{ 2 }{ h }_{ 2 }(1-{ h }_{ 2 })(out-t) $"
   ]
  },
  {
   "cell_type": "markdown",
   "metadata": {},
   "source": [
    "$ \\frac { dE }{ { db }_{ 1 } } =-t\\frac { 1 }{ out } \\frac { { d }_{ out } }{ db_{ 1 } } -(1-t)\\frac { 1 }{ 1-out } (-1)\\frac { { d }_{ out } }{ { db }_{ 1 } } =\\\\ =-t\\frac { 1 }{ out } \\frac { { d }_{ out } }{ db_{ 1 } } +(1-t)\\frac { 1 }{ 1-out } \\frac { { d }_{ out } }{ db_{ 1 } } \\\\ \\frac { { d }_{ out } }{ { db }_{ 1 } } =\\frac { { d }_{ out } }{ { dz }_{ 0 } } \\frac { { dz }_{ 0 } }{ { db }_{ 1 } } =\\frac { { d }_{ out } }{ { dz }_{ 0 } } (\\frac { d }{ { db }_{ 1 } } { w }_{ 5 }{ h }_{ 1 }+\\frac { d }{ { db }_{ 1 } } { w }_{ 6 }{ h }_{ 2 })=\\\\ =\\frac { { d }_{ out } }{ { dz }_{ 0 } } ({ w }_{ 5 }\\frac { d }{ { db }_{ 1 } } { h }_{ 1 }+{ w }_{ 6 }\\frac { d }{ { db }_{ 1 } } { h }_{ 2 })=\\\\ =\\frac { { d }_{ out } }{ { dz }_{ 0 } } ({ w }_{ 5 }\\frac { { dh }_{ 1 } }{ { dzh }_{ 1 } } \\frac { { dzh }_{ 1 } }{ { db }_{ 1 } } +{ w }_{ 6 }\\frac { { dh }_{ 2 } }{ { dzh }_{ 2 } } \\frac { { dzh }_{ 2 } }{ { db }_{ 1 } } )=\\\\ =out(1-out)({ w }_{ 5 }{ h }_{ 1 }(1-{ h }_{ 1 })+{ w }_{ 6 }{ h }_{ 2 }(1-{ h }_{ 2 }))\\\\ \\\\ \\frac { dE }{ { db }_{ 1 } } =-t\\frac { 1 }{ out } out(1-out)({ w }_{ 5 }{ h }_{ 1 }(1-{ h }_{ 1 })+{ w }_{ 6 }{ h }_{ 2 }(1-{ h }_{ 2 }))+\\\\ (1-t)\\frac { 1 }{ 1-out } out(1-out)({ w }_{ 5 }{ h }_{ 1 }(1-{ h }_{ 1 })+{ w }_{ 6 }{ h }_{ 2 }(1-{ h }_{ 2 }))=\\\\ =(...)(-t+t\\cdot out+out-t\\cdot out)=\\\\ =(out-t)({ w }_{ 5 }{ h }_{ 1 }(1-{ h }_{ 1 })+{ w }_{ 6 }{ h }_{ 2 }(1-{ h }_{ 2 })) $"
   ]
  },
  {
   "cell_type": "markdown",
   "metadata": {},
   "source": [
    "$ \\frac { dE }{ { dw }_{ 5 } } =-t\\frac { 1 }{ out } \\frac { { d }_{ out } }{ dw_{ 5 } } +(1-t)\\frac { 1 }{ 1-out } \\frac { { d }_{ out } }{ dw_{ 5 } } \\\\ \\frac { { d }_{ out } }{ dw_{ 5 } } =\\frac { { d }_{ out } }{ { dz }_{ 0 } } \\frac { { dz }_{ 0 } }{ { dw }_{ 5 } } =out(1-out){ h }_{ 1 }\\\\ \\frac { dE }{ { dw }_{ 5 } } =-t\\frac { 1 }{ out } out(1-out){ h }_{ 1 }+(1-t)\\frac { 1 }{ 1-out } out(1-out){ h }_{ 1 }=\\\\ =-t(1-out)\\cdot { h }_{ 1 }+(1-t)out{ \\cdot h }_{ 1 }={ h }_{ 1 }(out-t)\\\\ Similarly:\\\\ \\frac { dE }{ { dw }_{ 6 } } ={ h }_{ 2 }(out-t)\\\\  $"
   ]
  },
  {
   "cell_type": "markdown",
   "metadata": {},
   "source": [
    "$ \\frac { dE }{ { db }_{ 2 } } =-t\\frac { 1 }{ out } \\frac { { d }_{ out } }{ db_{ 2 } } +(1-t)\\frac { 1 }{ 1-out } \\frac { { d }_{ out } }{ db_{ 2 } } \\\\ \\frac { { d }_{ out } }{ db_{ 2 } } =\\frac { { d }_{ out } }{ { dz }_{ 0 } } \\frac { { dz }_{ o } }{ { db }_{ 2 } } =out(1-out)\\\\ \\frac { dE }{ { db }_{ 2 } } =-t\\frac { 1 }{ out } out(1-out)+(1-t)\\frac { 1 }{ 1-out } out(1-out)=\\\\ =-t(1-out)+(1-t)out=out-t $"
   ]
  },
  {
   "cell_type": "code",
   "execution_count": 1,
   "metadata": {},
   "outputs": [],
   "source": [
    "import matplotlib.pyplot as plt\n",
    "import numpy as np\n",
    "import pandas as pd"
   ]
  },
  {
   "cell_type": "code",
   "execution_count": 2,
   "metadata": {},
   "outputs": [],
   "source": [
    "def plot_points(X, y, m=\"_\"):\n",
    "    admitted = X[np.argwhere(y==1)]\n",
    "    rejected = X[np.argwhere(y==0)]\n",
    "    plt.scatter([s[0][0] for s in admitted], [s[0][1] for s in admitted], s = 25, color = 'blue', edgecolor = 'k',zorder=2, marker=m)\n",
    "    plt.scatter([s[0][0] for s in rejected], [s[0][1] for s in rejected], s = 25, color = 'red', edgecolor = 'k',zorder=2, marker=m )\n",
    "\n",
    "def plot_zone(X, y):\n",
    "    admitted = X[np.argwhere(y==1)]\n",
    "    rejected = X[np.argwhere(y==0)]\n",
    "    plt.scatter([s[0][0] for s in admitted], [s[0][1] for s in admitted], s = 25, color = 'blue', edgecolor = 'k',zorder=2, marker=\"+\")\n",
    "    plt.scatter([s[0][0] for s in rejected], [s[0][1] for s in rejected], s = 25, color = 'red', edgecolor = 'k',zorder=2, marker=\"_\" )    \n",
    "    \n",
    "def boundary(net,xmin,xmax,ymin,ymax,X,T,filename='boundary.png'):\n",
    "    more=1\n",
    "    #plt.xlim(xmin-more,xmax+more)\n",
    "    #plt.ylim(ymin-more,ymax+more)\n",
    "    \n",
    "    #samples\n",
    "    #x = np.linspace(xmin, xmax, 200)\n",
    "    #stepsize \n",
    "    #x = np.arange(xmin, xmax, 0.1)\n",
    "\n",
    "    border = []\n",
    "    xList = np.linspace(xmin, xmax, 50)\n",
    "    for x in xList:\n",
    "        yList = np.linspace(ymin, ymax, 50)\n",
    "        for y in yList:\n",
    "            out = net.output([x,y])\n",
    "            if out >= 0.5:\n",
    "                border.append([x,y,1]) \n",
    "            else:\n",
    "                border.append([x,y,0])\n",
    "\n",
    "    border = np.array(border)\n",
    "    solutionX = border[:, [0,1]]\n",
    "    solutionT = border[:, [2]]\n",
    "    #plot_points(solutionX, solutionT)\n",
    "    plot_zone(solutionX, solutionT)\n",
    "    plot_points(X, T,m=\"o\")\n",
    "    \n",
    "    #x, y = zip(*border)\n",
    "    #plt.scatter(x,y)\n",
    "    plt.title(\"Solution boundary\")\n",
    "    plt.savefig(filename)\n",
    "    \n",
    "def view(p,xmin,xmax,ymin,ymax):\n",
    "    more=1\n",
    "\n",
    "    border = []\n",
    "    xList = np.linspace(xmin, xmax, 50)\n",
    "    for x in xList:\n",
    "        yList = np.linspace(ymin, ymax, 50)\n",
    "        for y in yList:\n",
    "            out = p.output([x,y])\n",
    "            if out >= 0.5:\n",
    "                border.append([x,y,1]) \n",
    "            else:\n",
    "                border.append([x,y,0])\n",
    "\n",
    "    border = np.array(border)\n",
    "    solutionX = border[:, [0,1]]\n",
    "    solutionT = border[:, [2]]\n",
    "    #plot_points(solutionX, solutionT)\n",
    "    plot_zone(solutionX, solutionT)\n",
    "    #plot_points(X, T,m=\"o\")\n",
    "    \n",
    "    #x, y = zip(*border)\n",
    "    #plt.scatter(x,y)\n",
    "    #plt.savefig(filename)        "
   ]
  },
  {
   "cell_type": "code",
   "execution_count": 3,
   "metadata": {},
   "outputs": [],
   "source": [
    "# Loss (cross entropy) error function\n",
    "def error(t, output):\n",
    "    return - t*np.log(output) - (1 - t) * np.log(1-output)\n",
    "\n",
    "# Activation (sigmoid) function\n",
    "def sigmoid(x):\n",
    "    return 1 / (1 + np.exp(-x))\n",
    "\n",
    "class Perceptron:\n",
    "    def __init__(self, w=[], activation = None, alpha = 0.01, label = None):\n",
    "        self.label = label\n",
    "        self.w = np.array(w)\n",
    "        self.x = np.zeros(self.w.shape[0])\n",
    "        self.activation = activation\n",
    "        self.alpha = alpha\n",
    "\n",
    "    def output(self,x):\n",
    "        self.h = self.activation(self.zh(x))\n",
    "        return self.h\n",
    "\n",
    "    def zh(self,x):\n",
    "        #add 'fake' 1 value to x list for bias correspondence\n",
    "        self.x = np.append(x,1)\n",
    "        self.net = np.dot(self.x, self.w)\n",
    "        return self.net\n",
    "\n",
    "    def update(self,de_dw):\n",
    "        self.w = self.w - de_dw * self.alpha\n",
    "\n",
    "#gradients of weights\n",
    "def gradients(net, t, x):\n",
    "    t = t[0]\n",
    "    x1 = x[0]\n",
    "    x2 = x[1]    \n",
    "    \n",
    "    h1 = net.h1\n",
    "    h2 = net.h2\n",
    "    out = net.out\n",
    "    w5 = net.p3.w[0]\n",
    "    w6 = net.p3.w[1]    \n",
    "    \n",
    "    dE_dw1 = w5*x1*h1*(1-h1)*(out-t)\n",
    "    dE_dw2 = w6*x1*h1*(1-h2)*(out-t) \n",
    "    dE_dw3 = w5*x2*h1*(1-h1)*(out-t)\n",
    "    dE_dw4 = w6*x2*h1*(1-h2)*(out-t)\n",
    "    dE_db1 = (out-t)*(w5*h1*(1-h1) +w6*h2*(1-h2))\n",
    "    dE_dw5 = h1*(out-t)\n",
    "    dE_dw6 = h2*(out-t)\n",
    "    dE_db2 = out-t\n",
    "    return [dE_dw1,dE_dw2,dE_dw3,dE_dw4,dE_dw5,dE_dw6,dE_db1,dE_db2]\n",
    "\n",
    "class Net:\n",
    "    def __init__(self,alpha = 0.01):\n",
    "        self.alpha = alpha\n",
    "        self.p1 = Perceptron([0,0,0],sigmoid,alpha,1)\n",
    "        self.p2 = Perceptron([0,0,0],sigmoid,alpha,1)\n",
    "        self.p3 = Perceptron([0,0,0],sigmoid,alpha,1)\n",
    "\n",
    "    #forward = process output\n",
    "    def output(self,x):\n",
    "        self.h1 = self.p1.output(x)\n",
    "        self.h2 = self.p2.output(x)\n",
    "        self.out = self.p3.output(np.array([self.h1, self.h2]))\n",
    "        return self.out\n",
    "\n",
    "    #adjust weights\n",
    "    def backward(self,g):\n",
    "        dw1 = g[0]\n",
    "        dw2 = g[1]\n",
    "        dw3 = g[2]\n",
    "        dw4 = g[3]\n",
    "        dw5 = g[4]\n",
    "        dw6 = g[5]\n",
    "        db1 = g[6]\n",
    "        db2 = g[7]\n",
    "        self.p1.update(np.array([dw1,dw3,db1]))\n",
    "        self.p2.update(np.array([dw2,dw4,db1]))\n",
    "        self.p3.update(np.array([dw5,dw6,db2]))\n",
    "        \n",
    "    def train(self,epochs):    \n",
    "        self.errList = []\n",
    "    \n",
    "        for i in range(epochs):\n",
    "            totalError = 0\n",
    "            for x, t in zip(X, T):\n",
    "\n",
    "                out = net.output(x)\n",
    "\n",
    "                #compute error\n",
    "                e = error(t,out)\n",
    "                totalError += e\n",
    "\n",
    "                de_dw = gradients(net, t, x)\n",
    "                net.backward(de_dw)\n",
    "\n",
    "            self.errList.append(totalError)\n",
    "        \n",
    "        return self.errList"
   ]
  },
  {
   "cell_type": "code",
   "execution_count": 4,
   "metadata": {},
   "outputs": [],
   "source": [
    "data = np.array([\n",
    "    [1,10,1],\n",
    "    [3,10,0],\n",
    "    [1.8,2.0,0],\n",
    "    [0,6,0],\n",
    "    [-1,-1,1],\n",
    "    [-2,10,1],\n",
    "])\n",
    "\n",
    "X = data[:, [0,1]]\n",
    "T = data[:, [2]]\n",
    "\n",
    "datamin = np.min(X, axis=0)\n",
    "datamax = np.max(X, axis=0)\n",
    "xmin, ymin = datamin\n",
    "xmax, ymax = datamax"
   ]
  },
  {
   "cell_type": "code",
   "execution_count": 5,
   "metadata": {},
   "outputs": [
    {
     "data": {
      "image/png": "[encoded data removed]",
      "text/plain": [
       "<Figure size 432x288 with 1 Axes>"
      ]
     },
     "metadata": {
      "needs_background": "light"
     },
     "output_type": "display_data"
    },
    {
     "data": {
      "image/png": "[encoded data removed]",
      "text/plain": [
       "<Figure size 432x288 with 1 Axes>"
      ]
     },
     "metadata": {
      "needs_background": "light"
     },
     "output_type": "display_data"
    },
    {
     "data": {
      "image/png": "[encoded data removed]",
      "text/plain": [
       "<Figure size 432x288 with 1 Axes>"
      ]
     },
     "metadata": {
      "needs_background": "light"
     },
     "output_type": "display_data"
    },
    {
     "data": {
      "image/png": "[encoded data removed]",
      "text/plain": [
       "<Figure size 432x288 with 1 Axes>"
      ]
     },
     "metadata": {
      "needs_background": "light"
     },
     "output_type": "display_data"
    },
    {
     "name": "stdout",
     "output_type": "stream",
     "text": [
      "final loss [1.96336383]\n"
     ]
    }
   ],
   "source": [
    "#iterations\n",
    "epochs = 1000\n",
    "\n",
    "#learn rate\n",
    "alpha = 0.01\n",
    "\n",
    "#weights\n",
    "w1 = 1\n",
    "w2 = 1\n",
    "w3 = 1\n",
    "w4 = 1\n",
    "w5 = 1\n",
    "w6 = 10 \n",
    "\n",
    "#bias\n",
    "b1 = 1\n",
    "b2 = 1\n",
    "\n",
    "net = Net(alpha)\n",
    "net.p1.w = [w1,w3,b1]\n",
    "net.p2.w = [w2,w4,b1]\n",
    "net.p3.w = [w5,w6,b2]\n",
    "errList = net.train(epochs)\n",
    "\n",
    "view(net.p1,xmin,xmax,ymin,ymax)\n",
    "plt.title(\"perceptron 1\")\n",
    "plt.show()\n",
    "view(net.p2,xmin,xmax,ymin,ymax)\n",
    "plt.title(\"perceptron 2\")\n",
    "plt.show()\n",
    "\n",
    "boundary(net,xmin,xmax,ymin,ymax,X,T,'boundary1.png')\n",
    "\n",
    "pd.DataFrame(errList, columns=['error']).plot()\n",
    "plt.savefig(\"errors1.png\")\n",
    "plt.show()\n",
    "\n",
    "print(\"final loss\", errList[len(errList)-1])"
   ]
  },
  {
   "cell_type": "code",
   "execution_count": 6,
   "metadata": {},
   "outputs": [
    {
     "data": {
      "image/png": "[encoded data removed]",
      "text/plain": [
       "<Figure size 432x288 with 1 Axes>"
      ]
     },
     "metadata": {
      "needs_background": "light"
     },
     "output_type": "display_data"
    },
    {
     "data": {
      "image/png": "[encoded data removed]",
      "text/plain": [
       "<Figure size 432x288 with 1 Axes>"
      ]
     },
     "metadata": {
      "needs_background": "light"
     },
     "output_type": "display_data"
    },
    {
     "name": "stdout",
     "output_type": "stream",
     "text": [
      "final state\n",
      "[-1.47127436  0.96721716 -6.78865103]\n",
      "[ 1.98064678  2.19530033 -6.78865103]\n",
      "[11.24433614 -9.65260675  3.47993887]\n"
     ]
    },
    {
     "data": {
      "image/png": "[encoded data removed]",
      "text/plain": [
       "<Figure size 432x288 with 1 Axes>"
      ]
     },
     "metadata": {
      "needs_background": "light"
     },
     "output_type": "display_data"
    },
    {
     "data": {
      "image/png": "[encoded data removed]",
      "text/plain": [
       "<Figure size 432x288 with 1 Axes>"
      ]
     },
     "metadata": {
      "needs_background": "light"
     },
     "output_type": "display_data"
    },
    {
     "name": "stdout",
     "output_type": "stream",
     "text": [
      "final loss [0.17809965]\n"
     ]
    }
   ],
   "source": [
    "#iterations\n",
    "epochs = 10000\n",
    "\n",
    "#learn rate\n",
    "alpha = 0.01\n",
    "\n",
    "#weights\n",
    "w1 = 1\n",
    "w2 = 1\n",
    "w3 = 1\n",
    "w4 = 1\n",
    "w5 = 1\n",
    "w6 = -10\n",
    "\n",
    "#bias\n",
    "b1 = 1\n",
    "b2 = 1\n",
    "\n",
    "net = Net(alpha)\n",
    "net.p1.w = [w1,w3,b1]\n",
    "net.p2.w = [w2,w4,b1]\n",
    "net.p3.w = [w5,w6,b2]\n",
    "errList = net.train(epochs)\n",
    "\n",
    "view(net.p1,xmin,xmax,ymin,ymax)\n",
    "plt.title(\"perceptron 1\")\n",
    "plt.show()\n",
    "view(net.p2,xmin,xmax,ymin,ymax)\n",
    "plt.title(\"perceptron 2\")\n",
    "plt.show()\n",
    "\n",
    "print(\"final state\")\n",
    "print(net.p1.w)\n",
    "print(net.p2.w)\n",
    "print(net.p3.w)\n",
    "\n",
    "#for x, t in zip(X, T):\n",
    "#    out = net.output(x)\n",
    "#    print(x,out,t)\n",
    "\n",
    "boundary(net,xmin,xmax,ymin,ymax,X,T,'boundary2.png')    \n",
    "          \n",
    "pd.DataFrame(errList, columns=['error']).plot()\n",
    "plt.savefig(\"errors2.png\")\n",
    "plt.show()\n",
    "\n",
    "print(\"final loss\", errList[len(errList)-1])"
   ]
  },
  {
   "cell_type": "code",
   "execution_count": null,
   "metadata": {},
   "outputs": [],
   "source": []
  },
  {
   "cell_type": "code",
   "execution_count": null,
   "metadata": {},
   "outputs": [],
   "source": []
  },
  {
   "cell_type": "code",
   "execution_count": null,
   "metadata": {},
   "outputs": [],
   "source": []
  }
 ],
 "metadata": {
  "kernelspec": {
   "display_name": "Python 3",
   "language": "python",
   "name": "python3"
  },
  "language_info": {
   "codemirror_mode": {
    "name": "ipython",
    "version": 3
   },
   "file_extension": ".py",
   "mimetype": "text/x-python",
   "name": "python",
   "nbconvert_exporter": "python",
   "pygments_lexer": "ipython3",
   "version": "3.5.3"
  }
 },
 "nbformat": 4,
 "nbformat_minor": 2
}

{
 "cells": [
  {
   "cell_type": "markdown",
   "metadata": {},
   "source": [
    "<h3 style=\"text-align: center\">MNIST dataset training (I)</h3>\n",
    "<h4 style=\"text-align: center\">fully-connected network - pytorch</h4>"
   ]
  },
  {
   "cell_type": "code",
   "execution_count": 4,
   "metadata": {},
   "outputs": [],
   "source": [
    "import torch\n",
    "from torch import nn\n",
    "import torch.nn.functional as F\n",
    "from torchvision import datasets, transforms\n",
    "from torch import optim\n",
    "import matplotlib.pyplot as plt\n",
    "\n",
    "import time\n",
    "\n",
    "# Define a transform to normalize the data\n",
    "transform = transforms.Compose([transforms.ToTensor(),\n",
    "                                #transforms.Normalize((0.5, 0.5, 0.5), (0.5, 0.5, 0.5)), #if color\n",
    "                                transforms.Normalize((0.5,), (0.5,)),\n",
    "                              ])\n",
    "\n",
    "\n",
    "# Download and load the training data\n",
    "trainset = datasets.MNIST('~/.pytorch/MNIST_data/', download=True, train=True, transform=transform)\n",
    "trainloader = torch.utils.data.DataLoader(trainset, batch_size=64, shuffle=True)"
   ]
  },
  {
   "cell_type": "markdown",
   "metadata": {},
   "source": [
    "<p>Compose creates a series of transformation to prepare the dataset.</p> \n",
    "<p>Torchvision reads datasets into PILImage (Python imaging format).</p> \n",
    "<p>ToTensor converts the PIL Image from range [0, 255] to a FloatTensor of shape (C x H x W) with range [0.0, 1.0].</p> \n",
    "<p>We then renormalize the input to [-1, 1] based on the following formula with μ=standard deviation=0.5.</p>"
   ]
  },
  {
   "cell_type": "code",
   "execution_count": 5,
   "metadata": {},
   "outputs": [],
   "source": [
    "#dataiter = iter(trainloader)\n",
    "#images, labels = dataiter.next()\n",
    "#print(type(images))\n",
    "#print(images.shape)\n",
    "#print(labels.shape)\n",
    "#%matplotlib inline\n",
    "#print(\"labels\",labels)\n",
    "#plt.imshow(images[1].numpy().squeeze(), cmap='Greys_r');      "
   ]
  },
  {
   "cell_type": "code",
   "execution_count": 6,
   "metadata": {},
   "outputs": [],
   "source": [
    "#model = nn.Sequential(nn.Linear(784, 128),\n",
    "#                      nn.ReLU(),\n",
    "#                      nn.Linear(128, 64),\n",
    "#                      nn.ReLU(),\n",
    "#                      nn.Linear(64, 10),\n",
    "#                      nn.LogSoftmax(dim=1))\n",
    "\n",
    "#criterion = nn.NLLLoss()\n",
    "#optimizer = optim.SGD(model.parameters(), lr=0.003)\n",
    "\n",
    "# Use GPU if it's available\n",
    "#device = torch.device(\"cuda\" if torch.cuda.is_available() else \"cpu\")\n",
    "#print(\"using:\",device)\n",
    "\n",
    "#for device in ['cpu', 'cuda']:\n",
    "\n",
    "#    start = time.time()\n",
    "    \n",
    "#    model.to(device)\n",
    "    \n",
    "#    epochs = 3\n",
    "#    for e in range(epochs):\n",
    "#        print(\"epoch\",e)\n",
    "#        running_loss = 0\n",
    "#        for images, labels in trainloader:\n",
    "            #images = images.to(device)\n",
    "            #labels = labels.to(device)\n",
    "#            images, labels = images.to(device), labels.to(device)        \n",
    "            \n",
    "            # Flatten MNIST images into a 784 long vector\n",
    "#            images = images.view(images.shape[0], -1)\n",
    "    \n",
    "            # TODO: Training pass\n",
    "#            optimizer.zero_grad()\n",
    "         \n",
    "#            output = model(images)\n",
    "#            loss = criterion(output, labels)\n",
    "       \n",
    "#            loss.backward()\n",
    "#            optimizer.step()\n",
    "        \n",
    "#            running_loss += loss.item()\n",
    "#        else:\n",
    "#            print(\"Training loss:\", running_loss/len(trainloader))\n",
    "#            print(loss)\n",
    "\n",
    "#    print(\"==>\",device, time.time() - start)"
   ]
  },
  {
   "cell_type": "code",
   "execution_count": 8,
   "metadata": {},
   "outputs": [
    {
     "name": "stdout",
     "output_type": "stream",
     "text": [
      "using: cuda\n",
      "epoch 0\n",
      "Training loss: 1.8353474710795925\n",
      "tensor(1.0960, device='cuda:0', grad_fn=<NllLossBackward>)\n",
      "epoch 1\n",
      "Training loss: 0.7973223469976677\n",
      "tensor(0.5507, device='cuda:0', grad_fn=<NllLossBackward>)\n",
      "epoch 2\n",
      "Training loss: 0.5152868412609802\n",
      "tensor(0.2985, device='cuda:0', grad_fn=<NllLossBackward>)\n",
      "epoch 3\n",
      "Training loss: 0.42452582486593393\n",
      "tensor(0.3563, device='cuda:0', grad_fn=<NllLossBackward>)\n",
      "epoch 4\n",
      "Training loss: 0.3811920700646413\n",
      "tensor(0.4300, device='cuda:0', grad_fn=<NllLossBackward>)\n",
      "epoch 5\n",
      "Training loss: 0.354966407971405\n",
      "tensor(0.2881, device='cuda:0', grad_fn=<NllLossBackward>)\n",
      "epoch 6\n",
      "Training loss: 0.3359381866607585\n",
      "tensor(0.2992, device='cuda:0', grad_fn=<NllLossBackward>)\n",
      "epoch 7\n",
      "Training loss: 0.3210939739320451\n",
      "tensor(0.2612, device='cuda:0', grad_fn=<NllLossBackward>)\n",
      "epoch 8\n",
      "Training loss: 0.30830734365307955\n",
      "tensor(0.5859, device='cuda:0', grad_fn=<NllLossBackward>)\n",
      "epoch 9\n",
      "Training loss: 0.2974940584793782\n",
      "tensor(0.7527, device='cuda:0', grad_fn=<NllLossBackward>)\n"
     ]
    }
   ],
   "source": [
    "model = nn.Sequential(nn.Linear(784, 128),\n",
    "                      nn.ReLU(),\n",
    "                      nn.Linear(128, 64),\n",
    "                      nn.ReLU(),\n",
    "                      nn.Linear(64, 10),\n",
    "                      nn.LogSoftmax(dim=1))\n",
    "\n",
    "criterion = nn.NLLLoss()\n",
    "optimizer = optim.SGD(model.parameters(), lr=0.003)\n",
    "\n",
    "# Use GPU if it's available\n",
    "device = torch.device(\"cuda\" if torch.cuda.is_available() else \"cpu\")\n",
    "print(\"using:\",device)\n",
    "\n",
    "model.to(device)\n",
    "    \n",
    "epochs = 10\n",
    "for e in range(epochs):\n",
    "    print(\"epoch\",e)\n",
    "    running_loss = 0\n",
    "    for images, labels in trainloader:\n",
    "        #images = images.to(device)\n",
    "        #labels = labels.to(device)\n",
    "        images, labels = images.to(device), labels.to(device)        \n",
    "            \n",
    "        # Flatten MNIST images into a 784 long vector\n",
    "        images = images.view(images.shape[0], -1)\n",
    " \n",
    "        # TODO: Training pass\n",
    "        optimizer.zero_grad()\n",
    "         \n",
    "        output = model(images)\n",
    "        loss = criterion(output, labels)\n",
    "       \n",
    "        loss.backward()\n",
    "        optimizer.step()\n",
    "        \n",
    "        running_loss += loss.item()\n",
    "    else:\n",
    "        print(\"Training loss:\", running_loss/len(trainloader))\n",
    "        print(loss)\n"
   ]
  },
  {
   "cell_type": "code",
   "execution_count": 9,
   "metadata": {},
   "outputs": [],
   "source": [
    "model.to(\"cpu\")\n",
    "images, labels = images.to(\"cpu\"), labels.to(\"cpu\")"
   ]
  },
  {
   "cell_type": "code",
   "execution_count": 10,
   "metadata": {},
   "outputs": [],
   "source": [
    "#model.state_dict().keys()\n",
    "torch.save(model.state_dict(), 'checkpoint-mnist-10.pth')\n",
    "#state_dict = torch.load('checkpoint1-dropout.pth')\n",
    "#print(state_dict.keys())\n",
    "#model.load_state_dict(state_dict)"
   ]
  },
  {
   "cell_type": "code",
   "execution_count": 11,
   "metadata": {},
   "outputs": [
    {
     "data": {
      "image/png": "[encoded data removed]",
      "text/plain": [
       "<Figure size 432x648 with 2 Axes>"
      ]
     },
     "metadata": {
      "needs_background": "light"
     },
     "output_type": "display_data"
    }
   ],
   "source": [
    "%matplotlib inline\n",
    "import helper\n",
    "\n",
    "images, labels = next(iter(trainloader))\n",
    "\n",
    "# flatten structure above\n",
    "img = images[0].view(1, 784)\n",
    "# Turn off gradients to speed up this part\n",
    "with torch.no_grad():\n",
    "    logps = model(img)\n",
    "\n",
    "# Output of the network are log-probabilities, need to take exponential for probabilities\n",
    "# get back softmax without log\n",
    "ps = torch.exp(logps)\n",
    "helper.view_classify(img.view(1, 28, 28), ps)"
   ]
  },
  {
   "cell_type": "markdown",
   "metadata": {},
   "source": [
    "<p>Reference:</p>\n",
    "    \n",
    "<a href='https://www.udacity.com/course/deep-learning-pytorch--ud188'>Udacity: Intro to deep learning with PyTorch</a>"
   ]
  },
  {
   "cell_type": "code",
   "execution_count": null,
   "metadata": {},
   "outputs": [],
   "source": []
  }
 ],
 "metadata": {
  "kernelspec": {
   "display_name": "Python 3",
   "language": "python",
   "name": "python3"
  },
  "language_info": {
   "codemirror_mode": {
    "name": "ipython",
    "version": 3
   },
   "file_extension": ".py",
   "mimetype": "text/x-python",
   "name": "python",
   "nbconvert_exporter": "python",
   "pygments_lexer": "ipython3",
   "version": "3.7.1"
  }
 },
 "nbformat": 4,
 "nbformat_minor": 2
}

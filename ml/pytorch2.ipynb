{
 "cells": [
  {
   "cell_type": "markdown",
   "metadata": {},
   "source": [
    "<h3 style=\"text-align: center\">Linear regression with PyTorch</h3>"
   ]
  },
  {
   "cell_type": "code",
   "execution_count": 1,
   "metadata": {},
   "outputs": [],
   "source": [
    "import torch\n",
    "from torch.autograd import Variable\n",
    "import numpy as np\n",
    "import matplotlib.pyplot as plt"
   ]
  },
  {
   "cell_type": "markdown",
   "metadata": {},
   "source": [
    "<p>Least square sum</p>\n",
    "\n",
    "$\n",
    "m=\\frac { \\overline { xy } -\\overline { x } \\times \\overline { y }  }{ \\overline { xx } -\\overline { x } \\times \\overline { x }  } \\\\ \n",
    "m=\\frac { \\overline { xy } -\\overline { x } \\times \\overline { y }  }{ \\overline { { x }^{ 2 } } -     { \\left( \\overline { x }  \\right)  }^{ 2 } }\\quad\n",
    "$\n",
    "\n",
    "$\n",
    "point\\quad (\\overline { x } ,\\overline { y } )\\quad \\in \\quad regression\\quad line,\\quad\\\\\n",
    "\\overline { x } ,\\overline { y } \\quad are\\quad means(averages)\\quad of\\quad x, y\\quad values\n",
    "$\n",
    "\n",
    "so\n",
    "\n",
    "$\n",
    "b=\\overline { y } -m\\overline { x }\\quad\n",
    "$\n"
   ]
  },
  {
   "cell_type": "markdown",
   "metadata": {},
   "source": [
    "Least square sum with numpy"
   ]
  },
  {
   "cell_type": "code",
   "execution_count": 17,
   "metadata": {},
   "outputs": [
    {
     "name": "stdout",
     "output_type": "stream",
     "text": [
      "m(slope)= 1.3121387283236994 n(y-intercept)= 3.011560693641619\n"
     ]
    },
    {
     "data": {
      "image/png": "[encoded data removed]",
      "text/plain": [
       "<Figure size 432x288 with 1 Axes>"
      ]
     },
     "metadata": {
      "needs_background": "light"
     },
     "output_type": "display_data"
    }
   ],
   "source": [
    "class reg_lin:\n",
    "    def __init__(self,data):\n",
    "        self.data = data\n",
    "        self.line()\n",
    "\n",
    "    def line(self):\n",
    "        #transpose data\n",
    "        x, y = self.data.T\n",
    "\n",
    "        xy = np.multiply(x,y)\n",
    "        xx = np.multiply(x,x)\n",
    "\n",
    "        x_m = np.mean(x)\n",
    "        y_m = np.mean(y)\n",
    "        xy_m = np.mean(xy)\n",
    "        xx_m = np.mean(xx)\n",
    "\n",
    "        m = (xy_m - x_m * y_m )/(xx_m - x_m * x_m)\n",
    "        n = y_m - m * x_m\n",
    "\n",
    "        self.m = m\n",
    "        self.n = n\n",
    "\n",
    "        return(m,n)\n",
    "    \n",
    "data = np.array([\n",
    "    [1, 2],\n",
    "    [1,10],\n",
    "    [2, 3],\n",
    "    [3, 6],\n",
    "    [5, 8],\n",
    "    [7, 14]\n",
    "])\n",
    "\n",
    "x, y = data.T\n",
    "\n",
    "plt.scatter(x,y)\n",
    "\n",
    "line=reg_lin(data)\n",
    "m=line.m\n",
    "n=line.n\n",
    "print(\"m(slope)=\",m,\"n(y-intercept)=\",n)  \n",
    "\n",
    "plt.plot(x, m*x+n)\n",
    "\n",
    "plt.show()"
   ]
  },
  {
   "cell_type": "markdown",
   "metadata": {},
   "source": [
    "Least square sum with pytorch"
   ]
  },
  {
   "cell_type": "code",
   "execution_count": 3,
   "metadata": {},
   "outputs": [
    {
     "name": "stdout",
     "output_type": "stream",
     "text": [
      "m(slope)= tensor(1.3121) n(y-intercept)= 3.011560693641619\n"
     ]
    }
   ],
   "source": [
    "points = torch.from_numpy(data)\n",
    "#mean_x_y = torch.mean(points.float(),dim=0)\n",
    "X = points[:,0:1].float()\n",
    "Y = points[:,1:2].float()\n",
    "\n",
    "m = (torch.mean(X*Y)-torch.mean(X)*torch.mean(Y))/(torch.mean(X*X)-torch.mean(X)*torch.mean(X))\n",
    "b = torch.mean(Y) - m* torch.mean(X)\n",
    "print(\"m(slope)=\",m,\"n(y-intercept)=\",n)"
   ]
  },
  {
   "cell_type": "markdown",
   "metadata": {},
   "source": [
    "Gradients with pytorch"
   ]
  },
  {
   "cell_type": "code",
   "execution_count": 19,
   "metadata": {},
   "outputs": [
    {
     "name": "stdout",
     "output_type": "stream",
     "text": [
      "loss= tensor(51.1911, dtype=torch.float64, grad_fn=<SumBackward0>)\n",
      "m(slope)= 1.314902665034697 n(y-intercept)= 2.9988840248119235\n"
     ]
    },
    {
     "data": {
      "image/png": "[encoded data removed]",
      "text/plain": [
       "<Figure size 432x288 with 1 Axes>"
      ]
     },
     "metadata": {
      "needs_background": "light"
     },
     "output_type": "display_data"
    }
   ],
   "source": [
    "m = Variable(torch.randn(1, 1, dtype=torch.double), requires_grad=True)\n",
    "n = Variable(torch.randn(1, 1, dtype=torch.double), requires_grad=True)\n",
    "\n",
    "X = points[:,0:1].double()\n",
    "Y = points[:,1:2].double()\n",
    "\n",
    "alpha = 0.01\n",
    "epochs = 150\n",
    "\n",
    "lossHistory = []\n",
    "\n",
    "for i in range(epochs):\n",
    "    prediction = m*X + n\n",
    "    loss = torch.sum((prediction - Y)**2)\n",
    "    \n",
    "    lossHistory.append(loss)\n",
    "    \n",
    "    loss.backward()\n",
    "\n",
    "    last_m = m.data.numpy()[0].copy()\n",
    "    last_n = n.data.numpy()[0].copy()\n",
    "    #solutionHistory.append([last_w,last_b])    \n",
    "    \n",
    "    with torch.no_grad():\n",
    "        m -= alpha * m.grad\n",
    "        n -= alpha * n.grad\n",
    "\n",
    "        # Manually zero the gradients after updating weights\n",
    "        m.grad.zero_()\n",
    "        n.grad.zero_()\n",
    "\n",
    "print(\"loss=\",loss)  \n",
    "print(\"m(slope)=\",last_m[0],\"n(y-intercept)=\",last_n[0])\n",
    "\n",
    "# Plotting the loss (error)\n",
    "plt.title(\"Loss Plot\")\n",
    "plt.xlabel('Number of epochs')\n",
    "plt.ylabel('Loss')\n",
    "plt.plot(lossHistory)\n",
    "plt.show() "
   ]
  },
  {
   "cell_type": "markdown",
   "metadata": {},
   "source": [
    "Pytorch - predefined Linear model"
   ]
  },
  {
   "cell_type": "code",
   "execution_count": 10,
   "metadata": {},
   "outputs": [
    {
     "data": {
      "text/plain": [
       "[('linear.weight', Parameter containing:\n",
       "  tensor([[-0.2485]], requires_grad=True)),\n",
       " ('linear.bias', Parameter containing:\n",
       "  tensor([0.5724], requires_grad=True))]"
      ]
     },
     "execution_count": 10,
     "metadata": {},
     "output_type": "execute_result"
    }
   ],
   "source": [
    "#alpha = 2; beta=3\n",
    "#x = np.linspace(0, 4, 100)\n",
    "#y = alpha * x + beta + np.random.randn(100) * 0.3\n",
    "#print(x)\n",
    "x = x.reshape(-1,1) # convert to column vectors\n",
    "y = y.reshape(-1,1)\n",
    "\n",
    "class LinearRegressionModel(torch.nn.Module):\n",
    "    def __init__(self, input_dim, output_dim):\n",
    "        super(LinearRegressionModel, self).__init__()\n",
    "        self.linear = torch.nn.Linear(input_dim, output_dim)\n",
    "    \n",
    "    def forward(self, x):\n",
    "        out = self.linear(x)\n",
    "        return out\n",
    "    \n",
    "model = LinearRegressionModel(input_dim=1, output_dim=1)  \n",
    "\n",
    "criterion = torch.nn.MSELoss()\n",
    "optimizer = torch.optim.SGD(model.parameters(),lr=0.01)\n",
    "\n",
    "inputs = Variable(torch.from_numpy(x.astype('float32')))\n",
    "labels = Variable(torch.from_numpy(y.astype('float32')))\n",
    "\n",
    "list(model.named_parameters())"
   ]
  },
  {
   "cell_type": "code",
   "execution_count": 15,
   "metadata": {},
   "outputs": [
    {
     "name": "stdout",
     "output_type": "stream",
     "text": [
      "[('linear.weight', Parameter containing:\n",
      "tensor([[1.3138]], requires_grad=True)), ('linear.bias', Parameter containing:\n",
      "tensor([3.0041], requires_grad=True))]\n",
      "tensor(8.5318, grad_fn=<MseLossBackward>)\n",
      "------\n",
      "0 -> ('', LinearRegressionModel(\n",
      "  (linear): Linear(in_features=1, out_features=1, bias=True)\n",
      "))\n",
      "1 -> ('linear', Linear(in_features=1, out_features=1, bias=True))\n",
      "1.3137711 3.004074\n"
     ]
    }
   ],
   "source": [
    "for epoch in range(350):\n",
    "    #1. clear gradients w.r.t. parameters\n",
    "    optimizer.zero_grad()\n",
    "    #2. forward to get output\n",
    "    outputs = model(inputs)\n",
    "    #3 calculate loss (scalar value)\n",
    "    loss = criterion(outputs, labels)\n",
    "    #4 calculate gradients w.r.t. parmanters\n",
    "    loss.backward()\n",
    "    #5 updating parameters\n",
    "    optimizer.step()\n",
    "    \n",
    "#inspect learned parameters\n",
    "result = list(model.named_parameters()) \n",
    "print(result)\n",
    "print(loss)\n",
    "print(\"------\")\n",
    "\n",
    "#inspect network modules/layers\n",
    "for idx, m in enumerate(model.named_modules()):\n",
    "    print(idx, '->', m)\n",
    "    \n",
    "m = model.linear.weight.data.numpy()[0][0]\n",
    "b = model.linear.bias.data.numpy()[0]\n",
    "print(m,b)    "
   ]
  },
  {
   "cell_type": "code",
   "execution_count": 16,
   "metadata": {},
   "outputs": [
    {
     "name": "stdout",
     "output_type": "stream",
     "text": [
      "m(slope)= 1.3137711 b(y-intercept)= 3.004074\n"
     ]
    },
    {
     "data": {
      "image/png": "[encoded data removed]",
      "text/plain": [
       "<Figure size 432x288 with 1 Axes>"
      ]
     },
     "metadata": {
      "needs_background": "light"
     },
     "output_type": "display_data"
    }
   ],
   "source": [
    "def display(m, b, color='g--'):\n",
    "    xmin = 0; xmax = 4\n",
    "    ymin = 0; ymax = 12\n",
    "    more = 1\n",
    "    #plt.xlim(-0.05,1.05)\n",
    "    #plt.ylim(-0.05,1.05)\n",
    "    #plt.xlim(xmin-more,xmax+more)\n",
    "    #plt.ylim(ymin-more,ymax+more)    \n",
    "    x = np.arange(-10, 10, 0.1)\n",
    "    plt.plot(x, m*x+b, color,zorder=1)\n",
    "\n",
    "\n",
    "print(\"m(slope)=\",m,\"b(y-intercept)=\",b)    \n",
    "plt.scatter(x,y)\n",
    "display(m,b)\n",
    "plt.show()"
   ]
  },
  {
   "cell_type": "code",
   "execution_count": null,
   "metadata": {},
   "outputs": [],
   "source": []
  },
  {
   "cell_type": "code",
   "execution_count": null,
   "metadata": {},
   "outputs": [],
   "source": []
  }
 ],
 "metadata": {
  "kernelspec": {
   "display_name": "Python 3",
   "language": "python",
   "name": "python3"
  },
  "language_info": {
   "codemirror_mode": {
    "name": "ipython",
    "version": 3
   },
   "file_extension": ".py",
   "mimetype": "text/x-python",
   "name": "python",
   "nbconvert_exporter": "python",
   "pygments_lexer": "ipython3",
   "version": "3.5.3"
  }
 },
 "nbformat": 4,
 "nbformat_minor": 2
}

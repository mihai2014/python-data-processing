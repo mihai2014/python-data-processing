{
 "cells": [
  {
   "cell_type": "markdown",
   "metadata": {},
   "source": [
    "<h3 style=\"text-align: center\">Non-linear boundary</h3>\n",
    "<h4 style=\"text-align: center\">1-hidden layer NN PyTorch<h4>"
   ]
  },
  {
   "cell_type": "code",
   "execution_count": 1,
   "metadata": {},
   "outputs": [],
   "source": [
    "import torch\n",
    "from torch.autograd import Variable\n",
    "import numpy as np\n",
    "import matplotlib.pyplot as plt"
   ]
  },
  {
   "cell_type": "code",
   "execution_count": 2,
   "metadata": {},
   "outputs": [],
   "source": [
    "def plot_points(X, y, m=\"_\"):\n",
    "    admitted = X[np.argwhere(y==1)]\n",
    "    rejected = X[np.argwhere(y==0)]\n",
    "    plt.scatter([s[0][0] for s in admitted], [s[0][1] for s in admitted], s = 25, color = 'blue', edgecolor = 'k',zorder=2, marker=m)\n",
    "    plt.scatter([s[0][0] for s in rejected], [s[0][1] for s in rejected], s = 25, color = 'red', edgecolor = 'k',zorder=2, marker=m )\n",
    "\n",
    "def plot_zone(X, y):\n",
    "    admitted = X[np.argwhere(y==1)]\n",
    "    rejected = X[np.argwhere(y==0)]\n",
    "    plt.scatter([s[0][0] for s in admitted], [s[0][1] for s in admitted], s = 25, color = 'blue', edgecolor = 'k',zorder=2, marker=\"+\")\n",
    "    plt.scatter([s[0][0] for s in rejected], [s[0][1] for s in rejected], s = 25, color = 'red', edgecolor = 'k',zorder=2, marker=\"_\" )  \n",
    "\n",
    "def net(features):\n",
    "    h = activation(torch.mm(features, W1) + B1)\n",
    "    output = activation(torch.mm(h, W2) + B2)\n",
    "    return output\n",
    "\n",
    "def view(points,target):\n",
    "\n",
    "    datamin = np.min(points, axis=0)\n",
    "    datamax = np.max(points, axis=0)\n",
    "    xmin, ymin = datamin\n",
    "    xmax, ymax = datamax    \n",
    "       \n",
    "    border = []\n",
    "    xList = np.linspace(xmin, xmax, 50)\n",
    "    for x in xList:\n",
    "        yList = np.linspace(ymin, ymax, 50)\n",
    "        for y in yList:\n",
    "            out = net(torch.Tensor([[x,y]]).double())\n",
    "            if out >= 0.5:\n",
    "                border.append([x,y,1]) \n",
    "            else:\n",
    "                border.append([x,y,0])\n",
    "\n",
    "    #print(border)\n",
    "    border = np.array(border)\n",
    "    solutionX = border[:, [0,1]]\n",
    "    solutionT = border[:, [2]]\n",
    "    plot_zone(solutionX, solutionT)\n",
    "\n",
    "    plot_points(points, target,m=\"o\")  "
   ]
  },
  {
   "cell_type": "code",
   "execution_count": 3,
   "metadata": {},
   "outputs": [],
   "source": [
    "data = np.array([\n",
    "    [1,10,1],\n",
    "    [3,10,0],\n",
    "    [1.8,2.0,0],\n",
    "    [0,6,0],\n",
    "    [-1,-1,1],\n",
    "    [-2,10,1],\n",
    "])\n",
    "\n",
    "points = data[:, [0,1]]\n",
    "target = data[:, [2]]\n",
    "\n",
    "T = torch.from_numpy(target)#.double()\n",
    "features = torch.from_numpy(points).double()  #.float()"
   ]
  },
  {
   "cell_type": "code",
   "execution_count": 4,
   "metadata": {},
   "outputs": [
    {
     "name": "stdout",
     "output_type": "stream",
     "text": [
      "tensor(0.8859, dtype=torch.float64, grad_fn=<SumBackward0>)\n"
     ]
    },
    {
     "data": {
      "image/png": "[encoded data removed]",
      "text/plain": [
       "<Figure size 432x288 with 1 Axes>"
      ]
     },
     "metadata": {
      "needs_background": "light"
     },
     "output_type": "display_data"
    }
   ],
   "source": [
    "#sigmoid\n",
    "def sigmoid(x):\n",
    "    return 1/(1+torch.exp(-x))\n",
    "\n",
    "activation = sigmoid\n",
    "#activation = torch.nn.Sigmoid()\n",
    "\n",
    "# Loss (cross entropy) error function\n",
    "def error(output, target):\n",
    "    return -target * torch.log(output) - (1-target) * torch.log(1-output)\n",
    "\n",
    "### Generate some data\n",
    "torch.manual_seed(1) # Set the random seed so things are predictable\n",
    "\n",
    "# Define the size of each layer in our network\n",
    "n_input = features.shape[1]     # Number of input units, must match number of input features\n",
    "n_hidden = 20                   # Number of hidden units \n",
    "n_output = 1                    # Number of output units\n",
    "\n",
    "# Weights for inputs to hidden layer\n",
    "W1 = Variable(torch.randn(n_input, n_hidden, dtype=torch.double), requires_grad=True)\n",
    "# Weights for hidden layer to output layer\n",
    "W2 = Variable(torch.randn(n_hidden, n_output, dtype=torch.double), requires_grad=True)\n",
    "\n",
    "# and bias terms for hidden and output layers\n",
    "#B1 = torch.randn((1, n_hidden)).double()\n",
    "B1 = Variable(torch.randn(1, n_hidden, dtype=torch.double), requires_grad=True)\n",
    "#B2 = torch.randn((1, n_output)).double()\n",
    "B2 = Variable(torch.randn(1, n_output, dtype=torch.double), requires_grad=True)\n",
    "\n",
    "#epochs = 16000\n",
    "#alpha = 0.3\n",
    "\n",
    "epochs = 2000\n",
    "alpha = 0.01\n",
    "\n",
    "lossHistory = []\n",
    "\n",
    "for i in range(epochs):\n",
    "    h = activation(torch.mm(features, W1) + B1)\n",
    "    output = activation(torch.mm(h, W2) + B2)\n",
    "\n",
    "    E = error(output,T)\n",
    "    loss = torch.sum(E)\n",
    "\n",
    "    lossHistory.append(loss)\n",
    "    \n",
    "    loss.backward()\n",
    "    \n",
    "    with torch.no_grad():\n",
    "        W1 -= alpha * W1.grad\n",
    "        W2 -= alpha * W2.grad\n",
    "        B1 -= alpha * B1.grad\n",
    "        B2 -= alpha * B2.grad\n",
    "\n",
    "        # Manually zero the gradients after updating weights\n",
    "        W1.grad.zero_()\n",
    "        W2.grad.zero_()\n",
    "        B1.grad.zero_()\n",
    "        B2.grad.zero_()\n",
    "        \n",
    "print(loss)  \n",
    "plt.plot(lossHistory)\n",
    "plt.show() "
   ]
  },
  {
   "cell_type": "code",
   "execution_count": null,
   "metadata": {},
   "outputs": [],
   "source": []
  },
  {
   "cell_type": "code",
   "execution_count": 5,
   "metadata": {},
   "outputs": [
    {
     "data": {
      "image/png": "[encoded data removed]",
      "text/plain": [
       "<Figure size 432x288 with 1 Axes>"
      ]
     },
     "metadata": {
      "needs_background": "light"
     },
     "output_type": "display_data"
    }
   ],
   "source": [
    "view(points,target)"
   ]
  },
  {
   "cell_type": "code",
   "execution_count": null,
   "metadata": {},
   "outputs": [],
   "source": []
  },
  {
   "cell_type": "code",
   "execution_count": null,
   "metadata": {},
   "outputs": [],
   "source": []
  }
 ],
 "metadata": {
  "kernelspec": {
   "display_name": "Python 3",
   "language": "python",
   "name": "python3"
  },
  "language_info": {
   "codemirror_mode": {
    "name": "ipython",
    "version": 3
   },
   "file_extension": ".py",
   "mimetype": "text/x-python",
   "name": "python",
   "nbconvert_exporter": "python",
   "pygments_lexer": "ipython3",
   "version": "3.5.3"
  }
 },
 "nbformat": 4,
 "nbformat_minor": 2
}
